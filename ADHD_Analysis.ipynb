{
  "nbformat": 4,
  "nbformat_minor": 0,
  "metadata": {
    "colab": {
      "name": "ADHD_Analysis.ipynb",
      "provenance": [],
      "collapsed_sections": [
        "_IcbUpTkids0",
        "ors55sd-iDza",
        "ZsCXuHEqVGtz",
        "2meolF6NVMMC"
      ],
      "authorship_tag": "ABX9TyN253jO4ea7B6BbQCChilYC",
      "include_colab_link": true
    },
    "kernelspec": {
      "name": "python3",
      "display_name": "Python 3"
    },
    "language_info": {
      "name": "python"
    }
  },
  "cells": [
    {
      "cell_type": "markdown",
      "metadata": {
        "id": "view-in-github",
        "colab_type": "text"
      },
      "source": [
        "<a href=\"https://colab.research.google.com/github/saipragathi0912/ADHD_analysis/blob/main/ADHD_Analysis.ipynb\" target=\"_parent\"><img src=\"https://colab.research.google.com/assets/colab-badge.svg\" alt=\"Open In Colab\"/></a>"
      ]
    },
    {
      "cell_type": "code",
      "metadata": {
        "colab": {
          "base_uri": "https://localhost:8080/"
        },
        "id": "KpvtuEHwIOkF",
        "outputId": "0ebd2acc-4e2a-42f3-8e83-cc9973295dd2"
      },
      "source": [
        "from google.colab import drive\n",
        "drive.mount('/content/drive/')"
      ],
      "execution_count": null,
      "outputs": [
        {
          "output_type": "stream",
          "name": "stdout",
          "text": [
            "Drive already mounted at /content/drive/; to attempt to forcibly remount, call drive.mount(\"/content/drive/\", force_remount=True).\n"
          ]
        }
      ]
    },
    {
      "cell_type": "code",
      "metadata": {
        "id": "dMHu_B3LdWgf"
      },
      "source": [
        "from sklearn.feature_selection import mutual_info_classif as MIC\n",
        "import warnings\n",
        "import seaborn as sns\n",
        "import os\n",
        "import pandas as pd\n",
        "import numpy as np\n",
        "import matplotlib.pyplot as plt\n",
        "import scipy.io\n",
        "from sklearn.metrics import mutual_info_score,accuracy_score,precision_score,recall_score,f1_score,confusion_matrix\n",
        "from sklearn.model_selection import StratifiedKFold,GridSearchCV\n",
        "from sklearn.preprocessing import StandardScaler\n",
        "from sklearn.decomposition import PCA\n",
        "from sklearn.linear_model import Perceptron\n",
        "from sklearn.linear_model import LogisticRegression\n",
        "from sklearn.neighbors import KNeighborsClassifier\n",
        "from sklearn.naive_bayes import GaussianNB,BernoulliNB\n",
        "from sklearn.tree import DecisionTreeClassifier\n",
        "from sklearn.svm import SVC\n",
        "from sklearn.metrics import roc_curve,roc_auc_score\n",
        "warnings.filterwarnings(\"ignore\")"
      ],
      "execution_count": null,
      "outputs": []
    },
    {
      "cell_type": "code",
      "metadata": {
        "colab": {
          "base_uri": "https://localhost:8080/"
        },
        "id": "IRvwv_9xutUx",
        "outputId": "25155a5f-b4cd-4d97-db08-ed0c3af54b88"
      },
      "source": [
        "!pip install mne\n",
        "import mne"
      ],
      "execution_count": null,
      "outputs": [
        {
          "output_type": "stream",
          "name": "stdout",
          "text": [
            "Requirement already satisfied: mne in /usr/local/lib/python3.7/dist-packages (0.24.0)\n",
            "Requirement already satisfied: numpy>=1.15.4 in /usr/local/lib/python3.7/dist-packages (from mne) (1.19.5)\n",
            "Requirement already satisfied: scipy>=1.1.0 in /usr/local/lib/python3.7/dist-packages (from mne) (1.4.1)\n"
          ]
        }
      ]
    },
    {
      "cell_type": "markdown",
      "metadata": {
        "id": "_IcbUpTkids0"
      },
      "source": [
        "# `Data Preprocessing`"
      ]
    },
    {
      "cell_type": "code",
      "metadata": {
        "id": "jCBZ-N0cL2cx"
      },
      "source": [
        "def return_number_of_rows(type_,mat_name):\n",
        "  data= scipy.io.loadmat('/content/drive/MyDrive/Sem Exam/'+type_+'/'+mat_name)\n",
        "  string_=''\n",
        "  for i in mat_name:\n",
        "    if i!='.':\n",
        "      string_+=i\n",
        "    if i=='.':\n",
        "      break\n",
        "  data=data[string_]\n",
        "  return data.shape[0]"
      ],
      "execution_count": null,
      "outputs": []
    },
    {
      "cell_type": "code",
      "metadata": {
        "id": "fOlM8rq4Qu_O"
      },
      "source": [
        "entries_adhd_part1 = os.listdir('/content/drive/MyDrive/Sem Exam/ADHD_part1')\n",
        "entries_adhd_part2 = os.listdir('/content/drive/MyDrive/Sem Exam/ADHD_part2')\n",
        "entries_control_part1=os.listdir('/content/drive/MyDrive/Sem Exam/Control_part1')\n",
        "entries_control_part2=os.listdir('/content/drive/MyDrive/Sem Exam/Control_part2')"
      ],
      "execution_count": null,
      "outputs": []
    },
    {
      "cell_type": "code",
      "metadata": {
        "id": "__mEuzNfTKgd"
      },
      "source": [
        "rows=list()\n",
        "for i in entries_adhd_part1:\n",
        "  rows.append(return_number_of_rows('ADHD_part1',i))\n",
        "for i in entries_adhd_part2:\n",
        "  rows.append(return_number_of_rows('ADHD_part2',i))\n",
        "for i in entries_control_part1:\n",
        "  rows.append(return_number_of_rows('Control_part1',i))\n",
        "for i in entries_control_part2:\n",
        "  rows.append(return_number_of_rows('Control_part2',i))"
      ],
      "execution_count": null,
      "outputs": []
    },
    {
      "cell_type": "code",
      "metadata": {
        "id": "zVVLEq3kUXix"
      },
      "source": [
        "minimum_number_of_rows=min(rows)"
      ],
      "execution_count": null,
      "outputs": []
    },
    {
      "cell_type": "code",
      "metadata": {
        "colab": {
          "base_uri": "https://localhost:8080/"
        },
        "id": "-eZ9Ze5fTMoq",
        "outputId": "060c341c-b11b-4749-c36a-8f29bf858773"
      },
      "source": [
        "minimum_number_of_rows"
      ],
      "execution_count": null,
      "outputs": [
        {
          "output_type": "execute_result",
          "data": {
            "text/plain": [
              "7983"
            ]
          },
          "metadata": {},
          "execution_count": 11
        }
      ]
    },
    {
      "cell_type": "code",
      "metadata": {
        "id": "t5xUWxDmZrV7"
      },
      "source": [
        "def return_dataframe(type_,part,mat_name):\n",
        "  data= scipy.io.loadmat('/content/drive/MyDrive/Sem Exam/'+type_+'/'+mat_name)\n",
        "  string=''\n",
        "  for i in mat_name:\n",
        "    if i=='.':\n",
        "      break\n",
        "    else:\n",
        "      string+=i\n",
        "  data=data[string]\n",
        "  pd.DataFrame(data).to_csv('data.csv')\n",
        "  data=pd.read_csv('/content/data.csv')\n",
        "  data.drop('Unnamed: 0',axis=1,inplace=True)\n",
        "  labels={'0':'Fp1','1':'Fp2','2':'F3','3':'F4','4':'C3','5':'C4','6':'P3','7':'P4','8':'O1','9':'O2','10':'F7','11':'F8','12':'T7','13':'T8','14':'P7','15':'P8','16':'Fz','17':'Cz','18':'Pz'}\n",
        "  data_csv=data.rename(labels,axis=1)\n",
        "  data_csv=data_csv[:minimum_number_of_rows]\n",
        "  return data_csv"
      ],
      "execution_count": null,
      "outputs": []
    },
    {
      "cell_type": "code",
      "metadata": {
        "id": "fOWN8eo0F__W"
      },
      "source": [
        "labels={'0':'Fp1','1':'Fp2','2':'F3','3':'F4','4':'C3','5':'C4','6':'P3','7':'P4','8':'O1','9':'O2','10':'F7','11':'F8','12':'T7','13':'T8','14':'P7','15':'P8','16':'Fz','17':'Cz','18':'Pz'}"
      ],
      "execution_count": null,
      "outputs": []
    },
    {
      "cell_type": "code",
      "metadata": {
        "id": "yeSnoTFjerCA"
      },
      "source": [
        "label_column=[labels[str(i)] for i in range(0,19)]"
      ],
      "execution_count": null,
      "outputs": []
    },
    {
      "cell_type": "code",
      "metadata": {
        "id": "G5F5eUQznRBy"
      },
      "source": [
        "MIC_ADHD_Scores=list()"
      ],
      "execution_count": null,
      "outputs": []
    },
    {
      "cell_type": "code",
      "metadata": {
        "id": "c3kcB9k-cl9N"
      },
      "source": [
        "for i in entries_adhd_part1:\n",
        "  dataframe=return_dataframe('ADHD_part1','part1',i)\n",
        "  scaler=StandardScaler()\n",
        "  normalized_dataframe=scaler.fit_transform(dataframe)\n",
        "  normalized_dataframe=pd.DataFrame(normalized_dataframe,columns=label_column)\n",
        "  column_=list()\n",
        "  for i in dataframe.columns:\n",
        "    row_=list()\n",
        "    for j in dataframe.columns:\n",
        "      row_.append(mutual_info_score(normalized_dataframe[i],normalized_dataframe[j]))\n",
        "    column_.append(row_)\n",
        "  MIC_ADHD_Scores.append(column_)"
      ],
      "execution_count": null,
      "outputs": []
    },
    {
      "cell_type": "code",
      "metadata": {
        "id": "jgXtEVaIdmcU"
      },
      "source": [
        "for i in entries_adhd_part2:\n",
        "  dataframe=return_dataframe('ADHD_part2','part2',i)\n",
        "  scaler=StandardScaler()\n",
        "  normalized_dataframe=scaler.fit_transform(dataframe)\n",
        "  normalized_dataframe=pd.DataFrame(normalized_dataframe,columns=label_column)\n",
        "  column_=list()\n",
        "  for i in dataframe.columns:\n",
        "    row_=list()\n",
        "    for j in dataframe.columns:\n",
        "      row_.append(mutual_info_score(normalized_dataframe[i],normalized_dataframe[j]))\n",
        "    column_.append(row_)\n",
        "  MIC_ADHD_Scores.append(column_)\n",
        "  #adhd_dataframe=pd.concat([dataframe,adhd_dataframe])"
      ],
      "execution_count": null,
      "outputs": []
    },
    {
      "cell_type": "code",
      "metadata": {
        "id": "4Htc-O0t2ejR"
      },
      "source": [
        "MIC_ADHD_Dataframe=pd.DataFrame()\n",
        "index=0\n",
        "for array in MIC_ADHD_Scores:\n",
        "  avg_row=list()\n",
        "  for i in array:\n",
        "    avg=sum(i)/len(i)\n",
        "    avg_row.append(avg)\n",
        "  MIC_ADHD_Dataframe[index]=avg_row\n",
        "  index+=1"
      ],
      "execution_count": null,
      "outputs": []
    },
    {
      "cell_type": "code",
      "metadata": {
        "id": "Bta20dO_4OIU"
      },
      "source": [
        "MIC_ADHD_Dataframe=MIC_ADHD_Dataframe.T"
      ],
      "execution_count": null,
      "outputs": []
    },
    {
      "cell_type": "code",
      "metadata": {
        "id": "1exM3XgX0ydS"
      },
      "source": [
        "MIC_Control_Scores=list()"
      ],
      "execution_count": null,
      "outputs": []
    },
    {
      "cell_type": "code",
      "metadata": {
        "id": "dZxpW0Y7bxrL"
      },
      "source": [
        "for i in entries_control_part1:\n",
        "  dataframe=return_dataframe('Control_part1','part1',i)\n",
        "  scaler=StandardScaler()\n",
        "  normalized_dataframe=scaler.fit_transform(dataframe)\n",
        "  normalized_dataframe=pd.DataFrame(normalized_dataframe,columns=label_column)\n",
        "  column_=list()\n",
        "  for i in dataframe.columns:\n",
        "    row_=list()\n",
        "    for j in dataframe.columns:\n",
        "      row_.append(mutual_info_score(normalized_dataframe[i],normalized_dataframe[j]))\n",
        "    column_.append(row_)\n",
        "  MIC_Control_Scores.append(column_)\n",
        "  #control_dataframe=pd.concat([dataframe,control_dataframe])"
      ],
      "execution_count": null,
      "outputs": []
    },
    {
      "cell_type": "code",
      "metadata": {
        "id": "GkFgO0A0hT7w"
      },
      "source": [
        "for i in entries_control_part2:\n",
        "  dataframe=return_dataframe('Control_part2','part2',i)\n",
        "  scaler=StandardScaler()\n",
        "  normalized_dataframe=scaler.fit_transform(dataframe)\n",
        "  normalized_dataframe=pd.DataFrame(normalized_dataframe,columns=label_column)\n",
        "  column_=list()\n",
        "  for i in dataframe.columns:\n",
        "    row_=list()\n",
        "    for j in dataframe.columns:\n",
        "      row_.append(mutual_info_score(normalized_dataframe[i],normalized_dataframe[j]))\n",
        "    column_.append(row_)\n",
        "  MIC_Control_Scores.append(column_)\n",
        "  #control_dataframe=pd.concat([dataframe,control_dataframe])"
      ],
      "execution_count": null,
      "outputs": []
    },
    {
      "cell_type": "code",
      "metadata": {
        "id": "HdiENSAw5ANo"
      },
      "source": [
        "MIC_Control_Dataframe=pd.DataFrame()\n",
        "index=0\n",
        "for array in MIC_Control_Scores:\n",
        "  avg_row=list()\n",
        "  for i in array:\n",
        "    avg=sum(i)/len(i)\n",
        "    avg_row.append(avg)\n",
        "  MIC_Control_Dataframe[index]=avg_row\n",
        "  index+=1"
      ],
      "execution_count": null,
      "outputs": []
    },
    {
      "cell_type": "code",
      "metadata": {
        "id": "KFWAZhKu5GGn"
      },
      "source": [
        "MIC_Control_Dataframe=MIC_Control_Dataframe.T"
      ],
      "execution_count": null,
      "outputs": []
    },
    {
      "cell_type": "code",
      "metadata": {
        "colab": {
          "base_uri": "https://localhost:8080/",
          "height": 1000
        },
        "id": "ERwls4RA6Xos",
        "outputId": "31d47b6d-bba0-4c0d-d114-f79f19437676"
      },
      "source": [
        "MIC_Control_Dataframe"
      ],
      "execution_count": null,
      "outputs": [
        {
          "output_type": "execute_result",
          "data": {
            "text/html": [
              "<div>\n",
              "<style scoped>\n",
              "    .dataframe tbody tr th:only-of-type {\n",
              "        vertical-align: middle;\n",
              "    }\n",
              "\n",
              "    .dataframe tbody tr th {\n",
              "        vertical-align: top;\n",
              "    }\n",
              "\n",
              "    .dataframe thead th {\n",
              "        text-align: right;\n",
              "    }\n",
              "</style>\n",
              "<table border=\"1\" class=\"dataframe\">\n",
              "  <thead>\n",
              "    <tr style=\"text-align: right;\">\n",
              "      <th></th>\n",
              "      <th>0</th>\n",
              "      <th>1</th>\n",
              "      <th>2</th>\n",
              "      <th>3</th>\n",
              "      <th>4</th>\n",
              "      <th>5</th>\n",
              "      <th>6</th>\n",
              "      <th>7</th>\n",
              "      <th>8</th>\n",
              "      <th>9</th>\n",
              "      <th>10</th>\n",
              "      <th>11</th>\n",
              "      <th>12</th>\n",
              "      <th>13</th>\n",
              "      <th>14</th>\n",
              "      <th>15</th>\n",
              "      <th>16</th>\n",
              "      <th>17</th>\n",
              "      <th>18</th>\n",
              "    </tr>\n",
              "  </thead>\n",
              "  <tbody>\n",
              "    <tr>\n",
              "      <th>0</th>\n",
              "      <td>0.533556</td>\n",
              "      <td>0.407173</td>\n",
              "      <td>0.608165</td>\n",
              "      <td>0.612638</td>\n",
              "      <td>0.640661</td>\n",
              "      <td>0.633221</td>\n",
              "      <td>0.451935</td>\n",
              "      <td>0.576979</td>\n",
              "      <td>0.553728</td>\n",
              "      <td>0.528087</td>\n",
              "      <td>0.556294</td>\n",
              "      <td>0.549314</td>\n",
              "      <td>0.600978</td>\n",
              "      <td>0.594996</td>\n",
              "      <td>0.533039</td>\n",
              "      <td>0.556836</td>\n",
              "      <td>0.543005</td>\n",
              "      <td>0.576837</td>\n",
              "      <td>0.554650</td>\n",
              "    </tr>\n",
              "    <tr>\n",
              "      <th>1</th>\n",
              "      <td>0.644279</td>\n",
              "      <td>0.683295</td>\n",
              "      <td>0.684821</td>\n",
              "      <td>0.635593</td>\n",
              "      <td>0.621951</td>\n",
              "      <td>0.601831</td>\n",
              "      <td>0.641545</td>\n",
              "      <td>0.519126</td>\n",
              "      <td>0.646893</td>\n",
              "      <td>0.582725</td>\n",
              "      <td>0.646987</td>\n",
              "      <td>0.649224</td>\n",
              "      <td>0.540312</td>\n",
              "      <td>0.601133</td>\n",
              "      <td>0.659870</td>\n",
              "      <td>0.605005</td>\n",
              "      <td>0.651331</td>\n",
              "      <td>0.599394</td>\n",
              "      <td>0.599786</td>\n",
              "    </tr>\n",
              "    <tr>\n",
              "      <th>2</th>\n",
              "      <td>0.473806</td>\n",
              "      <td>0.475900</td>\n",
              "      <td>0.503831</td>\n",
              "      <td>0.514722</td>\n",
              "      <td>0.500430</td>\n",
              "      <td>0.515711</td>\n",
              "      <td>0.459670</td>\n",
              "      <td>0.435367</td>\n",
              "      <td>0.393519</td>\n",
              "      <td>0.417647</td>\n",
              "      <td>0.429321</td>\n",
              "      <td>0.463963</td>\n",
              "      <td>0.534828</td>\n",
              "      <td>0.479900</td>\n",
              "      <td>0.396598</td>\n",
              "      <td>0.437641</td>\n",
              "      <td>0.411015</td>\n",
              "      <td>0.472713</td>\n",
              "      <td>0.412962</td>\n",
              "    </tr>\n",
              "    <tr>\n",
              "      <th>3</th>\n",
              "      <td>1.240580</td>\n",
              "      <td>1.027744</td>\n",
              "      <td>1.250100</td>\n",
              "      <td>1.129884</td>\n",
              "      <td>1.279279</td>\n",
              "      <td>1.120391</td>\n",
              "      <td>1.192923</td>\n",
              "      <td>1.011761</td>\n",
              "      <td>1.088367</td>\n",
              "      <td>0.975307</td>\n",
              "      <td>1.117137</td>\n",
              "      <td>1.020763</td>\n",
              "      <td>1.258613</td>\n",
              "      <td>1.073925</td>\n",
              "      <td>1.139832</td>\n",
              "      <td>0.926734</td>\n",
              "      <td>1.073999</td>\n",
              "      <td>1.013474</td>\n",
              "      <td>1.099422</td>\n",
              "    </tr>\n",
              "    <tr>\n",
              "      <th>4</th>\n",
              "      <td>0.363283</td>\n",
              "      <td>0.386683</td>\n",
              "      <td>0.374321</td>\n",
              "      <td>0.382660</td>\n",
              "      <td>0.359627</td>\n",
              "      <td>0.298312</td>\n",
              "      <td>0.346488</td>\n",
              "      <td>0.332461</td>\n",
              "      <td>0.355501</td>\n",
              "      <td>0.335347</td>\n",
              "      <td>0.358444</td>\n",
              "      <td>0.356711</td>\n",
              "      <td>0.353303</td>\n",
              "      <td>0.354470</td>\n",
              "      <td>0.309593</td>\n",
              "      <td>0.262796</td>\n",
              "      <td>0.385550</td>\n",
              "      <td>0.296194</td>\n",
              "      <td>0.318435</td>\n",
              "    </tr>\n",
              "    <tr>\n",
              "      <th>5</th>\n",
              "      <td>0.743503</td>\n",
              "      <td>0.468142</td>\n",
              "      <td>0.604916</td>\n",
              "      <td>0.516082</td>\n",
              "      <td>0.825737</td>\n",
              "      <td>0.495119</td>\n",
              "      <td>0.783866</td>\n",
              "      <td>0.435488</td>\n",
              "      <td>0.740468</td>\n",
              "      <td>0.396673</td>\n",
              "      <td>0.798437</td>\n",
              "      <td>0.413979</td>\n",
              "      <td>0.827546</td>\n",
              "      <td>0.409790</td>\n",
              "      <td>0.783847</td>\n",
              "      <td>0.388708</td>\n",
              "      <td>0.722345</td>\n",
              "      <td>0.415696</td>\n",
              "      <td>0.739170</td>\n",
              "    </tr>\n",
              "    <tr>\n",
              "      <th>6</th>\n",
              "      <td>0.632322</td>\n",
              "      <td>0.550824</td>\n",
              "      <td>0.681850</td>\n",
              "      <td>0.477125</td>\n",
              "      <td>0.663751</td>\n",
              "      <td>0.577384</td>\n",
              "      <td>0.606256</td>\n",
              "      <td>0.575329</td>\n",
              "      <td>0.543650</td>\n",
              "      <td>0.552568</td>\n",
              "      <td>0.540578</td>\n",
              "      <td>0.546266</td>\n",
              "      <td>0.653519</td>\n",
              "      <td>0.544953</td>\n",
              "      <td>0.558933</td>\n",
              "      <td>0.496320</td>\n",
              "      <td>0.583342</td>\n",
              "      <td>0.495985</td>\n",
              "      <td>0.550173</td>\n",
              "    </tr>\n",
              "    <tr>\n",
              "      <th>7</th>\n",
              "      <td>0.581951</td>\n",
              "      <td>0.614235</td>\n",
              "      <td>0.624612</td>\n",
              "      <td>0.578071</td>\n",
              "      <td>0.609196</td>\n",
              "      <td>0.656623</td>\n",
              "      <td>0.638153</td>\n",
              "      <td>0.609889</td>\n",
              "      <td>0.654757</td>\n",
              "      <td>0.571725</td>\n",
              "      <td>0.630640</td>\n",
              "      <td>0.603198</td>\n",
              "      <td>0.630001</td>\n",
              "      <td>0.618275</td>\n",
              "      <td>0.659128</td>\n",
              "      <td>0.560130</td>\n",
              "      <td>0.627964</td>\n",
              "      <td>0.582889</td>\n",
              "      <td>0.641065</td>\n",
              "    </tr>\n",
              "    <tr>\n",
              "      <th>8</th>\n",
              "      <td>0.378432</td>\n",
              "      <td>0.359593</td>\n",
              "      <td>0.335976</td>\n",
              "      <td>0.384514</td>\n",
              "      <td>0.415178</td>\n",
              "      <td>0.363084</td>\n",
              "      <td>0.345301</td>\n",
              "      <td>0.342012</td>\n",
              "      <td>0.367743</td>\n",
              "      <td>0.327638</td>\n",
              "      <td>0.336982</td>\n",
              "      <td>0.350461</td>\n",
              "      <td>0.375357</td>\n",
              "      <td>0.354683</td>\n",
              "      <td>0.325783</td>\n",
              "      <td>0.321837</td>\n",
              "      <td>0.408887</td>\n",
              "      <td>0.359780</td>\n",
              "      <td>0.375686</td>\n",
              "    </tr>\n",
              "    <tr>\n",
              "      <th>9</th>\n",
              "      <td>0.382444</td>\n",
              "      <td>0.370829</td>\n",
              "      <td>0.375015</td>\n",
              "      <td>0.355040</td>\n",
              "      <td>0.380652</td>\n",
              "      <td>0.343500</td>\n",
              "      <td>0.363658</td>\n",
              "      <td>0.315799</td>\n",
              "      <td>0.354366</td>\n",
              "      <td>0.324689</td>\n",
              "      <td>0.365243</td>\n",
              "      <td>0.348780</td>\n",
              "      <td>0.365621</td>\n",
              "      <td>0.315917</td>\n",
              "      <td>0.337230</td>\n",
              "      <td>0.300822</td>\n",
              "      <td>0.361078</td>\n",
              "      <td>0.331242</td>\n",
              "      <td>0.346218</td>\n",
              "    </tr>\n",
              "    <tr>\n",
              "      <th>10</th>\n",
              "      <td>0.535815</td>\n",
              "      <td>0.510436</td>\n",
              "      <td>0.523854</td>\n",
              "      <td>0.510450</td>\n",
              "      <td>0.341799</td>\n",
              "      <td>0.403017</td>\n",
              "      <td>0.445715</td>\n",
              "      <td>0.471253</td>\n",
              "      <td>0.454735</td>\n",
              "      <td>0.444120</td>\n",
              "      <td>0.550519</td>\n",
              "      <td>0.414715</td>\n",
              "      <td>0.539249</td>\n",
              "      <td>0.471895</td>\n",
              "      <td>0.396268</td>\n",
              "      <td>0.447159</td>\n",
              "      <td>0.494991</td>\n",
              "      <td>0.465443</td>\n",
              "      <td>0.442177</td>\n",
              "    </tr>\n",
              "    <tr>\n",
              "      <th>11</th>\n",
              "      <td>0.547319</td>\n",
              "      <td>0.759185</td>\n",
              "      <td>0.534032</td>\n",
              "      <td>0.698337</td>\n",
              "      <td>0.568142</td>\n",
              "      <td>0.777980</td>\n",
              "      <td>0.562764</td>\n",
              "      <td>0.779095</td>\n",
              "      <td>0.471988</td>\n",
              "      <td>0.742204</td>\n",
              "      <td>0.552598</td>\n",
              "      <td>0.786435</td>\n",
              "      <td>0.569880</td>\n",
              "      <td>0.812694</td>\n",
              "      <td>0.540896</td>\n",
              "      <td>0.779383</td>\n",
              "      <td>0.515119</td>\n",
              "      <td>0.746668</td>\n",
              "      <td>0.465040</td>\n",
              "    </tr>\n",
              "    <tr>\n",
              "      <th>12</th>\n",
              "      <td>0.457996</td>\n",
              "      <td>0.373378</td>\n",
              "      <td>0.476861</td>\n",
              "      <td>0.348615</td>\n",
              "      <td>0.482842</td>\n",
              "      <td>0.353470</td>\n",
              "      <td>0.483648</td>\n",
              "      <td>0.352161</td>\n",
              "      <td>0.439774</td>\n",
              "      <td>0.294228</td>\n",
              "      <td>0.439387</td>\n",
              "      <td>0.291846</td>\n",
              "      <td>0.444305</td>\n",
              "      <td>0.284839</td>\n",
              "      <td>0.438975</td>\n",
              "      <td>0.300231</td>\n",
              "      <td>0.399094</td>\n",
              "      <td>0.305241</td>\n",
              "      <td>0.434503</td>\n",
              "    </tr>\n",
              "    <tr>\n",
              "      <th>13</th>\n",
              "      <td>0.373831</td>\n",
              "      <td>0.350524</td>\n",
              "      <td>0.385196</td>\n",
              "      <td>0.386444</td>\n",
              "      <td>0.380354</td>\n",
              "      <td>0.400561</td>\n",
              "      <td>0.379172</td>\n",
              "      <td>0.385408</td>\n",
              "      <td>0.304653</td>\n",
              "      <td>0.319093</td>\n",
              "      <td>0.355031</td>\n",
              "      <td>0.293854</td>\n",
              "      <td>0.310791</td>\n",
              "      <td>0.358812</td>\n",
              "      <td>0.250368</td>\n",
              "      <td>0.224815</td>\n",
              "      <td>0.372361</td>\n",
              "      <td>0.391981</td>\n",
              "      <td>0.367789</td>\n",
              "    </tr>\n",
              "    <tr>\n",
              "      <th>14</th>\n",
              "      <td>0.428667</td>\n",
              "      <td>0.452077</td>\n",
              "      <td>0.319318</td>\n",
              "      <td>0.416091</td>\n",
              "      <td>0.323999</td>\n",
              "      <td>0.407610</td>\n",
              "      <td>0.273032</td>\n",
              "      <td>0.394228</td>\n",
              "      <td>0.275555</td>\n",
              "      <td>0.357975</td>\n",
              "      <td>0.301345</td>\n",
              "      <td>0.404128</td>\n",
              "      <td>0.273062</td>\n",
              "      <td>0.381416</td>\n",
              "      <td>0.255388</td>\n",
              "      <td>0.300885</td>\n",
              "      <td>0.335704</td>\n",
              "      <td>0.415892</td>\n",
              "      <td>0.255864</td>\n",
              "    </tr>\n",
              "    <tr>\n",
              "      <th>15</th>\n",
              "      <td>0.662135</td>\n",
              "      <td>0.593726</td>\n",
              "      <td>0.583608</td>\n",
              "      <td>0.516020</td>\n",
              "      <td>0.591526</td>\n",
              "      <td>0.463634</td>\n",
              "      <td>0.567259</td>\n",
              "      <td>0.490094</td>\n",
              "      <td>0.611145</td>\n",
              "      <td>0.575720</td>\n",
              "      <td>0.644572</td>\n",
              "      <td>0.513174</td>\n",
              "      <td>0.615654</td>\n",
              "      <td>0.484265</td>\n",
              "      <td>0.640554</td>\n",
              "      <td>0.580621</td>\n",
              "      <td>0.494807</td>\n",
              "      <td>0.370045</td>\n",
              "      <td>0.595835</td>\n",
              "    </tr>\n",
              "    <tr>\n",
              "      <th>16</th>\n",
              "      <td>0.674966</td>\n",
              "      <td>0.539159</td>\n",
              "      <td>0.624743</td>\n",
              "      <td>0.501078</td>\n",
              "      <td>0.582784</td>\n",
              "      <td>0.471070</td>\n",
              "      <td>0.623088</td>\n",
              "      <td>0.470102</td>\n",
              "      <td>0.640457</td>\n",
              "      <td>0.499191</td>\n",
              "      <td>0.647144</td>\n",
              "      <td>0.527393</td>\n",
              "      <td>0.600511</td>\n",
              "      <td>0.499801</td>\n",
              "      <td>0.596569</td>\n",
              "      <td>0.464846</td>\n",
              "      <td>0.602414</td>\n",
              "      <td>0.448765</td>\n",
              "      <td>0.648226</td>\n",
              "    </tr>\n",
              "    <tr>\n",
              "      <th>17</th>\n",
              "      <td>0.339629</td>\n",
              "      <td>0.401347</td>\n",
              "      <td>0.385452</td>\n",
              "      <td>0.455334</td>\n",
              "      <td>0.413471</td>\n",
              "      <td>0.496306</td>\n",
              "      <td>0.461926</td>\n",
              "      <td>0.456177</td>\n",
              "      <td>0.264640</td>\n",
              "      <td>0.352749</td>\n",
              "      <td>0.359315</td>\n",
              "      <td>0.381164</td>\n",
              "      <td>0.433847</td>\n",
              "      <td>0.442941</td>\n",
              "      <td>0.300739</td>\n",
              "      <td>0.397777</td>\n",
              "      <td>0.345392</td>\n",
              "      <td>0.547924</td>\n",
              "      <td>0.354627</td>\n",
              "    </tr>\n",
              "    <tr>\n",
              "      <th>18</th>\n",
              "      <td>0.408578</td>\n",
              "      <td>0.397774</td>\n",
              "      <td>0.378953</td>\n",
              "      <td>0.271165</td>\n",
              "      <td>0.322680</td>\n",
              "      <td>0.376482</td>\n",
              "      <td>0.367769</td>\n",
              "      <td>0.304528</td>\n",
              "      <td>0.385823</td>\n",
              "      <td>0.290188</td>\n",
              "      <td>0.440207</td>\n",
              "      <td>0.321007</td>\n",
              "      <td>0.411734</td>\n",
              "      <td>0.342004</td>\n",
              "      <td>0.408322</td>\n",
              "      <td>0.233716</td>\n",
              "      <td>0.404420</td>\n",
              "      <td>0.335968</td>\n",
              "      <td>0.414331</td>\n",
              "    </tr>\n",
              "    <tr>\n",
              "      <th>19</th>\n",
              "      <td>0.522211</td>\n",
              "      <td>0.457439</td>\n",
              "      <td>0.404759</td>\n",
              "      <td>0.366022</td>\n",
              "      <td>0.386352</td>\n",
              "      <td>0.275614</td>\n",
              "      <td>0.358599</td>\n",
              "      <td>0.301538</td>\n",
              "      <td>0.388254</td>\n",
              "      <td>0.372384</td>\n",
              "      <td>0.450403</td>\n",
              "      <td>0.375309</td>\n",
              "      <td>0.463735</td>\n",
              "      <td>0.371293</td>\n",
              "      <td>0.465605</td>\n",
              "      <td>0.373219</td>\n",
              "      <td>0.342454</td>\n",
              "      <td>0.257496</td>\n",
              "      <td>0.337546</td>\n",
              "    </tr>\n",
              "    <tr>\n",
              "      <th>20</th>\n",
              "      <td>0.510654</td>\n",
              "      <td>0.481651</td>\n",
              "      <td>0.510037</td>\n",
              "      <td>0.479202</td>\n",
              "      <td>0.459287</td>\n",
              "      <td>0.432875</td>\n",
              "      <td>0.429435</td>\n",
              "      <td>0.322094</td>\n",
              "      <td>0.439103</td>\n",
              "      <td>0.380139</td>\n",
              "      <td>0.514925</td>\n",
              "      <td>0.466331</td>\n",
              "      <td>0.534552</td>\n",
              "      <td>0.447175</td>\n",
              "      <td>0.526002</td>\n",
              "      <td>0.386803</td>\n",
              "      <td>0.416129</td>\n",
              "      <td>0.372880</td>\n",
              "      <td>0.445334</td>\n",
              "    </tr>\n",
              "    <tr>\n",
              "      <th>21</th>\n",
              "      <td>0.463901</td>\n",
              "      <td>0.494956</td>\n",
              "      <td>0.534565</td>\n",
              "      <td>0.459004</td>\n",
              "      <td>0.523927</td>\n",
              "      <td>0.504023</td>\n",
              "      <td>0.499664</td>\n",
              "      <td>0.432217</td>\n",
              "      <td>0.402138</td>\n",
              "      <td>0.409537</td>\n",
              "      <td>0.525297</td>\n",
              "      <td>0.418469</td>\n",
              "      <td>0.514545</td>\n",
              "      <td>0.447468</td>\n",
              "      <td>0.531970</td>\n",
              "      <td>0.449172</td>\n",
              "      <td>0.496163</td>\n",
              "      <td>0.387639</td>\n",
              "      <td>0.460048</td>\n",
              "    </tr>\n",
              "    <tr>\n",
              "      <th>22</th>\n",
              "      <td>0.587176</td>\n",
              "      <td>0.552304</td>\n",
              "      <td>0.471419</td>\n",
              "      <td>0.489503</td>\n",
              "      <td>0.456109</td>\n",
              "      <td>0.417708</td>\n",
              "      <td>0.378135</td>\n",
              "      <td>0.366114</td>\n",
              "      <td>0.382901</td>\n",
              "      <td>0.347281</td>\n",
              "      <td>0.511425</td>\n",
              "      <td>0.467649</td>\n",
              "      <td>0.433424</td>\n",
              "      <td>0.383429</td>\n",
              "      <td>0.424333</td>\n",
              "      <td>0.334473</td>\n",
              "      <td>0.471192</td>\n",
              "      <td>0.394309</td>\n",
              "      <td>0.449429</td>\n",
              "    </tr>\n",
              "    <tr>\n",
              "      <th>23</th>\n",
              "      <td>0.524208</td>\n",
              "      <td>0.519723</td>\n",
              "      <td>0.428506</td>\n",
              "      <td>0.435332</td>\n",
              "      <td>0.425372</td>\n",
              "      <td>0.445816</td>\n",
              "      <td>0.442974</td>\n",
              "      <td>0.331101</td>\n",
              "      <td>0.346915</td>\n",
              "      <td>0.349859</td>\n",
              "      <td>0.436110</td>\n",
              "      <td>0.427577</td>\n",
              "      <td>0.367558</td>\n",
              "      <td>0.339035</td>\n",
              "      <td>0.352297</td>\n",
              "      <td>0.294933</td>\n",
              "      <td>0.398279</td>\n",
              "      <td>0.399888</td>\n",
              "      <td>0.369804</td>\n",
              "    </tr>\n",
              "    <tr>\n",
              "      <th>24</th>\n",
              "      <td>0.472902</td>\n",
              "      <td>0.550379</td>\n",
              "      <td>0.477465</td>\n",
              "      <td>0.573874</td>\n",
              "      <td>0.494295</td>\n",
              "      <td>0.580709</td>\n",
              "      <td>0.447974</td>\n",
              "      <td>0.554472</td>\n",
              "      <td>0.433766</td>\n",
              "      <td>0.510199</td>\n",
              "      <td>0.496613</td>\n",
              "      <td>0.506698</td>\n",
              "      <td>0.466693</td>\n",
              "      <td>0.515657</td>\n",
              "      <td>0.462185</td>\n",
              "      <td>0.551663</td>\n",
              "      <td>0.476045</td>\n",
              "      <td>0.535269</td>\n",
              "      <td>0.451934</td>\n",
              "    </tr>\n",
              "    <tr>\n",
              "      <th>25</th>\n",
              "      <td>0.675019</td>\n",
              "      <td>0.605341</td>\n",
              "      <td>0.660954</td>\n",
              "      <td>0.522203</td>\n",
              "      <td>0.652826</td>\n",
              "      <td>0.463913</td>\n",
              "      <td>0.645146</td>\n",
              "      <td>0.482602</td>\n",
              "      <td>0.627187</td>\n",
              "      <td>0.490913</td>\n",
              "      <td>0.660206</td>\n",
              "      <td>0.502471</td>\n",
              "      <td>0.691974</td>\n",
              "      <td>0.482517</td>\n",
              "      <td>0.674294</td>\n",
              "      <td>0.429555</td>\n",
              "      <td>0.652740</td>\n",
              "      <td>0.472037</td>\n",
              "      <td>0.637690</td>\n",
              "    </tr>\n",
              "    <tr>\n",
              "      <th>26</th>\n",
              "      <td>0.484981</td>\n",
              "      <td>0.773561</td>\n",
              "      <td>0.454384</td>\n",
              "      <td>0.791327</td>\n",
              "      <td>0.462557</td>\n",
              "      <td>0.817769</td>\n",
              "      <td>0.397009</td>\n",
              "      <td>0.811505</td>\n",
              "      <td>0.415194</td>\n",
              "      <td>0.826563</td>\n",
              "      <td>0.465036</td>\n",
              "      <td>0.689063</td>\n",
              "      <td>0.471113</td>\n",
              "      <td>0.841899</td>\n",
              "      <td>0.443740</td>\n",
              "      <td>0.849484</td>\n",
              "      <td>0.431178</td>\n",
              "      <td>0.774234</td>\n",
              "      <td>0.412962</td>\n",
              "    </tr>\n",
              "    <tr>\n",
              "      <th>27</th>\n",
              "      <td>0.312818</td>\n",
              "      <td>0.335736</td>\n",
              "      <td>0.311461</td>\n",
              "      <td>0.345682</td>\n",
              "      <td>0.311050</td>\n",
              "      <td>0.388426</td>\n",
              "      <td>0.307053</td>\n",
              "      <td>0.389779</td>\n",
              "      <td>0.294588</td>\n",
              "      <td>0.357193</td>\n",
              "      <td>0.297696</td>\n",
              "      <td>0.307934</td>\n",
              "      <td>0.299997</td>\n",
              "      <td>0.293923</td>\n",
              "      <td>0.297336</td>\n",
              "      <td>0.283001</td>\n",
              "      <td>0.314556</td>\n",
              "      <td>0.332254</td>\n",
              "      <td>0.323246</td>\n",
              "    </tr>\n",
              "    <tr>\n",
              "      <th>28</th>\n",
              "      <td>0.406968</td>\n",
              "      <td>0.344701</td>\n",
              "      <td>0.435635</td>\n",
              "      <td>0.377683</td>\n",
              "      <td>0.409106</td>\n",
              "      <td>0.357673</td>\n",
              "      <td>0.398022</td>\n",
              "      <td>0.342350</td>\n",
              "      <td>0.387133</td>\n",
              "      <td>0.245966</td>\n",
              "      <td>0.454015</td>\n",
              "      <td>0.338713</td>\n",
              "      <td>0.466733</td>\n",
              "      <td>0.309758</td>\n",
              "      <td>0.432139</td>\n",
              "      <td>0.288716</td>\n",
              "      <td>0.380176</td>\n",
              "      <td>0.504495</td>\n",
              "      <td>0.402557</td>\n",
              "    </tr>\n",
              "    <tr>\n",
              "      <th>29</th>\n",
              "      <td>0.366993</td>\n",
              "      <td>0.338208</td>\n",
              "      <td>0.345812</td>\n",
              "      <td>0.305590</td>\n",
              "      <td>0.292077</td>\n",
              "      <td>0.269119</td>\n",
              "      <td>0.235373</td>\n",
              "      <td>0.274894</td>\n",
              "      <td>0.225636</td>\n",
              "      <td>0.211188</td>\n",
              "      <td>0.296947</td>\n",
              "      <td>0.232680</td>\n",
              "      <td>0.200153</td>\n",
              "      <td>0.215477</td>\n",
              "      <td>0.206671</td>\n",
              "      <td>0.250607</td>\n",
              "      <td>0.308002</td>\n",
              "      <td>0.287004</td>\n",
              "      <td>0.237872</td>\n",
              "    </tr>\n",
              "    <tr>\n",
              "      <th>30</th>\n",
              "      <td>0.325213</td>\n",
              "      <td>0.378465</td>\n",
              "      <td>0.332576</td>\n",
              "      <td>0.407352</td>\n",
              "      <td>0.328214</td>\n",
              "      <td>0.418133</td>\n",
              "      <td>0.299477</td>\n",
              "      <td>0.377111</td>\n",
              "      <td>0.335473</td>\n",
              "      <td>0.343781</td>\n",
              "      <td>0.290078</td>\n",
              "      <td>0.358360</td>\n",
              "      <td>0.361599</td>\n",
              "      <td>0.421301</td>\n",
              "      <td>0.277995</td>\n",
              "      <td>0.374900</td>\n",
              "      <td>0.308668</td>\n",
              "      <td>0.358913</td>\n",
              "      <td>0.274813</td>\n",
              "    </tr>\n",
              "    <tr>\n",
              "      <th>31</th>\n",
              "      <td>0.482346</td>\n",
              "      <td>0.543784</td>\n",
              "      <td>0.458620</td>\n",
              "      <td>0.584297</td>\n",
              "      <td>0.548527</td>\n",
              "      <td>0.536287</td>\n",
              "      <td>0.426190</td>\n",
              "      <td>0.412252</td>\n",
              "      <td>0.387086</td>\n",
              "      <td>0.291533</td>\n",
              "      <td>0.475743</td>\n",
              "      <td>0.455639</td>\n",
              "      <td>0.461578</td>\n",
              "      <td>0.538437</td>\n",
              "      <td>0.339337</td>\n",
              "      <td>0.375325</td>\n",
              "      <td>0.502312</td>\n",
              "      <td>0.516920</td>\n",
              "      <td>0.448009</td>\n",
              "    </tr>\n",
              "    <tr>\n",
              "      <th>32</th>\n",
              "      <td>0.525436</td>\n",
              "      <td>0.403817</td>\n",
              "      <td>0.564427</td>\n",
              "      <td>0.478264</td>\n",
              "      <td>0.538222</td>\n",
              "      <td>0.504954</td>\n",
              "      <td>0.510545</td>\n",
              "      <td>0.454070</td>\n",
              "      <td>0.441831</td>\n",
              "      <td>0.375056</td>\n",
              "      <td>0.504290</td>\n",
              "      <td>0.397872</td>\n",
              "      <td>0.539525</td>\n",
              "      <td>0.446673</td>\n",
              "      <td>0.454872</td>\n",
              "      <td>0.393710</td>\n",
              "      <td>0.517594</td>\n",
              "      <td>0.448811</td>\n",
              "      <td>0.490425</td>\n",
              "    </tr>\n",
              "    <tr>\n",
              "      <th>33</th>\n",
              "      <td>0.205288</td>\n",
              "      <td>0.226224</td>\n",
              "      <td>0.219344</td>\n",
              "      <td>0.249137</td>\n",
              "      <td>0.218996</td>\n",
              "      <td>0.207286</td>\n",
              "      <td>0.210573</td>\n",
              "      <td>0.223850</td>\n",
              "      <td>0.230176</td>\n",
              "      <td>0.220254</td>\n",
              "      <td>0.177708</td>\n",
              "      <td>0.199378</td>\n",
              "      <td>0.183389</td>\n",
              "      <td>0.198529</td>\n",
              "      <td>0.196106</td>\n",
              "      <td>0.189842</td>\n",
              "      <td>0.215917</td>\n",
              "      <td>0.240830</td>\n",
              "      <td>0.224529</td>\n",
              "    </tr>\n",
              "    <tr>\n",
              "      <th>34</th>\n",
              "      <td>0.371493</td>\n",
              "      <td>0.225564</td>\n",
              "      <td>0.386416</td>\n",
              "      <td>0.251507</td>\n",
              "      <td>0.410051</td>\n",
              "      <td>0.273563</td>\n",
              "      <td>0.408081</td>\n",
              "      <td>0.226834</td>\n",
              "      <td>0.323544</td>\n",
              "      <td>0.220866</td>\n",
              "      <td>0.386472</td>\n",
              "      <td>0.225871</td>\n",
              "      <td>0.419168</td>\n",
              "      <td>0.236921</td>\n",
              "      <td>0.353104</td>\n",
              "      <td>0.221945</td>\n",
              "      <td>0.338594</td>\n",
              "      <td>0.263936</td>\n",
              "      <td>0.342010</td>\n",
              "    </tr>\n",
              "    <tr>\n",
              "      <th>35</th>\n",
              "      <td>0.561708</td>\n",
              "      <td>0.434165</td>\n",
              "      <td>0.592200</td>\n",
              "      <td>0.657439</td>\n",
              "      <td>0.702910</td>\n",
              "      <td>0.750568</td>\n",
              "      <td>0.626330</td>\n",
              "      <td>0.708633</td>\n",
              "      <td>0.632580</td>\n",
              "      <td>0.620729</td>\n",
              "      <td>0.698234</td>\n",
              "      <td>0.609861</td>\n",
              "      <td>0.737677</td>\n",
              "      <td>0.649103</td>\n",
              "      <td>0.722719</td>\n",
              "      <td>0.593709</td>\n",
              "      <td>0.644507</td>\n",
              "      <td>0.580134</td>\n",
              "      <td>0.659343</td>\n",
              "    </tr>\n",
              "    <tr>\n",
              "      <th>36</th>\n",
              "      <td>0.393923</td>\n",
              "      <td>0.388604</td>\n",
              "      <td>0.395889</td>\n",
              "      <td>0.424420</td>\n",
              "      <td>0.402450</td>\n",
              "      <td>0.399292</td>\n",
              "      <td>0.359791</td>\n",
              "      <td>0.352592</td>\n",
              "      <td>0.352832</td>\n",
              "      <td>0.349879</td>\n",
              "      <td>0.423454</td>\n",
              "      <td>0.327309</td>\n",
              "      <td>0.436691</td>\n",
              "      <td>0.318852</td>\n",
              "      <td>0.311327</td>\n",
              "      <td>0.264289</td>\n",
              "      <td>0.409140</td>\n",
              "      <td>0.376370</td>\n",
              "      <td>0.306402</td>\n",
              "    </tr>\n",
              "    <tr>\n",
              "      <th>37</th>\n",
              "      <td>0.305573</td>\n",
              "      <td>0.295691</td>\n",
              "      <td>0.334732</td>\n",
              "      <td>0.302409</td>\n",
              "      <td>0.326422</td>\n",
              "      <td>0.281179</td>\n",
              "      <td>0.340602</td>\n",
              "      <td>0.326161</td>\n",
              "      <td>0.335049</td>\n",
              "      <td>0.318232</td>\n",
              "      <td>0.296404</td>\n",
              "      <td>0.304915</td>\n",
              "      <td>0.311038</td>\n",
              "      <td>0.299631</td>\n",
              "      <td>0.337043</td>\n",
              "      <td>0.274438</td>\n",
              "      <td>0.328345</td>\n",
              "      <td>0.308516</td>\n",
              "      <td>0.315846</td>\n",
              "    </tr>\n",
              "    <tr>\n",
              "      <th>38</th>\n",
              "      <td>0.771934</td>\n",
              "      <td>0.589649</td>\n",
              "      <td>0.770310</td>\n",
              "      <td>0.621611</td>\n",
              "      <td>0.717837</td>\n",
              "      <td>0.630600</td>\n",
              "      <td>0.666936</td>\n",
              "      <td>0.593286</td>\n",
              "      <td>0.644816</td>\n",
              "      <td>0.592829</td>\n",
              "      <td>0.732543</td>\n",
              "      <td>0.592305</td>\n",
              "      <td>0.729223</td>\n",
              "      <td>0.589882</td>\n",
              "      <td>0.639891</td>\n",
              "      <td>0.569274</td>\n",
              "      <td>0.729510</td>\n",
              "      <td>0.585675</td>\n",
              "      <td>0.617547</td>\n",
              "    </tr>\n",
              "    <tr>\n",
              "      <th>39</th>\n",
              "      <td>0.911898</td>\n",
              "      <td>0.408879</td>\n",
              "      <td>0.908295</td>\n",
              "      <td>0.473701</td>\n",
              "      <td>0.894048</td>\n",
              "      <td>0.502588</td>\n",
              "      <td>0.836270</td>\n",
              "      <td>0.332876</td>\n",
              "      <td>0.812772</td>\n",
              "      <td>0.336852</td>\n",
              "      <td>0.882021</td>\n",
              "      <td>0.384670</td>\n",
              "      <td>0.888847</td>\n",
              "      <td>0.529030</td>\n",
              "      <td>0.812831</td>\n",
              "      <td>0.289894</td>\n",
              "      <td>0.885629</td>\n",
              "      <td>0.344019</td>\n",
              "      <td>0.816903</td>\n",
              "    </tr>\n",
              "    <tr>\n",
              "      <th>40</th>\n",
              "      <td>0.396224</td>\n",
              "      <td>0.348426</td>\n",
              "      <td>0.428341</td>\n",
              "      <td>0.377838</td>\n",
              "      <td>0.505478</td>\n",
              "      <td>0.418640</td>\n",
              "      <td>0.510150</td>\n",
              "      <td>0.419512</td>\n",
              "      <td>0.432501</td>\n",
              "      <td>0.347475</td>\n",
              "      <td>0.375918</td>\n",
              "      <td>0.318396</td>\n",
              "      <td>0.489774</td>\n",
              "      <td>0.377229</td>\n",
              "      <td>0.439532</td>\n",
              "      <td>0.357268</td>\n",
              "      <td>0.401579</td>\n",
              "      <td>0.383950</td>\n",
              "      <td>0.466160</td>\n",
              "    </tr>\n",
              "    <tr>\n",
              "      <th>41</th>\n",
              "      <td>0.622557</td>\n",
              "      <td>0.547048</td>\n",
              "      <td>0.663514</td>\n",
              "      <td>0.556846</td>\n",
              "      <td>0.724844</td>\n",
              "      <td>0.611977</td>\n",
              "      <td>0.663556</td>\n",
              "      <td>0.402743</td>\n",
              "      <td>0.599299</td>\n",
              "      <td>0.481752</td>\n",
              "      <td>0.616155</td>\n",
              "      <td>0.550949</td>\n",
              "      <td>0.698936</td>\n",
              "      <td>0.581593</td>\n",
              "      <td>0.637811</td>\n",
              "      <td>0.425651</td>\n",
              "      <td>0.544375</td>\n",
              "      <td>0.475159</td>\n",
              "      <td>0.516196</td>\n",
              "    </tr>\n",
              "    <tr>\n",
              "      <th>42</th>\n",
              "      <td>0.461183</td>\n",
              "      <td>0.483980</td>\n",
              "      <td>0.511563</td>\n",
              "      <td>0.405071</td>\n",
              "      <td>0.599775</td>\n",
              "      <td>0.596294</td>\n",
              "      <td>0.592158</td>\n",
              "      <td>0.598254</td>\n",
              "      <td>0.388448</td>\n",
              "      <td>0.535105</td>\n",
              "      <td>0.478961</td>\n",
              "      <td>0.491483</td>\n",
              "      <td>0.530864</td>\n",
              "      <td>0.481835</td>\n",
              "      <td>0.518046</td>\n",
              "      <td>0.516759</td>\n",
              "      <td>0.509235</td>\n",
              "      <td>0.485138</td>\n",
              "      <td>0.541494</td>\n",
              "    </tr>\n",
              "    <tr>\n",
              "      <th>43</th>\n",
              "      <td>0.409016</td>\n",
              "      <td>0.416879</td>\n",
              "      <td>0.317306</td>\n",
              "      <td>0.316349</td>\n",
              "      <td>0.357839</td>\n",
              "      <td>0.333859</td>\n",
              "      <td>0.417315</td>\n",
              "      <td>0.352080</td>\n",
              "      <td>0.412930</td>\n",
              "      <td>0.356925</td>\n",
              "      <td>0.352650</td>\n",
              "      <td>0.358029</td>\n",
              "      <td>0.324454</td>\n",
              "      <td>0.299658</td>\n",
              "      <td>0.372147</td>\n",
              "      <td>0.338009</td>\n",
              "      <td>0.339216</td>\n",
              "      <td>0.326129</td>\n",
              "      <td>0.370908</td>\n",
              "    </tr>\n",
              "    <tr>\n",
              "      <th>44</th>\n",
              "      <td>0.529985</td>\n",
              "      <td>0.396210</td>\n",
              "      <td>0.537137</td>\n",
              "      <td>0.459807</td>\n",
              "      <td>0.542329</td>\n",
              "      <td>0.446875</td>\n",
              "      <td>0.446765</td>\n",
              "      <td>0.375467</td>\n",
              "      <td>0.444124</td>\n",
              "      <td>0.359665</td>\n",
              "      <td>0.472363</td>\n",
              "      <td>0.343731</td>\n",
              "      <td>0.506372</td>\n",
              "      <td>0.358739</td>\n",
              "      <td>0.359694</td>\n",
              "      <td>0.312037</td>\n",
              "      <td>0.494724</td>\n",
              "      <td>0.418603</td>\n",
              "      <td>0.407630</td>\n",
              "    </tr>\n",
              "    <tr>\n",
              "      <th>45</th>\n",
              "      <td>0.479652</td>\n",
              "      <td>0.443797</td>\n",
              "      <td>0.396333</td>\n",
              "      <td>0.548171</td>\n",
              "      <td>0.524749</td>\n",
              "      <td>0.547611</td>\n",
              "      <td>0.544825</td>\n",
              "      <td>0.495596</td>\n",
              "      <td>0.514852</td>\n",
              "      <td>0.479078</td>\n",
              "      <td>0.514061</td>\n",
              "      <td>0.450380</td>\n",
              "      <td>0.549250</td>\n",
              "      <td>0.464452</td>\n",
              "      <td>0.520252</td>\n",
              "      <td>0.470117</td>\n",
              "      <td>0.465750</td>\n",
              "      <td>0.520558</td>\n",
              "      <td>0.528908</td>\n",
              "    </tr>\n",
              "    <tr>\n",
              "      <th>46</th>\n",
              "      <td>0.432434</td>\n",
              "      <td>0.606683</td>\n",
              "      <td>0.384260</td>\n",
              "      <td>0.489442</td>\n",
              "      <td>0.403215</td>\n",
              "      <td>0.338856</td>\n",
              "      <td>0.519063</td>\n",
              "      <td>0.360512</td>\n",
              "      <td>0.418307</td>\n",
              "      <td>0.508231</td>\n",
              "      <td>0.481206</td>\n",
              "      <td>0.491048</td>\n",
              "      <td>0.422921</td>\n",
              "      <td>0.601648</td>\n",
              "      <td>0.468496</td>\n",
              "      <td>0.494314</td>\n",
              "      <td>0.524354</td>\n",
              "      <td>0.349530</td>\n",
              "      <td>0.373481</td>\n",
              "    </tr>\n",
              "    <tr>\n",
              "      <th>47</th>\n",
              "      <td>0.524265</td>\n",
              "      <td>0.489358</td>\n",
              "      <td>0.302404</td>\n",
              "      <td>0.332269</td>\n",
              "      <td>0.304918</td>\n",
              "      <td>0.428393</td>\n",
              "      <td>0.491198</td>\n",
              "      <td>0.403722</td>\n",
              "      <td>0.462062</td>\n",
              "      <td>0.397379</td>\n",
              "      <td>0.538896</td>\n",
              "      <td>0.374021</td>\n",
              "      <td>0.493520</td>\n",
              "      <td>0.402902</td>\n",
              "      <td>0.372703</td>\n",
              "      <td>0.222965</td>\n",
              "      <td>0.643482</td>\n",
              "      <td>0.499138</td>\n",
              "      <td>0.555426</td>\n",
              "    </tr>\n",
              "    <tr>\n",
              "      <th>48</th>\n",
              "      <td>0.403734</td>\n",
              "      <td>0.501989</td>\n",
              "      <td>0.472584</td>\n",
              "      <td>0.540477</td>\n",
              "      <td>0.518459</td>\n",
              "      <td>0.481953</td>\n",
              "      <td>0.457643</td>\n",
              "      <td>0.471160</td>\n",
              "      <td>0.338513</td>\n",
              "      <td>0.415771</td>\n",
              "      <td>0.433315</td>\n",
              "      <td>0.469859</td>\n",
              "      <td>0.411363</td>\n",
              "      <td>0.478718</td>\n",
              "      <td>0.429171</td>\n",
              "      <td>0.465618</td>\n",
              "      <td>0.330386</td>\n",
              "      <td>0.404927</td>\n",
              "      <td>0.388692</td>\n",
              "    </tr>\n",
              "    <tr>\n",
              "      <th>49</th>\n",
              "      <td>0.717472</td>\n",
              "      <td>0.597641</td>\n",
              "      <td>0.657855</td>\n",
              "      <td>0.573328</td>\n",
              "      <td>0.366226</td>\n",
              "      <td>0.600524</td>\n",
              "      <td>0.590425</td>\n",
              "      <td>0.582287</td>\n",
              "      <td>0.401304</td>\n",
              "      <td>0.533795</td>\n",
              "      <td>0.617188</td>\n",
              "      <td>0.555698</td>\n",
              "      <td>0.654760</td>\n",
              "      <td>0.613767</td>\n",
              "      <td>0.611762</td>\n",
              "      <td>0.558051</td>\n",
              "      <td>0.735834</td>\n",
              "      <td>0.518970</td>\n",
              "      <td>0.518829</td>\n",
              "    </tr>\n",
              "    <tr>\n",
              "      <th>50</th>\n",
              "      <td>0.730476</td>\n",
              "      <td>0.499869</td>\n",
              "      <td>0.715093</td>\n",
              "      <td>0.450819</td>\n",
              "      <td>0.693941</td>\n",
              "      <td>0.481269</td>\n",
              "      <td>0.681214</td>\n",
              "      <td>0.375684</td>\n",
              "      <td>0.567796</td>\n",
              "      <td>0.319409</td>\n",
              "      <td>0.673875</td>\n",
              "      <td>0.531315</td>\n",
              "      <td>0.523278</td>\n",
              "      <td>0.523579</td>\n",
              "      <td>0.548002</td>\n",
              "      <td>0.342107</td>\n",
              "      <td>0.694951</td>\n",
              "      <td>0.376612</td>\n",
              "      <td>0.595613</td>\n",
              "    </tr>\n",
              "    <tr>\n",
              "      <th>51</th>\n",
              "      <td>0.515198</td>\n",
              "      <td>0.420807</td>\n",
              "      <td>0.480835</td>\n",
              "      <td>0.355098</td>\n",
              "      <td>0.462583</td>\n",
              "      <td>0.367657</td>\n",
              "      <td>0.485725</td>\n",
              "      <td>0.327687</td>\n",
              "      <td>0.344332</td>\n",
              "      <td>0.308069</td>\n",
              "      <td>0.497049</td>\n",
              "      <td>0.349068</td>\n",
              "      <td>0.494131</td>\n",
              "      <td>0.351603</td>\n",
              "      <td>0.490473</td>\n",
              "      <td>0.339665</td>\n",
              "      <td>0.471236</td>\n",
              "      <td>0.352451</td>\n",
              "      <td>0.450711</td>\n",
              "    </tr>\n",
              "    <tr>\n",
              "      <th>52</th>\n",
              "      <td>0.679983</td>\n",
              "      <td>0.670514</td>\n",
              "      <td>0.600274</td>\n",
              "      <td>0.613663</td>\n",
              "      <td>0.526397</td>\n",
              "      <td>0.488955</td>\n",
              "      <td>0.423848</td>\n",
              "      <td>0.428126</td>\n",
              "      <td>0.332843</td>\n",
              "      <td>0.295853</td>\n",
              "      <td>0.555712</td>\n",
              "      <td>0.566357</td>\n",
              "      <td>0.432743</td>\n",
              "      <td>0.405057</td>\n",
              "      <td>0.389845</td>\n",
              "      <td>0.278845</td>\n",
              "      <td>0.518387</td>\n",
              "      <td>0.477050</td>\n",
              "      <td>0.339445</td>\n",
              "    </tr>\n",
              "    <tr>\n",
              "      <th>53</th>\n",
              "      <td>0.495289</td>\n",
              "      <td>0.386445</td>\n",
              "      <td>0.496600</td>\n",
              "      <td>0.440757</td>\n",
              "      <td>0.479994</td>\n",
              "      <td>0.427254</td>\n",
              "      <td>0.470718</td>\n",
              "      <td>0.398065</td>\n",
              "      <td>0.415511</td>\n",
              "      <td>0.347587</td>\n",
              "      <td>0.435248</td>\n",
              "      <td>0.468091</td>\n",
              "      <td>0.455621</td>\n",
              "      <td>0.418116</td>\n",
              "      <td>0.423654</td>\n",
              "      <td>0.331288</td>\n",
              "      <td>0.423828</td>\n",
              "      <td>0.345257</td>\n",
              "      <td>0.391213</td>\n",
              "    </tr>\n",
              "    <tr>\n",
              "      <th>54</th>\n",
              "      <td>0.346728</td>\n",
              "      <td>0.349953</td>\n",
              "      <td>0.269075</td>\n",
              "      <td>0.385107</td>\n",
              "      <td>0.356717</td>\n",
              "      <td>0.357063</td>\n",
              "      <td>0.399523</td>\n",
              "      <td>0.381466</td>\n",
              "      <td>0.323970</td>\n",
              "      <td>0.345051</td>\n",
              "      <td>0.326669</td>\n",
              "      <td>0.354396</td>\n",
              "      <td>0.294943</td>\n",
              "      <td>0.333255</td>\n",
              "      <td>0.274424</td>\n",
              "      <td>0.265409</td>\n",
              "      <td>0.334144</td>\n",
              "      <td>0.288652</td>\n",
              "      <td>0.287194</td>\n",
              "    </tr>\n",
              "    <tr>\n",
              "      <th>55</th>\n",
              "      <td>0.389418</td>\n",
              "      <td>0.363067</td>\n",
              "      <td>0.297608</td>\n",
              "      <td>0.345138</td>\n",
              "      <td>0.253484</td>\n",
              "      <td>0.305402</td>\n",
              "      <td>0.274768</td>\n",
              "      <td>0.290901</td>\n",
              "      <td>0.222186</td>\n",
              "      <td>0.286082</td>\n",
              "      <td>0.357862</td>\n",
              "      <td>0.261725</td>\n",
              "      <td>0.303925</td>\n",
              "      <td>0.219097</td>\n",
              "      <td>0.201936</td>\n",
              "      <td>0.183617</td>\n",
              "      <td>0.357093</td>\n",
              "      <td>0.308824</td>\n",
              "      <td>0.245408</td>\n",
              "    </tr>\n",
              "    <tr>\n",
              "      <th>56</th>\n",
              "      <td>0.493929</td>\n",
              "      <td>0.482957</td>\n",
              "      <td>0.465008</td>\n",
              "      <td>0.425016</td>\n",
              "      <td>0.424377</td>\n",
              "      <td>0.442432</td>\n",
              "      <td>0.418163</td>\n",
              "      <td>0.402503</td>\n",
              "      <td>0.343325</td>\n",
              "      <td>0.341515</td>\n",
              "      <td>0.452986</td>\n",
              "      <td>0.357056</td>\n",
              "      <td>0.484984</td>\n",
              "      <td>0.345099</td>\n",
              "      <td>0.345260</td>\n",
              "      <td>0.270082</td>\n",
              "      <td>0.362310</td>\n",
              "      <td>0.425326</td>\n",
              "      <td>0.402578</td>\n",
              "    </tr>\n",
              "    <tr>\n",
              "      <th>57</th>\n",
              "      <td>0.342424</td>\n",
              "      <td>0.299340</td>\n",
              "      <td>0.338799</td>\n",
              "      <td>0.330498</td>\n",
              "      <td>0.321275</td>\n",
              "      <td>0.294006</td>\n",
              "      <td>0.289052</td>\n",
              "      <td>0.278982</td>\n",
              "      <td>0.215978</td>\n",
              "      <td>0.240312</td>\n",
              "      <td>0.296826</td>\n",
              "      <td>0.192257</td>\n",
              "      <td>0.279088</td>\n",
              "      <td>0.248070</td>\n",
              "      <td>0.216479</td>\n",
              "      <td>0.231475</td>\n",
              "      <td>0.318145</td>\n",
              "      <td>0.277487</td>\n",
              "      <td>0.245635</td>\n",
              "    </tr>\n",
              "    <tr>\n",
              "      <th>58</th>\n",
              "      <td>0.645028</td>\n",
              "      <td>0.562553</td>\n",
              "      <td>0.627481</td>\n",
              "      <td>0.582732</td>\n",
              "      <td>0.591751</td>\n",
              "      <td>0.599194</td>\n",
              "      <td>0.626127</td>\n",
              "      <td>0.644794</td>\n",
              "      <td>0.390957</td>\n",
              "      <td>0.567695</td>\n",
              "      <td>0.520613</td>\n",
              "      <td>0.485180</td>\n",
              "      <td>0.507625</td>\n",
              "      <td>0.584895</td>\n",
              "      <td>0.339653</td>\n",
              "      <td>0.503549</td>\n",
              "      <td>0.505653</td>\n",
              "      <td>0.503269</td>\n",
              "      <td>0.517765</td>\n",
              "    </tr>\n",
              "    <tr>\n",
              "      <th>59</th>\n",
              "      <td>0.505639</td>\n",
              "      <td>0.580036</td>\n",
              "      <td>0.476804</td>\n",
              "      <td>0.664334</td>\n",
              "      <td>0.588472</td>\n",
              "      <td>0.536663</td>\n",
              "      <td>0.539833</td>\n",
              "      <td>0.643712</td>\n",
              "      <td>0.324858</td>\n",
              "      <td>0.472793</td>\n",
              "      <td>0.532639</td>\n",
              "      <td>0.637687</td>\n",
              "      <td>0.573341</td>\n",
              "      <td>0.680635</td>\n",
              "      <td>0.441710</td>\n",
              "      <td>0.504269</td>\n",
              "      <td>0.425183</td>\n",
              "      <td>0.476632</td>\n",
              "      <td>0.448587</td>\n",
              "    </tr>\n",
              "  </tbody>\n",
              "</table>\n",
              "</div>"
            ],
            "text/plain": [
              "          0         1         2   ...        16        17        18\n",
              "0   0.533556  0.407173  0.608165  ...  0.543005  0.576837  0.554650\n",
              "1   0.644279  0.683295  0.684821  ...  0.651331  0.599394  0.599786\n",
              "2   0.473806  0.475900  0.503831  ...  0.411015  0.472713  0.412962\n",
              "3   1.240580  1.027744  1.250100  ...  1.073999  1.013474  1.099422\n",
              "4   0.363283  0.386683  0.374321  ...  0.385550  0.296194  0.318435\n",
              "5   0.743503  0.468142  0.604916  ...  0.722345  0.415696  0.739170\n",
              "6   0.632322  0.550824  0.681850  ...  0.583342  0.495985  0.550173\n",
              "7   0.581951  0.614235  0.624612  ...  0.627964  0.582889  0.641065\n",
              "8   0.378432  0.359593  0.335976  ...  0.408887  0.359780  0.375686\n",
              "9   0.382444  0.370829  0.375015  ...  0.361078  0.331242  0.346218\n",
              "10  0.535815  0.510436  0.523854  ...  0.494991  0.465443  0.442177\n",
              "11  0.547319  0.759185  0.534032  ...  0.515119  0.746668  0.465040\n",
              "12  0.457996  0.373378  0.476861  ...  0.399094  0.305241  0.434503\n",
              "13  0.373831  0.350524  0.385196  ...  0.372361  0.391981  0.367789\n",
              "14  0.428667  0.452077  0.319318  ...  0.335704  0.415892  0.255864\n",
              "15  0.662135  0.593726  0.583608  ...  0.494807  0.370045  0.595835\n",
              "16  0.674966  0.539159  0.624743  ...  0.602414  0.448765  0.648226\n",
              "17  0.339629  0.401347  0.385452  ...  0.345392  0.547924  0.354627\n",
              "18  0.408578  0.397774  0.378953  ...  0.404420  0.335968  0.414331\n",
              "19  0.522211  0.457439  0.404759  ...  0.342454  0.257496  0.337546\n",
              "20  0.510654  0.481651  0.510037  ...  0.416129  0.372880  0.445334\n",
              "21  0.463901  0.494956  0.534565  ...  0.496163  0.387639  0.460048\n",
              "22  0.587176  0.552304  0.471419  ...  0.471192  0.394309  0.449429\n",
              "23  0.524208  0.519723  0.428506  ...  0.398279  0.399888  0.369804\n",
              "24  0.472902  0.550379  0.477465  ...  0.476045  0.535269  0.451934\n",
              "25  0.675019  0.605341  0.660954  ...  0.652740  0.472037  0.637690\n",
              "26  0.484981  0.773561  0.454384  ...  0.431178  0.774234  0.412962\n",
              "27  0.312818  0.335736  0.311461  ...  0.314556  0.332254  0.323246\n",
              "28  0.406968  0.344701  0.435635  ...  0.380176  0.504495  0.402557\n",
              "29  0.366993  0.338208  0.345812  ...  0.308002  0.287004  0.237872\n",
              "30  0.325213  0.378465  0.332576  ...  0.308668  0.358913  0.274813\n",
              "31  0.482346  0.543784  0.458620  ...  0.502312  0.516920  0.448009\n",
              "32  0.525436  0.403817  0.564427  ...  0.517594  0.448811  0.490425\n",
              "33  0.205288  0.226224  0.219344  ...  0.215917  0.240830  0.224529\n",
              "34  0.371493  0.225564  0.386416  ...  0.338594  0.263936  0.342010\n",
              "35  0.561708  0.434165  0.592200  ...  0.644507  0.580134  0.659343\n",
              "36  0.393923  0.388604  0.395889  ...  0.409140  0.376370  0.306402\n",
              "37  0.305573  0.295691  0.334732  ...  0.328345  0.308516  0.315846\n",
              "38  0.771934  0.589649  0.770310  ...  0.729510  0.585675  0.617547\n",
              "39  0.911898  0.408879  0.908295  ...  0.885629  0.344019  0.816903\n",
              "40  0.396224  0.348426  0.428341  ...  0.401579  0.383950  0.466160\n",
              "41  0.622557  0.547048  0.663514  ...  0.544375  0.475159  0.516196\n",
              "42  0.461183  0.483980  0.511563  ...  0.509235  0.485138  0.541494\n",
              "43  0.409016  0.416879  0.317306  ...  0.339216  0.326129  0.370908\n",
              "44  0.529985  0.396210  0.537137  ...  0.494724  0.418603  0.407630\n",
              "45  0.479652  0.443797  0.396333  ...  0.465750  0.520558  0.528908\n",
              "46  0.432434  0.606683  0.384260  ...  0.524354  0.349530  0.373481\n",
              "47  0.524265  0.489358  0.302404  ...  0.643482  0.499138  0.555426\n",
              "48  0.403734  0.501989  0.472584  ...  0.330386  0.404927  0.388692\n",
              "49  0.717472  0.597641  0.657855  ...  0.735834  0.518970  0.518829\n",
              "50  0.730476  0.499869  0.715093  ...  0.694951  0.376612  0.595613\n",
              "51  0.515198  0.420807  0.480835  ...  0.471236  0.352451  0.450711\n",
              "52  0.679983  0.670514  0.600274  ...  0.518387  0.477050  0.339445\n",
              "53  0.495289  0.386445  0.496600  ...  0.423828  0.345257  0.391213\n",
              "54  0.346728  0.349953  0.269075  ...  0.334144  0.288652  0.287194\n",
              "55  0.389418  0.363067  0.297608  ...  0.357093  0.308824  0.245408\n",
              "56  0.493929  0.482957  0.465008  ...  0.362310  0.425326  0.402578\n",
              "57  0.342424  0.299340  0.338799  ...  0.318145  0.277487  0.245635\n",
              "58  0.645028  0.562553  0.627481  ...  0.505653  0.503269  0.517765\n",
              "59  0.505639  0.580036  0.476804  ...  0.425183  0.476632  0.448587\n",
              "\n",
              "[60 rows x 19 columns]"
            ]
          },
          "metadata": {},
          "execution_count": 27
        }
      ]
    },
    {
      "cell_type": "code",
      "metadata": {
        "colab": {
          "base_uri": "https://localhost:8080/",
          "height": 443
        },
        "id": "pSLOAy2njrwr",
        "outputId": "15d7cc00-b08a-489c-9f3f-319e00feea24"
      },
      "source": [
        "MIC_ADHD_Dataframe"
      ],
      "execution_count": null,
      "outputs": [
        {
          "output_type": "execute_result",
          "data": {
            "text/html": [
              "<div>\n",
              "<style scoped>\n",
              "    .dataframe tbody tr th:only-of-type {\n",
              "        vertical-align: middle;\n",
              "    }\n",
              "\n",
              "    .dataframe tbody tr th {\n",
              "        vertical-align: top;\n",
              "    }\n",
              "\n",
              "    .dataframe thead th {\n",
              "        text-align: right;\n",
              "    }\n",
              "</style>\n",
              "<table border=\"1\" class=\"dataframe\">\n",
              "  <thead>\n",
              "    <tr style=\"text-align: right;\">\n",
              "      <th></th>\n",
              "      <th>0</th>\n",
              "      <th>1</th>\n",
              "      <th>2</th>\n",
              "      <th>3</th>\n",
              "      <th>4</th>\n",
              "      <th>5</th>\n",
              "      <th>6</th>\n",
              "      <th>7</th>\n",
              "      <th>8</th>\n",
              "      <th>9</th>\n",
              "      <th>10</th>\n",
              "      <th>11</th>\n",
              "      <th>12</th>\n",
              "      <th>13</th>\n",
              "      <th>14</th>\n",
              "      <th>15</th>\n",
              "      <th>16</th>\n",
              "      <th>17</th>\n",
              "      <th>18</th>\n",
              "    </tr>\n",
              "  </thead>\n",
              "  <tbody>\n",
              "    <tr>\n",
              "      <th>0</th>\n",
              "      <td>0.460172</td>\n",
              "      <td>0.457262</td>\n",
              "      <td>0.424705</td>\n",
              "      <td>0.446676</td>\n",
              "      <td>0.425003</td>\n",
              "      <td>0.408109</td>\n",
              "      <td>0.356684</td>\n",
              "      <td>0.357975</td>\n",
              "      <td>0.444391</td>\n",
              "      <td>0.278662</td>\n",
              "      <td>0.375983</td>\n",
              "      <td>0.328976</td>\n",
              "      <td>0.362036</td>\n",
              "      <td>0.284975</td>\n",
              "      <td>0.211544</td>\n",
              "      <td>0.250477</td>\n",
              "      <td>0.306056</td>\n",
              "      <td>0.314510</td>\n",
              "      <td>0.271406</td>\n",
              "    </tr>\n",
              "    <tr>\n",
              "      <th>1</th>\n",
              "      <td>0.482539</td>\n",
              "      <td>0.574929</td>\n",
              "      <td>0.565867</td>\n",
              "      <td>0.604712</td>\n",
              "      <td>0.630327</td>\n",
              "      <td>0.592061</td>\n",
              "      <td>0.605194</td>\n",
              "      <td>0.588615</td>\n",
              "      <td>0.527350</td>\n",
              "      <td>0.523464</td>\n",
              "      <td>0.582243</td>\n",
              "      <td>0.533057</td>\n",
              "      <td>0.570766</td>\n",
              "      <td>0.512511</td>\n",
              "      <td>0.529637</td>\n",
              "      <td>0.486646</td>\n",
              "      <td>0.530088</td>\n",
              "      <td>0.473158</td>\n",
              "      <td>0.495314</td>\n",
              "    </tr>\n",
              "    <tr>\n",
              "      <th>2</th>\n",
              "      <td>0.554888</td>\n",
              "      <td>0.326155</td>\n",
              "      <td>0.611931</td>\n",
              "      <td>0.366350</td>\n",
              "      <td>0.639550</td>\n",
              "      <td>0.360334</td>\n",
              "      <td>0.562920</td>\n",
              "      <td>0.348756</td>\n",
              "      <td>0.507571</td>\n",
              "      <td>0.374723</td>\n",
              "      <td>0.670635</td>\n",
              "      <td>0.347868</td>\n",
              "      <td>0.675010</td>\n",
              "      <td>0.379733</td>\n",
              "      <td>0.584109</td>\n",
              "      <td>0.252634</td>\n",
              "      <td>0.596885</td>\n",
              "      <td>0.360787</td>\n",
              "      <td>0.531860</td>\n",
              "    </tr>\n",
              "    <tr>\n",
              "      <th>3</th>\n",
              "      <td>0.431437</td>\n",
              "      <td>0.442116</td>\n",
              "      <td>0.444356</td>\n",
              "      <td>0.441368</td>\n",
              "      <td>0.456678</td>\n",
              "      <td>0.436470</td>\n",
              "      <td>0.387919</td>\n",
              "      <td>0.439162</td>\n",
              "      <td>0.233374</td>\n",
              "      <td>0.289210</td>\n",
              "      <td>0.356369</td>\n",
              "      <td>0.359629</td>\n",
              "      <td>0.370060</td>\n",
              "      <td>0.320478</td>\n",
              "      <td>0.358651</td>\n",
              "      <td>0.366644</td>\n",
              "      <td>0.370716</td>\n",
              "      <td>0.372809</td>\n",
              "      <td>0.369661</td>\n",
              "    </tr>\n",
              "    <tr>\n",
              "      <th>4</th>\n",
              "      <td>0.446268</td>\n",
              "      <td>0.385899</td>\n",
              "      <td>0.607136</td>\n",
              "      <td>0.604085</td>\n",
              "      <td>0.628450</td>\n",
              "      <td>0.612343</td>\n",
              "      <td>0.590536</td>\n",
              "      <td>0.551488</td>\n",
              "      <td>0.396395</td>\n",
              "      <td>0.366135</td>\n",
              "      <td>0.364185</td>\n",
              "      <td>0.365790</td>\n",
              "      <td>0.477719</td>\n",
              "      <td>0.472333</td>\n",
              "      <td>0.400755</td>\n",
              "      <td>0.496778</td>\n",
              "      <td>0.559508</td>\n",
              "      <td>0.456824</td>\n",
              "      <td>0.507023</td>\n",
              "    </tr>\n",
              "    <tr>\n",
              "      <th>...</th>\n",
              "      <td>...</td>\n",
              "      <td>...</td>\n",
              "      <td>...</td>\n",
              "      <td>...</td>\n",
              "      <td>...</td>\n",
              "      <td>...</td>\n",
              "      <td>...</td>\n",
              "      <td>...</td>\n",
              "      <td>...</td>\n",
              "      <td>...</td>\n",
              "      <td>...</td>\n",
              "      <td>...</td>\n",
              "      <td>...</td>\n",
              "      <td>...</td>\n",
              "      <td>...</td>\n",
              "      <td>...</td>\n",
              "      <td>...</td>\n",
              "      <td>...</td>\n",
              "      <td>...</td>\n",
              "    </tr>\n",
              "    <tr>\n",
              "      <th>56</th>\n",
              "      <td>0.388149</td>\n",
              "      <td>0.399847</td>\n",
              "      <td>0.408075</td>\n",
              "      <td>0.430228</td>\n",
              "      <td>0.371124</td>\n",
              "      <td>0.475021</td>\n",
              "      <td>0.389376</td>\n",
              "      <td>0.451275</td>\n",
              "      <td>0.348184</td>\n",
              "      <td>0.402678</td>\n",
              "      <td>0.356315</td>\n",
              "      <td>0.448947</td>\n",
              "      <td>0.345762</td>\n",
              "      <td>0.422832</td>\n",
              "      <td>0.308860</td>\n",
              "      <td>0.403963</td>\n",
              "      <td>0.380324</td>\n",
              "      <td>0.437488</td>\n",
              "      <td>0.340398</td>\n",
              "    </tr>\n",
              "    <tr>\n",
              "      <th>57</th>\n",
              "      <td>0.369480</td>\n",
              "      <td>0.413503</td>\n",
              "      <td>0.370744</td>\n",
              "      <td>0.476167</td>\n",
              "      <td>0.459433</td>\n",
              "      <td>0.484466</td>\n",
              "      <td>0.327741</td>\n",
              "      <td>0.474733</td>\n",
              "      <td>0.235834</td>\n",
              "      <td>0.347894</td>\n",
              "      <td>0.336871</td>\n",
              "      <td>0.389967</td>\n",
              "      <td>0.279500</td>\n",
              "      <td>0.381272</td>\n",
              "      <td>0.226241</td>\n",
              "      <td>0.387137</td>\n",
              "      <td>0.339239</td>\n",
              "      <td>0.407292</td>\n",
              "      <td>0.286316</td>\n",
              "    </tr>\n",
              "    <tr>\n",
              "      <th>58</th>\n",
              "      <td>0.309260</td>\n",
              "      <td>0.290974</td>\n",
              "      <td>0.322989</td>\n",
              "      <td>0.281680</td>\n",
              "      <td>0.333939</td>\n",
              "      <td>0.338578</td>\n",
              "      <td>0.358580</td>\n",
              "      <td>0.331558</td>\n",
              "      <td>0.350246</td>\n",
              "      <td>0.240760</td>\n",
              "      <td>0.275932</td>\n",
              "      <td>0.265777</td>\n",
              "      <td>0.329504</td>\n",
              "      <td>0.280618</td>\n",
              "      <td>0.242823</td>\n",
              "      <td>0.175657</td>\n",
              "      <td>0.313609</td>\n",
              "      <td>0.296125</td>\n",
              "      <td>0.305486</td>\n",
              "    </tr>\n",
              "    <tr>\n",
              "      <th>59</th>\n",
              "      <td>0.379710</td>\n",
              "      <td>0.422847</td>\n",
              "      <td>0.539102</td>\n",
              "      <td>0.600686</td>\n",
              "      <td>0.398105</td>\n",
              "      <td>0.539112</td>\n",
              "      <td>0.504499</td>\n",
              "      <td>0.441638</td>\n",
              "      <td>0.283356</td>\n",
              "      <td>0.368191</td>\n",
              "      <td>0.485037</td>\n",
              "      <td>0.440647</td>\n",
              "      <td>0.620026</td>\n",
              "      <td>0.489173</td>\n",
              "      <td>0.443368</td>\n",
              "      <td>0.411826</td>\n",
              "      <td>0.583605</td>\n",
              "      <td>0.446936</td>\n",
              "      <td>0.421906</td>\n",
              "    </tr>\n",
              "    <tr>\n",
              "      <th>60</th>\n",
              "      <td>0.242821</td>\n",
              "      <td>0.258156</td>\n",
              "      <td>0.300468</td>\n",
              "      <td>0.261974</td>\n",
              "      <td>0.302713</td>\n",
              "      <td>0.342294</td>\n",
              "      <td>0.254634</td>\n",
              "      <td>0.287414</td>\n",
              "      <td>0.249593</td>\n",
              "      <td>0.217880</td>\n",
              "      <td>0.261652</td>\n",
              "      <td>0.266750</td>\n",
              "      <td>0.215212</td>\n",
              "      <td>0.318685</td>\n",
              "      <td>0.210116</td>\n",
              "      <td>0.186393</td>\n",
              "      <td>0.278199</td>\n",
              "      <td>0.277783</td>\n",
              "      <td>0.254939</td>\n",
              "    </tr>\n",
              "  </tbody>\n",
              "</table>\n",
              "<p>61 rows × 19 columns</p>\n",
              "</div>"
            ],
            "text/plain": [
              "          0         1         2   ...        16        17        18\n",
              "0   0.460172  0.457262  0.424705  ...  0.306056  0.314510  0.271406\n",
              "1   0.482539  0.574929  0.565867  ...  0.530088  0.473158  0.495314\n",
              "2   0.554888  0.326155  0.611931  ...  0.596885  0.360787  0.531860\n",
              "3   0.431437  0.442116  0.444356  ...  0.370716  0.372809  0.369661\n",
              "4   0.446268  0.385899  0.607136  ...  0.559508  0.456824  0.507023\n",
              "..       ...       ...       ...  ...       ...       ...       ...\n",
              "56  0.388149  0.399847  0.408075  ...  0.380324  0.437488  0.340398\n",
              "57  0.369480  0.413503  0.370744  ...  0.339239  0.407292  0.286316\n",
              "58  0.309260  0.290974  0.322989  ...  0.313609  0.296125  0.305486\n",
              "59  0.379710  0.422847  0.539102  ...  0.583605  0.446936  0.421906\n",
              "60  0.242821  0.258156  0.300468  ...  0.278199  0.277783  0.254939\n",
              "\n",
              "[61 rows x 19 columns]"
            ]
          },
          "metadata": {},
          "execution_count": 28
        }
      ]
    },
    {
      "cell_type": "code",
      "metadata": {
        "colab": {
          "base_uri": "https://localhost:8080/",
          "height": 1000
        },
        "id": "0OAQanPM8Rs3",
        "outputId": "99206a2c-1272-4278-941a-a7a5e89f7fc8"
      },
      "source": [
        "MIC_Control_Dataframe"
      ],
      "execution_count": null,
      "outputs": [
        {
          "output_type": "execute_result",
          "data": {
            "text/html": [
              "<div>\n",
              "<style scoped>\n",
              "    .dataframe tbody tr th:only-of-type {\n",
              "        vertical-align: middle;\n",
              "    }\n",
              "\n",
              "    .dataframe tbody tr th {\n",
              "        vertical-align: top;\n",
              "    }\n",
              "\n",
              "    .dataframe thead th {\n",
              "        text-align: right;\n",
              "    }\n",
              "</style>\n",
              "<table border=\"1\" class=\"dataframe\">\n",
              "  <thead>\n",
              "    <tr style=\"text-align: right;\">\n",
              "      <th></th>\n",
              "      <th>0</th>\n",
              "      <th>1</th>\n",
              "      <th>2</th>\n",
              "      <th>3</th>\n",
              "      <th>4</th>\n",
              "      <th>5</th>\n",
              "      <th>6</th>\n",
              "      <th>7</th>\n",
              "      <th>8</th>\n",
              "      <th>9</th>\n",
              "      <th>10</th>\n",
              "      <th>11</th>\n",
              "      <th>12</th>\n",
              "      <th>13</th>\n",
              "      <th>14</th>\n",
              "      <th>15</th>\n",
              "      <th>16</th>\n",
              "      <th>17</th>\n",
              "      <th>18</th>\n",
              "    </tr>\n",
              "  </thead>\n",
              "  <tbody>\n",
              "    <tr>\n",
              "      <th>0</th>\n",
              "      <td>0.533556</td>\n",
              "      <td>0.407173</td>\n",
              "      <td>0.608165</td>\n",
              "      <td>0.612638</td>\n",
              "      <td>0.640661</td>\n",
              "      <td>0.633221</td>\n",
              "      <td>0.451935</td>\n",
              "      <td>0.576979</td>\n",
              "      <td>0.553728</td>\n",
              "      <td>0.528087</td>\n",
              "      <td>0.556294</td>\n",
              "      <td>0.549314</td>\n",
              "      <td>0.600978</td>\n",
              "      <td>0.594996</td>\n",
              "      <td>0.533039</td>\n",
              "      <td>0.556836</td>\n",
              "      <td>0.543005</td>\n",
              "      <td>0.576837</td>\n",
              "      <td>0.554650</td>\n",
              "    </tr>\n",
              "    <tr>\n",
              "      <th>1</th>\n",
              "      <td>0.644279</td>\n",
              "      <td>0.683295</td>\n",
              "      <td>0.684821</td>\n",
              "      <td>0.635593</td>\n",
              "      <td>0.621951</td>\n",
              "      <td>0.601831</td>\n",
              "      <td>0.641545</td>\n",
              "      <td>0.519126</td>\n",
              "      <td>0.646893</td>\n",
              "      <td>0.582725</td>\n",
              "      <td>0.646987</td>\n",
              "      <td>0.649224</td>\n",
              "      <td>0.540312</td>\n",
              "      <td>0.601133</td>\n",
              "      <td>0.659870</td>\n",
              "      <td>0.605005</td>\n",
              "      <td>0.651331</td>\n",
              "      <td>0.599394</td>\n",
              "      <td>0.599786</td>\n",
              "    </tr>\n",
              "    <tr>\n",
              "      <th>2</th>\n",
              "      <td>0.473806</td>\n",
              "      <td>0.475900</td>\n",
              "      <td>0.503831</td>\n",
              "      <td>0.514722</td>\n",
              "      <td>0.500430</td>\n",
              "      <td>0.515711</td>\n",
              "      <td>0.459670</td>\n",
              "      <td>0.435367</td>\n",
              "      <td>0.393519</td>\n",
              "      <td>0.417647</td>\n",
              "      <td>0.429321</td>\n",
              "      <td>0.463963</td>\n",
              "      <td>0.534828</td>\n",
              "      <td>0.479900</td>\n",
              "      <td>0.396598</td>\n",
              "      <td>0.437641</td>\n",
              "      <td>0.411015</td>\n",
              "      <td>0.472713</td>\n",
              "      <td>0.412962</td>\n",
              "    </tr>\n",
              "    <tr>\n",
              "      <th>3</th>\n",
              "      <td>1.240580</td>\n",
              "      <td>1.027744</td>\n",
              "      <td>1.250100</td>\n",
              "      <td>1.129884</td>\n",
              "      <td>1.279279</td>\n",
              "      <td>1.120391</td>\n",
              "      <td>1.192923</td>\n",
              "      <td>1.011761</td>\n",
              "      <td>1.088367</td>\n",
              "      <td>0.975307</td>\n",
              "      <td>1.117137</td>\n",
              "      <td>1.020763</td>\n",
              "      <td>1.258613</td>\n",
              "      <td>1.073925</td>\n",
              "      <td>1.139832</td>\n",
              "      <td>0.926734</td>\n",
              "      <td>1.073999</td>\n",
              "      <td>1.013474</td>\n",
              "      <td>1.099422</td>\n",
              "    </tr>\n",
              "    <tr>\n",
              "      <th>4</th>\n",
              "      <td>0.363283</td>\n",
              "      <td>0.386683</td>\n",
              "      <td>0.374321</td>\n",
              "      <td>0.382660</td>\n",
              "      <td>0.359627</td>\n",
              "      <td>0.298312</td>\n",
              "      <td>0.346488</td>\n",
              "      <td>0.332461</td>\n",
              "      <td>0.355501</td>\n",
              "      <td>0.335347</td>\n",
              "      <td>0.358444</td>\n",
              "      <td>0.356711</td>\n",
              "      <td>0.353303</td>\n",
              "      <td>0.354470</td>\n",
              "      <td>0.309593</td>\n",
              "      <td>0.262796</td>\n",
              "      <td>0.385550</td>\n",
              "      <td>0.296194</td>\n",
              "      <td>0.318435</td>\n",
              "    </tr>\n",
              "    <tr>\n",
              "      <th>5</th>\n",
              "      <td>0.743503</td>\n",
              "      <td>0.468142</td>\n",
              "      <td>0.604916</td>\n",
              "      <td>0.516082</td>\n",
              "      <td>0.825737</td>\n",
              "      <td>0.495119</td>\n",
              "      <td>0.783866</td>\n",
              "      <td>0.435488</td>\n",
              "      <td>0.740468</td>\n",
              "      <td>0.396673</td>\n",
              "      <td>0.798437</td>\n",
              "      <td>0.413979</td>\n",
              "      <td>0.827546</td>\n",
              "      <td>0.409790</td>\n",
              "      <td>0.783847</td>\n",
              "      <td>0.388708</td>\n",
              "      <td>0.722345</td>\n",
              "      <td>0.415696</td>\n",
              "      <td>0.739170</td>\n",
              "    </tr>\n",
              "    <tr>\n",
              "      <th>6</th>\n",
              "      <td>0.632322</td>\n",
              "      <td>0.550824</td>\n",
              "      <td>0.681850</td>\n",
              "      <td>0.477125</td>\n",
              "      <td>0.663751</td>\n",
              "      <td>0.577384</td>\n",
              "      <td>0.606256</td>\n",
              "      <td>0.575329</td>\n",
              "      <td>0.543650</td>\n",
              "      <td>0.552568</td>\n",
              "      <td>0.540578</td>\n",
              "      <td>0.546266</td>\n",
              "      <td>0.653519</td>\n",
              "      <td>0.544953</td>\n",
              "      <td>0.558933</td>\n",
              "      <td>0.496320</td>\n",
              "      <td>0.583342</td>\n",
              "      <td>0.495985</td>\n",
              "      <td>0.550173</td>\n",
              "    </tr>\n",
              "    <tr>\n",
              "      <th>7</th>\n",
              "      <td>0.581951</td>\n",
              "      <td>0.614235</td>\n",
              "      <td>0.624612</td>\n",
              "      <td>0.578071</td>\n",
              "      <td>0.609196</td>\n",
              "      <td>0.656623</td>\n",
              "      <td>0.638153</td>\n",
              "      <td>0.609889</td>\n",
              "      <td>0.654757</td>\n",
              "      <td>0.571725</td>\n",
              "      <td>0.630640</td>\n",
              "      <td>0.603198</td>\n",
              "      <td>0.630001</td>\n",
              "      <td>0.618275</td>\n",
              "      <td>0.659128</td>\n",
              "      <td>0.560130</td>\n",
              "      <td>0.627964</td>\n",
              "      <td>0.582889</td>\n",
              "      <td>0.641065</td>\n",
              "    </tr>\n",
              "    <tr>\n",
              "      <th>8</th>\n",
              "      <td>0.378432</td>\n",
              "      <td>0.359593</td>\n",
              "      <td>0.335976</td>\n",
              "      <td>0.384514</td>\n",
              "      <td>0.415178</td>\n",
              "      <td>0.363084</td>\n",
              "      <td>0.345301</td>\n",
              "      <td>0.342012</td>\n",
              "      <td>0.367743</td>\n",
              "      <td>0.327638</td>\n",
              "      <td>0.336982</td>\n",
              "      <td>0.350461</td>\n",
              "      <td>0.375357</td>\n",
              "      <td>0.354683</td>\n",
              "      <td>0.325783</td>\n",
              "      <td>0.321837</td>\n",
              "      <td>0.408887</td>\n",
              "      <td>0.359780</td>\n",
              "      <td>0.375686</td>\n",
              "    </tr>\n",
              "    <tr>\n",
              "      <th>9</th>\n",
              "      <td>0.382444</td>\n",
              "      <td>0.370829</td>\n",
              "      <td>0.375015</td>\n",
              "      <td>0.355040</td>\n",
              "      <td>0.380652</td>\n",
              "      <td>0.343500</td>\n",
              "      <td>0.363658</td>\n",
              "      <td>0.315799</td>\n",
              "      <td>0.354366</td>\n",
              "      <td>0.324689</td>\n",
              "      <td>0.365243</td>\n",
              "      <td>0.348780</td>\n",
              "      <td>0.365621</td>\n",
              "      <td>0.315917</td>\n",
              "      <td>0.337230</td>\n",
              "      <td>0.300822</td>\n",
              "      <td>0.361078</td>\n",
              "      <td>0.331242</td>\n",
              "      <td>0.346218</td>\n",
              "    </tr>\n",
              "    <tr>\n",
              "      <th>10</th>\n",
              "      <td>0.535815</td>\n",
              "      <td>0.510436</td>\n",
              "      <td>0.523854</td>\n",
              "      <td>0.510450</td>\n",
              "      <td>0.341799</td>\n",
              "      <td>0.403017</td>\n",
              "      <td>0.445715</td>\n",
              "      <td>0.471253</td>\n",
              "      <td>0.454735</td>\n",
              "      <td>0.444120</td>\n",
              "      <td>0.550519</td>\n",
              "      <td>0.414715</td>\n",
              "      <td>0.539249</td>\n",
              "      <td>0.471895</td>\n",
              "      <td>0.396268</td>\n",
              "      <td>0.447159</td>\n",
              "      <td>0.494991</td>\n",
              "      <td>0.465443</td>\n",
              "      <td>0.442177</td>\n",
              "    </tr>\n",
              "    <tr>\n",
              "      <th>11</th>\n",
              "      <td>0.547319</td>\n",
              "      <td>0.759185</td>\n",
              "      <td>0.534032</td>\n",
              "      <td>0.698337</td>\n",
              "      <td>0.568142</td>\n",
              "      <td>0.777980</td>\n",
              "      <td>0.562764</td>\n",
              "      <td>0.779095</td>\n",
              "      <td>0.471988</td>\n",
              "      <td>0.742204</td>\n",
              "      <td>0.552598</td>\n",
              "      <td>0.786435</td>\n",
              "      <td>0.569880</td>\n",
              "      <td>0.812694</td>\n",
              "      <td>0.540896</td>\n",
              "      <td>0.779383</td>\n",
              "      <td>0.515119</td>\n",
              "      <td>0.746668</td>\n",
              "      <td>0.465040</td>\n",
              "    </tr>\n",
              "    <tr>\n",
              "      <th>12</th>\n",
              "      <td>0.457996</td>\n",
              "      <td>0.373378</td>\n",
              "      <td>0.476861</td>\n",
              "      <td>0.348615</td>\n",
              "      <td>0.482842</td>\n",
              "      <td>0.353470</td>\n",
              "      <td>0.483648</td>\n",
              "      <td>0.352161</td>\n",
              "      <td>0.439774</td>\n",
              "      <td>0.294228</td>\n",
              "      <td>0.439387</td>\n",
              "      <td>0.291846</td>\n",
              "      <td>0.444305</td>\n",
              "      <td>0.284839</td>\n",
              "      <td>0.438975</td>\n",
              "      <td>0.300231</td>\n",
              "      <td>0.399094</td>\n",
              "      <td>0.305241</td>\n",
              "      <td>0.434503</td>\n",
              "    </tr>\n",
              "    <tr>\n",
              "      <th>13</th>\n",
              "      <td>0.373831</td>\n",
              "      <td>0.350524</td>\n",
              "      <td>0.385196</td>\n",
              "      <td>0.386444</td>\n",
              "      <td>0.380354</td>\n",
              "      <td>0.400561</td>\n",
              "      <td>0.379172</td>\n",
              "      <td>0.385408</td>\n",
              "      <td>0.304653</td>\n",
              "      <td>0.319093</td>\n",
              "      <td>0.355031</td>\n",
              "      <td>0.293854</td>\n",
              "      <td>0.310791</td>\n",
              "      <td>0.358812</td>\n",
              "      <td>0.250368</td>\n",
              "      <td>0.224815</td>\n",
              "      <td>0.372361</td>\n",
              "      <td>0.391981</td>\n",
              "      <td>0.367789</td>\n",
              "    </tr>\n",
              "    <tr>\n",
              "      <th>14</th>\n",
              "      <td>0.428667</td>\n",
              "      <td>0.452077</td>\n",
              "      <td>0.319318</td>\n",
              "      <td>0.416091</td>\n",
              "      <td>0.323999</td>\n",
              "      <td>0.407610</td>\n",
              "      <td>0.273032</td>\n",
              "      <td>0.394228</td>\n",
              "      <td>0.275555</td>\n",
              "      <td>0.357975</td>\n",
              "      <td>0.301345</td>\n",
              "      <td>0.404128</td>\n",
              "      <td>0.273062</td>\n",
              "      <td>0.381416</td>\n",
              "      <td>0.255388</td>\n",
              "      <td>0.300885</td>\n",
              "      <td>0.335704</td>\n",
              "      <td>0.415892</td>\n",
              "      <td>0.255864</td>\n",
              "    </tr>\n",
              "    <tr>\n",
              "      <th>15</th>\n",
              "      <td>0.662135</td>\n",
              "      <td>0.593726</td>\n",
              "      <td>0.583608</td>\n",
              "      <td>0.516020</td>\n",
              "      <td>0.591526</td>\n",
              "      <td>0.463634</td>\n",
              "      <td>0.567259</td>\n",
              "      <td>0.490094</td>\n",
              "      <td>0.611145</td>\n",
              "      <td>0.575720</td>\n",
              "      <td>0.644572</td>\n",
              "      <td>0.513174</td>\n",
              "      <td>0.615654</td>\n",
              "      <td>0.484265</td>\n",
              "      <td>0.640554</td>\n",
              "      <td>0.580621</td>\n",
              "      <td>0.494807</td>\n",
              "      <td>0.370045</td>\n",
              "      <td>0.595835</td>\n",
              "    </tr>\n",
              "    <tr>\n",
              "      <th>16</th>\n",
              "      <td>0.674966</td>\n",
              "      <td>0.539159</td>\n",
              "      <td>0.624743</td>\n",
              "      <td>0.501078</td>\n",
              "      <td>0.582784</td>\n",
              "      <td>0.471070</td>\n",
              "      <td>0.623088</td>\n",
              "      <td>0.470102</td>\n",
              "      <td>0.640457</td>\n",
              "      <td>0.499191</td>\n",
              "      <td>0.647144</td>\n",
              "      <td>0.527393</td>\n",
              "      <td>0.600511</td>\n",
              "      <td>0.499801</td>\n",
              "      <td>0.596569</td>\n",
              "      <td>0.464846</td>\n",
              "      <td>0.602414</td>\n",
              "      <td>0.448765</td>\n",
              "      <td>0.648226</td>\n",
              "    </tr>\n",
              "    <tr>\n",
              "      <th>17</th>\n",
              "      <td>0.339629</td>\n",
              "      <td>0.401347</td>\n",
              "      <td>0.385452</td>\n",
              "      <td>0.455334</td>\n",
              "      <td>0.413471</td>\n",
              "      <td>0.496306</td>\n",
              "      <td>0.461926</td>\n",
              "      <td>0.456177</td>\n",
              "      <td>0.264640</td>\n",
              "      <td>0.352749</td>\n",
              "      <td>0.359315</td>\n",
              "      <td>0.381164</td>\n",
              "      <td>0.433847</td>\n",
              "      <td>0.442941</td>\n",
              "      <td>0.300739</td>\n",
              "      <td>0.397777</td>\n",
              "      <td>0.345392</td>\n",
              "      <td>0.547924</td>\n",
              "      <td>0.354627</td>\n",
              "    </tr>\n",
              "    <tr>\n",
              "      <th>18</th>\n",
              "      <td>0.408578</td>\n",
              "      <td>0.397774</td>\n",
              "      <td>0.378953</td>\n",
              "      <td>0.271165</td>\n",
              "      <td>0.322680</td>\n",
              "      <td>0.376482</td>\n",
              "      <td>0.367769</td>\n",
              "      <td>0.304528</td>\n",
              "      <td>0.385823</td>\n",
              "      <td>0.290188</td>\n",
              "      <td>0.440207</td>\n",
              "      <td>0.321007</td>\n",
              "      <td>0.411734</td>\n",
              "      <td>0.342004</td>\n",
              "      <td>0.408322</td>\n",
              "      <td>0.233716</td>\n",
              "      <td>0.404420</td>\n",
              "      <td>0.335968</td>\n",
              "      <td>0.414331</td>\n",
              "    </tr>\n",
              "    <tr>\n",
              "      <th>19</th>\n",
              "      <td>0.522211</td>\n",
              "      <td>0.457439</td>\n",
              "      <td>0.404759</td>\n",
              "      <td>0.366022</td>\n",
              "      <td>0.386352</td>\n",
              "      <td>0.275614</td>\n",
              "      <td>0.358599</td>\n",
              "      <td>0.301538</td>\n",
              "      <td>0.388254</td>\n",
              "      <td>0.372384</td>\n",
              "      <td>0.450403</td>\n",
              "      <td>0.375309</td>\n",
              "      <td>0.463735</td>\n",
              "      <td>0.371293</td>\n",
              "      <td>0.465605</td>\n",
              "      <td>0.373219</td>\n",
              "      <td>0.342454</td>\n",
              "      <td>0.257496</td>\n",
              "      <td>0.337546</td>\n",
              "    </tr>\n",
              "    <tr>\n",
              "      <th>20</th>\n",
              "      <td>0.510654</td>\n",
              "      <td>0.481651</td>\n",
              "      <td>0.510037</td>\n",
              "      <td>0.479202</td>\n",
              "      <td>0.459287</td>\n",
              "      <td>0.432875</td>\n",
              "      <td>0.429435</td>\n",
              "      <td>0.322094</td>\n",
              "      <td>0.439103</td>\n",
              "      <td>0.380139</td>\n",
              "      <td>0.514925</td>\n",
              "      <td>0.466331</td>\n",
              "      <td>0.534552</td>\n",
              "      <td>0.447175</td>\n",
              "      <td>0.526002</td>\n",
              "      <td>0.386803</td>\n",
              "      <td>0.416129</td>\n",
              "      <td>0.372880</td>\n",
              "      <td>0.445334</td>\n",
              "    </tr>\n",
              "    <tr>\n",
              "      <th>21</th>\n",
              "      <td>0.463901</td>\n",
              "      <td>0.494956</td>\n",
              "      <td>0.534565</td>\n",
              "      <td>0.459004</td>\n",
              "      <td>0.523927</td>\n",
              "      <td>0.504023</td>\n",
              "      <td>0.499664</td>\n",
              "      <td>0.432217</td>\n",
              "      <td>0.402138</td>\n",
              "      <td>0.409537</td>\n",
              "      <td>0.525297</td>\n",
              "      <td>0.418469</td>\n",
              "      <td>0.514545</td>\n",
              "      <td>0.447468</td>\n",
              "      <td>0.531970</td>\n",
              "      <td>0.449172</td>\n",
              "      <td>0.496163</td>\n",
              "      <td>0.387639</td>\n",
              "      <td>0.460048</td>\n",
              "    </tr>\n",
              "    <tr>\n",
              "      <th>22</th>\n",
              "      <td>0.587176</td>\n",
              "      <td>0.552304</td>\n",
              "      <td>0.471419</td>\n",
              "      <td>0.489503</td>\n",
              "      <td>0.456109</td>\n",
              "      <td>0.417708</td>\n",
              "      <td>0.378135</td>\n",
              "      <td>0.366114</td>\n",
              "      <td>0.382901</td>\n",
              "      <td>0.347281</td>\n",
              "      <td>0.511425</td>\n",
              "      <td>0.467649</td>\n",
              "      <td>0.433424</td>\n",
              "      <td>0.383429</td>\n",
              "      <td>0.424333</td>\n",
              "      <td>0.334473</td>\n",
              "      <td>0.471192</td>\n",
              "      <td>0.394309</td>\n",
              "      <td>0.449429</td>\n",
              "    </tr>\n",
              "    <tr>\n",
              "      <th>23</th>\n",
              "      <td>0.524208</td>\n",
              "      <td>0.519723</td>\n",
              "      <td>0.428506</td>\n",
              "      <td>0.435332</td>\n",
              "      <td>0.425372</td>\n",
              "      <td>0.445816</td>\n",
              "      <td>0.442974</td>\n",
              "      <td>0.331101</td>\n",
              "      <td>0.346915</td>\n",
              "      <td>0.349859</td>\n",
              "      <td>0.436110</td>\n",
              "      <td>0.427577</td>\n",
              "      <td>0.367558</td>\n",
              "      <td>0.339035</td>\n",
              "      <td>0.352297</td>\n",
              "      <td>0.294933</td>\n",
              "      <td>0.398279</td>\n",
              "      <td>0.399888</td>\n",
              "      <td>0.369804</td>\n",
              "    </tr>\n",
              "    <tr>\n",
              "      <th>24</th>\n",
              "      <td>0.472902</td>\n",
              "      <td>0.550379</td>\n",
              "      <td>0.477465</td>\n",
              "      <td>0.573874</td>\n",
              "      <td>0.494295</td>\n",
              "      <td>0.580709</td>\n",
              "      <td>0.447974</td>\n",
              "      <td>0.554472</td>\n",
              "      <td>0.433766</td>\n",
              "      <td>0.510199</td>\n",
              "      <td>0.496613</td>\n",
              "      <td>0.506698</td>\n",
              "      <td>0.466693</td>\n",
              "      <td>0.515657</td>\n",
              "      <td>0.462185</td>\n",
              "      <td>0.551663</td>\n",
              "      <td>0.476045</td>\n",
              "      <td>0.535269</td>\n",
              "      <td>0.451934</td>\n",
              "    </tr>\n",
              "    <tr>\n",
              "      <th>25</th>\n",
              "      <td>0.675019</td>\n",
              "      <td>0.605341</td>\n",
              "      <td>0.660954</td>\n",
              "      <td>0.522203</td>\n",
              "      <td>0.652826</td>\n",
              "      <td>0.463913</td>\n",
              "      <td>0.645146</td>\n",
              "      <td>0.482602</td>\n",
              "      <td>0.627187</td>\n",
              "      <td>0.490913</td>\n",
              "      <td>0.660206</td>\n",
              "      <td>0.502471</td>\n",
              "      <td>0.691974</td>\n",
              "      <td>0.482517</td>\n",
              "      <td>0.674294</td>\n",
              "      <td>0.429555</td>\n",
              "      <td>0.652740</td>\n",
              "      <td>0.472037</td>\n",
              "      <td>0.637690</td>\n",
              "    </tr>\n",
              "    <tr>\n",
              "      <th>26</th>\n",
              "      <td>0.484981</td>\n",
              "      <td>0.773561</td>\n",
              "      <td>0.454384</td>\n",
              "      <td>0.791327</td>\n",
              "      <td>0.462557</td>\n",
              "      <td>0.817769</td>\n",
              "      <td>0.397009</td>\n",
              "      <td>0.811505</td>\n",
              "      <td>0.415194</td>\n",
              "      <td>0.826563</td>\n",
              "      <td>0.465036</td>\n",
              "      <td>0.689063</td>\n",
              "      <td>0.471113</td>\n",
              "      <td>0.841899</td>\n",
              "      <td>0.443740</td>\n",
              "      <td>0.849484</td>\n",
              "      <td>0.431178</td>\n",
              "      <td>0.774234</td>\n",
              "      <td>0.412962</td>\n",
              "    </tr>\n",
              "    <tr>\n",
              "      <th>27</th>\n",
              "      <td>0.312818</td>\n",
              "      <td>0.335736</td>\n",
              "      <td>0.311461</td>\n",
              "      <td>0.345682</td>\n",
              "      <td>0.311050</td>\n",
              "      <td>0.388426</td>\n",
              "      <td>0.307053</td>\n",
              "      <td>0.389779</td>\n",
              "      <td>0.294588</td>\n",
              "      <td>0.357193</td>\n",
              "      <td>0.297696</td>\n",
              "      <td>0.307934</td>\n",
              "      <td>0.299997</td>\n",
              "      <td>0.293923</td>\n",
              "      <td>0.297336</td>\n",
              "      <td>0.283001</td>\n",
              "      <td>0.314556</td>\n",
              "      <td>0.332254</td>\n",
              "      <td>0.323246</td>\n",
              "    </tr>\n",
              "    <tr>\n",
              "      <th>28</th>\n",
              "      <td>0.406968</td>\n",
              "      <td>0.344701</td>\n",
              "      <td>0.435635</td>\n",
              "      <td>0.377683</td>\n",
              "      <td>0.409106</td>\n",
              "      <td>0.357673</td>\n",
              "      <td>0.398022</td>\n",
              "      <td>0.342350</td>\n",
              "      <td>0.387133</td>\n",
              "      <td>0.245966</td>\n",
              "      <td>0.454015</td>\n",
              "      <td>0.338713</td>\n",
              "      <td>0.466733</td>\n",
              "      <td>0.309758</td>\n",
              "      <td>0.432139</td>\n",
              "      <td>0.288716</td>\n",
              "      <td>0.380176</td>\n",
              "      <td>0.504495</td>\n",
              "      <td>0.402557</td>\n",
              "    </tr>\n",
              "    <tr>\n",
              "      <th>29</th>\n",
              "      <td>0.366993</td>\n",
              "      <td>0.338208</td>\n",
              "      <td>0.345812</td>\n",
              "      <td>0.305590</td>\n",
              "      <td>0.292077</td>\n",
              "      <td>0.269119</td>\n",
              "      <td>0.235373</td>\n",
              "      <td>0.274894</td>\n",
              "      <td>0.225636</td>\n",
              "      <td>0.211188</td>\n",
              "      <td>0.296947</td>\n",
              "      <td>0.232680</td>\n",
              "      <td>0.200153</td>\n",
              "      <td>0.215477</td>\n",
              "      <td>0.206671</td>\n",
              "      <td>0.250607</td>\n",
              "      <td>0.308002</td>\n",
              "      <td>0.287004</td>\n",
              "      <td>0.237872</td>\n",
              "    </tr>\n",
              "    <tr>\n",
              "      <th>30</th>\n",
              "      <td>0.325213</td>\n",
              "      <td>0.378465</td>\n",
              "      <td>0.332576</td>\n",
              "      <td>0.407352</td>\n",
              "      <td>0.328214</td>\n",
              "      <td>0.418133</td>\n",
              "      <td>0.299477</td>\n",
              "      <td>0.377111</td>\n",
              "      <td>0.335473</td>\n",
              "      <td>0.343781</td>\n",
              "      <td>0.290078</td>\n",
              "      <td>0.358360</td>\n",
              "      <td>0.361599</td>\n",
              "      <td>0.421301</td>\n",
              "      <td>0.277995</td>\n",
              "      <td>0.374900</td>\n",
              "      <td>0.308668</td>\n",
              "      <td>0.358913</td>\n",
              "      <td>0.274813</td>\n",
              "    </tr>\n",
              "    <tr>\n",
              "      <th>31</th>\n",
              "      <td>0.482346</td>\n",
              "      <td>0.543784</td>\n",
              "      <td>0.458620</td>\n",
              "      <td>0.584297</td>\n",
              "      <td>0.548527</td>\n",
              "      <td>0.536287</td>\n",
              "      <td>0.426190</td>\n",
              "      <td>0.412252</td>\n",
              "      <td>0.387086</td>\n",
              "      <td>0.291533</td>\n",
              "      <td>0.475743</td>\n",
              "      <td>0.455639</td>\n",
              "      <td>0.461578</td>\n",
              "      <td>0.538437</td>\n",
              "      <td>0.339337</td>\n",
              "      <td>0.375325</td>\n",
              "      <td>0.502312</td>\n",
              "      <td>0.516920</td>\n",
              "      <td>0.448009</td>\n",
              "    </tr>\n",
              "    <tr>\n",
              "      <th>32</th>\n",
              "      <td>0.525436</td>\n",
              "      <td>0.403817</td>\n",
              "      <td>0.564427</td>\n",
              "      <td>0.478264</td>\n",
              "      <td>0.538222</td>\n",
              "      <td>0.504954</td>\n",
              "      <td>0.510545</td>\n",
              "      <td>0.454070</td>\n",
              "      <td>0.441831</td>\n",
              "      <td>0.375056</td>\n",
              "      <td>0.504290</td>\n",
              "      <td>0.397872</td>\n",
              "      <td>0.539525</td>\n",
              "      <td>0.446673</td>\n",
              "      <td>0.454872</td>\n",
              "      <td>0.393710</td>\n",
              "      <td>0.517594</td>\n",
              "      <td>0.448811</td>\n",
              "      <td>0.490425</td>\n",
              "    </tr>\n",
              "    <tr>\n",
              "      <th>33</th>\n",
              "      <td>0.205288</td>\n",
              "      <td>0.226224</td>\n",
              "      <td>0.219344</td>\n",
              "      <td>0.249137</td>\n",
              "      <td>0.218996</td>\n",
              "      <td>0.207286</td>\n",
              "      <td>0.210573</td>\n",
              "      <td>0.223850</td>\n",
              "      <td>0.230176</td>\n",
              "      <td>0.220254</td>\n",
              "      <td>0.177708</td>\n",
              "      <td>0.199378</td>\n",
              "      <td>0.183389</td>\n",
              "      <td>0.198529</td>\n",
              "      <td>0.196106</td>\n",
              "      <td>0.189842</td>\n",
              "      <td>0.215917</td>\n",
              "      <td>0.240830</td>\n",
              "      <td>0.224529</td>\n",
              "    </tr>\n",
              "    <tr>\n",
              "      <th>34</th>\n",
              "      <td>0.371493</td>\n",
              "      <td>0.225564</td>\n",
              "      <td>0.386416</td>\n",
              "      <td>0.251507</td>\n",
              "      <td>0.410051</td>\n",
              "      <td>0.273563</td>\n",
              "      <td>0.408081</td>\n",
              "      <td>0.226834</td>\n",
              "      <td>0.323544</td>\n",
              "      <td>0.220866</td>\n",
              "      <td>0.386472</td>\n",
              "      <td>0.225871</td>\n",
              "      <td>0.419168</td>\n",
              "      <td>0.236921</td>\n",
              "      <td>0.353104</td>\n",
              "      <td>0.221945</td>\n",
              "      <td>0.338594</td>\n",
              "      <td>0.263936</td>\n",
              "      <td>0.342010</td>\n",
              "    </tr>\n",
              "    <tr>\n",
              "      <th>35</th>\n",
              "      <td>0.561708</td>\n",
              "      <td>0.434165</td>\n",
              "      <td>0.592200</td>\n",
              "      <td>0.657439</td>\n",
              "      <td>0.702910</td>\n",
              "      <td>0.750568</td>\n",
              "      <td>0.626330</td>\n",
              "      <td>0.708633</td>\n",
              "      <td>0.632580</td>\n",
              "      <td>0.620729</td>\n",
              "      <td>0.698234</td>\n",
              "      <td>0.609861</td>\n",
              "      <td>0.737677</td>\n",
              "      <td>0.649103</td>\n",
              "      <td>0.722719</td>\n",
              "      <td>0.593709</td>\n",
              "      <td>0.644507</td>\n",
              "      <td>0.580134</td>\n",
              "      <td>0.659343</td>\n",
              "    </tr>\n",
              "    <tr>\n",
              "      <th>36</th>\n",
              "      <td>0.393923</td>\n",
              "      <td>0.388604</td>\n",
              "      <td>0.395889</td>\n",
              "      <td>0.424420</td>\n",
              "      <td>0.402450</td>\n",
              "      <td>0.399292</td>\n",
              "      <td>0.359791</td>\n",
              "      <td>0.352592</td>\n",
              "      <td>0.352832</td>\n",
              "      <td>0.349879</td>\n",
              "      <td>0.423454</td>\n",
              "      <td>0.327309</td>\n",
              "      <td>0.436691</td>\n",
              "      <td>0.318852</td>\n",
              "      <td>0.311327</td>\n",
              "      <td>0.264289</td>\n",
              "      <td>0.409140</td>\n",
              "      <td>0.376370</td>\n",
              "      <td>0.306402</td>\n",
              "    </tr>\n",
              "    <tr>\n",
              "      <th>37</th>\n",
              "      <td>0.305573</td>\n",
              "      <td>0.295691</td>\n",
              "      <td>0.334732</td>\n",
              "      <td>0.302409</td>\n",
              "      <td>0.326422</td>\n",
              "      <td>0.281179</td>\n",
              "      <td>0.340602</td>\n",
              "      <td>0.326161</td>\n",
              "      <td>0.335049</td>\n",
              "      <td>0.318232</td>\n",
              "      <td>0.296404</td>\n",
              "      <td>0.304915</td>\n",
              "      <td>0.311038</td>\n",
              "      <td>0.299631</td>\n",
              "      <td>0.337043</td>\n",
              "      <td>0.274438</td>\n",
              "      <td>0.328345</td>\n",
              "      <td>0.308516</td>\n",
              "      <td>0.315846</td>\n",
              "    </tr>\n",
              "    <tr>\n",
              "      <th>38</th>\n",
              "      <td>0.771934</td>\n",
              "      <td>0.589649</td>\n",
              "      <td>0.770310</td>\n",
              "      <td>0.621611</td>\n",
              "      <td>0.717837</td>\n",
              "      <td>0.630600</td>\n",
              "      <td>0.666936</td>\n",
              "      <td>0.593286</td>\n",
              "      <td>0.644816</td>\n",
              "      <td>0.592829</td>\n",
              "      <td>0.732543</td>\n",
              "      <td>0.592305</td>\n",
              "      <td>0.729223</td>\n",
              "      <td>0.589882</td>\n",
              "      <td>0.639891</td>\n",
              "      <td>0.569274</td>\n",
              "      <td>0.729510</td>\n",
              "      <td>0.585675</td>\n",
              "      <td>0.617547</td>\n",
              "    </tr>\n",
              "    <tr>\n",
              "      <th>39</th>\n",
              "      <td>0.911898</td>\n",
              "      <td>0.408879</td>\n",
              "      <td>0.908295</td>\n",
              "      <td>0.473701</td>\n",
              "      <td>0.894048</td>\n",
              "      <td>0.502588</td>\n",
              "      <td>0.836270</td>\n",
              "      <td>0.332876</td>\n",
              "      <td>0.812772</td>\n",
              "      <td>0.336852</td>\n",
              "      <td>0.882021</td>\n",
              "      <td>0.384670</td>\n",
              "      <td>0.888847</td>\n",
              "      <td>0.529030</td>\n",
              "      <td>0.812831</td>\n",
              "      <td>0.289894</td>\n",
              "      <td>0.885629</td>\n",
              "      <td>0.344019</td>\n",
              "      <td>0.816903</td>\n",
              "    </tr>\n",
              "    <tr>\n",
              "      <th>40</th>\n",
              "      <td>0.396224</td>\n",
              "      <td>0.348426</td>\n",
              "      <td>0.428341</td>\n",
              "      <td>0.377838</td>\n",
              "      <td>0.505478</td>\n",
              "      <td>0.418640</td>\n",
              "      <td>0.510150</td>\n",
              "      <td>0.419512</td>\n",
              "      <td>0.432501</td>\n",
              "      <td>0.347475</td>\n",
              "      <td>0.375918</td>\n",
              "      <td>0.318396</td>\n",
              "      <td>0.489774</td>\n",
              "      <td>0.377229</td>\n",
              "      <td>0.439532</td>\n",
              "      <td>0.357268</td>\n",
              "      <td>0.401579</td>\n",
              "      <td>0.383950</td>\n",
              "      <td>0.466160</td>\n",
              "    </tr>\n",
              "    <tr>\n",
              "      <th>41</th>\n",
              "      <td>0.622557</td>\n",
              "      <td>0.547048</td>\n",
              "      <td>0.663514</td>\n",
              "      <td>0.556846</td>\n",
              "      <td>0.724844</td>\n",
              "      <td>0.611977</td>\n",
              "      <td>0.663556</td>\n",
              "      <td>0.402743</td>\n",
              "      <td>0.599299</td>\n",
              "      <td>0.481752</td>\n",
              "      <td>0.616155</td>\n",
              "      <td>0.550949</td>\n",
              "      <td>0.698936</td>\n",
              "      <td>0.581593</td>\n",
              "      <td>0.637811</td>\n",
              "      <td>0.425651</td>\n",
              "      <td>0.544375</td>\n",
              "      <td>0.475159</td>\n",
              "      <td>0.516196</td>\n",
              "    </tr>\n",
              "    <tr>\n",
              "      <th>42</th>\n",
              "      <td>0.461183</td>\n",
              "      <td>0.483980</td>\n",
              "      <td>0.511563</td>\n",
              "      <td>0.405071</td>\n",
              "      <td>0.599775</td>\n",
              "      <td>0.596294</td>\n",
              "      <td>0.592158</td>\n",
              "      <td>0.598254</td>\n",
              "      <td>0.388448</td>\n",
              "      <td>0.535105</td>\n",
              "      <td>0.478961</td>\n",
              "      <td>0.491483</td>\n",
              "      <td>0.530864</td>\n",
              "      <td>0.481835</td>\n",
              "      <td>0.518046</td>\n",
              "      <td>0.516759</td>\n",
              "      <td>0.509235</td>\n",
              "      <td>0.485138</td>\n",
              "      <td>0.541494</td>\n",
              "    </tr>\n",
              "    <tr>\n",
              "      <th>43</th>\n",
              "      <td>0.409016</td>\n",
              "      <td>0.416879</td>\n",
              "      <td>0.317306</td>\n",
              "      <td>0.316349</td>\n",
              "      <td>0.357839</td>\n",
              "      <td>0.333859</td>\n",
              "      <td>0.417315</td>\n",
              "      <td>0.352080</td>\n",
              "      <td>0.412930</td>\n",
              "      <td>0.356925</td>\n",
              "      <td>0.352650</td>\n",
              "      <td>0.358029</td>\n",
              "      <td>0.324454</td>\n",
              "      <td>0.299658</td>\n",
              "      <td>0.372147</td>\n",
              "      <td>0.338009</td>\n",
              "      <td>0.339216</td>\n",
              "      <td>0.326129</td>\n",
              "      <td>0.370908</td>\n",
              "    </tr>\n",
              "    <tr>\n",
              "      <th>44</th>\n",
              "      <td>0.529985</td>\n",
              "      <td>0.396210</td>\n",
              "      <td>0.537137</td>\n",
              "      <td>0.459807</td>\n",
              "      <td>0.542329</td>\n",
              "      <td>0.446875</td>\n",
              "      <td>0.446765</td>\n",
              "      <td>0.375467</td>\n",
              "      <td>0.444124</td>\n",
              "      <td>0.359665</td>\n",
              "      <td>0.472363</td>\n",
              "      <td>0.343731</td>\n",
              "      <td>0.506372</td>\n",
              "      <td>0.358739</td>\n",
              "      <td>0.359694</td>\n",
              "      <td>0.312037</td>\n",
              "      <td>0.494724</td>\n",
              "      <td>0.418603</td>\n",
              "      <td>0.407630</td>\n",
              "    </tr>\n",
              "    <tr>\n",
              "      <th>45</th>\n",
              "      <td>0.479652</td>\n",
              "      <td>0.443797</td>\n",
              "      <td>0.396333</td>\n",
              "      <td>0.548171</td>\n",
              "      <td>0.524749</td>\n",
              "      <td>0.547611</td>\n",
              "      <td>0.544825</td>\n",
              "      <td>0.495596</td>\n",
              "      <td>0.514852</td>\n",
              "      <td>0.479078</td>\n",
              "      <td>0.514061</td>\n",
              "      <td>0.450380</td>\n",
              "      <td>0.549250</td>\n",
              "      <td>0.464452</td>\n",
              "      <td>0.520252</td>\n",
              "      <td>0.470117</td>\n",
              "      <td>0.465750</td>\n",
              "      <td>0.520558</td>\n",
              "      <td>0.528908</td>\n",
              "    </tr>\n",
              "    <tr>\n",
              "      <th>46</th>\n",
              "      <td>0.432434</td>\n",
              "      <td>0.606683</td>\n",
              "      <td>0.384260</td>\n",
              "      <td>0.489442</td>\n",
              "      <td>0.403215</td>\n",
              "      <td>0.338856</td>\n",
              "      <td>0.519063</td>\n",
              "      <td>0.360512</td>\n",
              "      <td>0.418307</td>\n",
              "      <td>0.508231</td>\n",
              "      <td>0.481206</td>\n",
              "      <td>0.491048</td>\n",
              "      <td>0.422921</td>\n",
              "      <td>0.601648</td>\n",
              "      <td>0.468496</td>\n",
              "      <td>0.494314</td>\n",
              "      <td>0.524354</td>\n",
              "      <td>0.349530</td>\n",
              "      <td>0.373481</td>\n",
              "    </tr>\n",
              "    <tr>\n",
              "      <th>47</th>\n",
              "      <td>0.524265</td>\n",
              "      <td>0.489358</td>\n",
              "      <td>0.302404</td>\n",
              "      <td>0.332269</td>\n",
              "      <td>0.304918</td>\n",
              "      <td>0.428393</td>\n",
              "      <td>0.491198</td>\n",
              "      <td>0.403722</td>\n",
              "      <td>0.462062</td>\n",
              "      <td>0.397379</td>\n",
              "      <td>0.538896</td>\n",
              "      <td>0.374021</td>\n",
              "      <td>0.493520</td>\n",
              "      <td>0.402902</td>\n",
              "      <td>0.372703</td>\n",
              "      <td>0.222965</td>\n",
              "      <td>0.643482</td>\n",
              "      <td>0.499138</td>\n",
              "      <td>0.555426</td>\n",
              "    </tr>\n",
              "    <tr>\n",
              "      <th>48</th>\n",
              "      <td>0.403734</td>\n",
              "      <td>0.501989</td>\n",
              "      <td>0.472584</td>\n",
              "      <td>0.540477</td>\n",
              "      <td>0.518459</td>\n",
              "      <td>0.481953</td>\n",
              "      <td>0.457643</td>\n",
              "      <td>0.471160</td>\n",
              "      <td>0.338513</td>\n",
              "      <td>0.415771</td>\n",
              "      <td>0.433315</td>\n",
              "      <td>0.469859</td>\n",
              "      <td>0.411363</td>\n",
              "      <td>0.478718</td>\n",
              "      <td>0.429171</td>\n",
              "      <td>0.465618</td>\n",
              "      <td>0.330386</td>\n",
              "      <td>0.404927</td>\n",
              "      <td>0.388692</td>\n",
              "    </tr>\n",
              "    <tr>\n",
              "      <th>49</th>\n",
              "      <td>0.717472</td>\n",
              "      <td>0.597641</td>\n",
              "      <td>0.657855</td>\n",
              "      <td>0.573328</td>\n",
              "      <td>0.366226</td>\n",
              "      <td>0.600524</td>\n",
              "      <td>0.590425</td>\n",
              "      <td>0.582287</td>\n",
              "      <td>0.401304</td>\n",
              "      <td>0.533795</td>\n",
              "      <td>0.617188</td>\n",
              "      <td>0.555698</td>\n",
              "      <td>0.654760</td>\n",
              "      <td>0.613767</td>\n",
              "      <td>0.611762</td>\n",
              "      <td>0.558051</td>\n",
              "      <td>0.735834</td>\n",
              "      <td>0.518970</td>\n",
              "      <td>0.518829</td>\n",
              "    </tr>\n",
              "    <tr>\n",
              "      <th>50</th>\n",
              "      <td>0.730476</td>\n",
              "      <td>0.499869</td>\n",
              "      <td>0.715093</td>\n",
              "      <td>0.450819</td>\n",
              "      <td>0.693941</td>\n",
              "      <td>0.481269</td>\n",
              "      <td>0.681214</td>\n",
              "      <td>0.375684</td>\n",
              "      <td>0.567796</td>\n",
              "      <td>0.319409</td>\n",
              "      <td>0.673875</td>\n",
              "      <td>0.531315</td>\n",
              "      <td>0.523278</td>\n",
              "      <td>0.523579</td>\n",
              "      <td>0.548002</td>\n",
              "      <td>0.342107</td>\n",
              "      <td>0.694951</td>\n",
              "      <td>0.376612</td>\n",
              "      <td>0.595613</td>\n",
              "    </tr>\n",
              "    <tr>\n",
              "      <th>51</th>\n",
              "      <td>0.515198</td>\n",
              "      <td>0.420807</td>\n",
              "      <td>0.480835</td>\n",
              "      <td>0.355098</td>\n",
              "      <td>0.462583</td>\n",
              "      <td>0.367657</td>\n",
              "      <td>0.485725</td>\n",
              "      <td>0.327687</td>\n",
              "      <td>0.344332</td>\n",
              "      <td>0.308069</td>\n",
              "      <td>0.497049</td>\n",
              "      <td>0.349068</td>\n",
              "      <td>0.494131</td>\n",
              "      <td>0.351603</td>\n",
              "      <td>0.490473</td>\n",
              "      <td>0.339665</td>\n",
              "      <td>0.471236</td>\n",
              "      <td>0.352451</td>\n",
              "      <td>0.450711</td>\n",
              "    </tr>\n",
              "    <tr>\n",
              "      <th>52</th>\n",
              "      <td>0.679983</td>\n",
              "      <td>0.670514</td>\n",
              "      <td>0.600274</td>\n",
              "      <td>0.613663</td>\n",
              "      <td>0.526397</td>\n",
              "      <td>0.488955</td>\n",
              "      <td>0.423848</td>\n",
              "      <td>0.428126</td>\n",
              "      <td>0.332843</td>\n",
              "      <td>0.295853</td>\n",
              "      <td>0.555712</td>\n",
              "      <td>0.566357</td>\n",
              "      <td>0.432743</td>\n",
              "      <td>0.405057</td>\n",
              "      <td>0.389845</td>\n",
              "      <td>0.278845</td>\n",
              "      <td>0.518387</td>\n",
              "      <td>0.477050</td>\n",
              "      <td>0.339445</td>\n",
              "    </tr>\n",
              "    <tr>\n",
              "      <th>53</th>\n",
              "      <td>0.495289</td>\n",
              "      <td>0.386445</td>\n",
              "      <td>0.496600</td>\n",
              "      <td>0.440757</td>\n",
              "      <td>0.479994</td>\n",
              "      <td>0.427254</td>\n",
              "      <td>0.470718</td>\n",
              "      <td>0.398065</td>\n",
              "      <td>0.415511</td>\n",
              "      <td>0.347587</td>\n",
              "      <td>0.435248</td>\n",
              "      <td>0.468091</td>\n",
              "      <td>0.455621</td>\n",
              "      <td>0.418116</td>\n",
              "      <td>0.423654</td>\n",
              "      <td>0.331288</td>\n",
              "      <td>0.423828</td>\n",
              "      <td>0.345257</td>\n",
              "      <td>0.391213</td>\n",
              "    </tr>\n",
              "    <tr>\n",
              "      <th>54</th>\n",
              "      <td>0.346728</td>\n",
              "      <td>0.349953</td>\n",
              "      <td>0.269075</td>\n",
              "      <td>0.385107</td>\n",
              "      <td>0.356717</td>\n",
              "      <td>0.357063</td>\n",
              "      <td>0.399523</td>\n",
              "      <td>0.381466</td>\n",
              "      <td>0.323970</td>\n",
              "      <td>0.345051</td>\n",
              "      <td>0.326669</td>\n",
              "      <td>0.354396</td>\n",
              "      <td>0.294943</td>\n",
              "      <td>0.333255</td>\n",
              "      <td>0.274424</td>\n",
              "      <td>0.265409</td>\n",
              "      <td>0.334144</td>\n",
              "      <td>0.288652</td>\n",
              "      <td>0.287194</td>\n",
              "    </tr>\n",
              "    <tr>\n",
              "      <th>55</th>\n",
              "      <td>0.389418</td>\n",
              "      <td>0.363067</td>\n",
              "      <td>0.297608</td>\n",
              "      <td>0.345138</td>\n",
              "      <td>0.253484</td>\n",
              "      <td>0.305402</td>\n",
              "      <td>0.274768</td>\n",
              "      <td>0.290901</td>\n",
              "      <td>0.222186</td>\n",
              "      <td>0.286082</td>\n",
              "      <td>0.357862</td>\n",
              "      <td>0.261725</td>\n",
              "      <td>0.303925</td>\n",
              "      <td>0.219097</td>\n",
              "      <td>0.201936</td>\n",
              "      <td>0.183617</td>\n",
              "      <td>0.357093</td>\n",
              "      <td>0.308824</td>\n",
              "      <td>0.245408</td>\n",
              "    </tr>\n",
              "    <tr>\n",
              "      <th>56</th>\n",
              "      <td>0.493929</td>\n",
              "      <td>0.482957</td>\n",
              "      <td>0.465008</td>\n",
              "      <td>0.425016</td>\n",
              "      <td>0.424377</td>\n",
              "      <td>0.442432</td>\n",
              "      <td>0.418163</td>\n",
              "      <td>0.402503</td>\n",
              "      <td>0.343325</td>\n",
              "      <td>0.341515</td>\n",
              "      <td>0.452986</td>\n",
              "      <td>0.357056</td>\n",
              "      <td>0.484984</td>\n",
              "      <td>0.345099</td>\n",
              "      <td>0.345260</td>\n",
              "      <td>0.270082</td>\n",
              "      <td>0.362310</td>\n",
              "      <td>0.425326</td>\n",
              "      <td>0.402578</td>\n",
              "    </tr>\n",
              "    <tr>\n",
              "      <th>57</th>\n",
              "      <td>0.342424</td>\n",
              "      <td>0.299340</td>\n",
              "      <td>0.338799</td>\n",
              "      <td>0.330498</td>\n",
              "      <td>0.321275</td>\n",
              "      <td>0.294006</td>\n",
              "      <td>0.289052</td>\n",
              "      <td>0.278982</td>\n",
              "      <td>0.215978</td>\n",
              "      <td>0.240312</td>\n",
              "      <td>0.296826</td>\n",
              "      <td>0.192257</td>\n",
              "      <td>0.279088</td>\n",
              "      <td>0.248070</td>\n",
              "      <td>0.216479</td>\n",
              "      <td>0.231475</td>\n",
              "      <td>0.318145</td>\n",
              "      <td>0.277487</td>\n",
              "      <td>0.245635</td>\n",
              "    </tr>\n",
              "    <tr>\n",
              "      <th>58</th>\n",
              "      <td>0.645028</td>\n",
              "      <td>0.562553</td>\n",
              "      <td>0.627481</td>\n",
              "      <td>0.582732</td>\n",
              "      <td>0.591751</td>\n",
              "      <td>0.599194</td>\n",
              "      <td>0.626127</td>\n",
              "      <td>0.644794</td>\n",
              "      <td>0.390957</td>\n",
              "      <td>0.567695</td>\n",
              "      <td>0.520613</td>\n",
              "      <td>0.485180</td>\n",
              "      <td>0.507625</td>\n",
              "      <td>0.584895</td>\n",
              "      <td>0.339653</td>\n",
              "      <td>0.503549</td>\n",
              "      <td>0.505653</td>\n",
              "      <td>0.503269</td>\n",
              "      <td>0.517765</td>\n",
              "    </tr>\n",
              "    <tr>\n",
              "      <th>59</th>\n",
              "      <td>0.505639</td>\n",
              "      <td>0.580036</td>\n",
              "      <td>0.476804</td>\n",
              "      <td>0.664334</td>\n",
              "      <td>0.588472</td>\n",
              "      <td>0.536663</td>\n",
              "      <td>0.539833</td>\n",
              "      <td>0.643712</td>\n",
              "      <td>0.324858</td>\n",
              "      <td>0.472793</td>\n",
              "      <td>0.532639</td>\n",
              "      <td>0.637687</td>\n",
              "      <td>0.573341</td>\n",
              "      <td>0.680635</td>\n",
              "      <td>0.441710</td>\n",
              "      <td>0.504269</td>\n",
              "      <td>0.425183</td>\n",
              "      <td>0.476632</td>\n",
              "      <td>0.448587</td>\n",
              "    </tr>\n",
              "  </tbody>\n",
              "</table>\n",
              "</div>"
            ],
            "text/plain": [
              "          0         1         2   ...        16        17        18\n",
              "0   0.533556  0.407173  0.608165  ...  0.543005  0.576837  0.554650\n",
              "1   0.644279  0.683295  0.684821  ...  0.651331  0.599394  0.599786\n",
              "2   0.473806  0.475900  0.503831  ...  0.411015  0.472713  0.412962\n",
              "3   1.240580  1.027744  1.250100  ...  1.073999  1.013474  1.099422\n",
              "4   0.363283  0.386683  0.374321  ...  0.385550  0.296194  0.318435\n",
              "5   0.743503  0.468142  0.604916  ...  0.722345  0.415696  0.739170\n",
              "6   0.632322  0.550824  0.681850  ...  0.583342  0.495985  0.550173\n",
              "7   0.581951  0.614235  0.624612  ...  0.627964  0.582889  0.641065\n",
              "8   0.378432  0.359593  0.335976  ...  0.408887  0.359780  0.375686\n",
              "9   0.382444  0.370829  0.375015  ...  0.361078  0.331242  0.346218\n",
              "10  0.535815  0.510436  0.523854  ...  0.494991  0.465443  0.442177\n",
              "11  0.547319  0.759185  0.534032  ...  0.515119  0.746668  0.465040\n",
              "12  0.457996  0.373378  0.476861  ...  0.399094  0.305241  0.434503\n",
              "13  0.373831  0.350524  0.385196  ...  0.372361  0.391981  0.367789\n",
              "14  0.428667  0.452077  0.319318  ...  0.335704  0.415892  0.255864\n",
              "15  0.662135  0.593726  0.583608  ...  0.494807  0.370045  0.595835\n",
              "16  0.674966  0.539159  0.624743  ...  0.602414  0.448765  0.648226\n",
              "17  0.339629  0.401347  0.385452  ...  0.345392  0.547924  0.354627\n",
              "18  0.408578  0.397774  0.378953  ...  0.404420  0.335968  0.414331\n",
              "19  0.522211  0.457439  0.404759  ...  0.342454  0.257496  0.337546\n",
              "20  0.510654  0.481651  0.510037  ...  0.416129  0.372880  0.445334\n",
              "21  0.463901  0.494956  0.534565  ...  0.496163  0.387639  0.460048\n",
              "22  0.587176  0.552304  0.471419  ...  0.471192  0.394309  0.449429\n",
              "23  0.524208  0.519723  0.428506  ...  0.398279  0.399888  0.369804\n",
              "24  0.472902  0.550379  0.477465  ...  0.476045  0.535269  0.451934\n",
              "25  0.675019  0.605341  0.660954  ...  0.652740  0.472037  0.637690\n",
              "26  0.484981  0.773561  0.454384  ...  0.431178  0.774234  0.412962\n",
              "27  0.312818  0.335736  0.311461  ...  0.314556  0.332254  0.323246\n",
              "28  0.406968  0.344701  0.435635  ...  0.380176  0.504495  0.402557\n",
              "29  0.366993  0.338208  0.345812  ...  0.308002  0.287004  0.237872\n",
              "30  0.325213  0.378465  0.332576  ...  0.308668  0.358913  0.274813\n",
              "31  0.482346  0.543784  0.458620  ...  0.502312  0.516920  0.448009\n",
              "32  0.525436  0.403817  0.564427  ...  0.517594  0.448811  0.490425\n",
              "33  0.205288  0.226224  0.219344  ...  0.215917  0.240830  0.224529\n",
              "34  0.371493  0.225564  0.386416  ...  0.338594  0.263936  0.342010\n",
              "35  0.561708  0.434165  0.592200  ...  0.644507  0.580134  0.659343\n",
              "36  0.393923  0.388604  0.395889  ...  0.409140  0.376370  0.306402\n",
              "37  0.305573  0.295691  0.334732  ...  0.328345  0.308516  0.315846\n",
              "38  0.771934  0.589649  0.770310  ...  0.729510  0.585675  0.617547\n",
              "39  0.911898  0.408879  0.908295  ...  0.885629  0.344019  0.816903\n",
              "40  0.396224  0.348426  0.428341  ...  0.401579  0.383950  0.466160\n",
              "41  0.622557  0.547048  0.663514  ...  0.544375  0.475159  0.516196\n",
              "42  0.461183  0.483980  0.511563  ...  0.509235  0.485138  0.541494\n",
              "43  0.409016  0.416879  0.317306  ...  0.339216  0.326129  0.370908\n",
              "44  0.529985  0.396210  0.537137  ...  0.494724  0.418603  0.407630\n",
              "45  0.479652  0.443797  0.396333  ...  0.465750  0.520558  0.528908\n",
              "46  0.432434  0.606683  0.384260  ...  0.524354  0.349530  0.373481\n",
              "47  0.524265  0.489358  0.302404  ...  0.643482  0.499138  0.555426\n",
              "48  0.403734  0.501989  0.472584  ...  0.330386  0.404927  0.388692\n",
              "49  0.717472  0.597641  0.657855  ...  0.735834  0.518970  0.518829\n",
              "50  0.730476  0.499869  0.715093  ...  0.694951  0.376612  0.595613\n",
              "51  0.515198  0.420807  0.480835  ...  0.471236  0.352451  0.450711\n",
              "52  0.679983  0.670514  0.600274  ...  0.518387  0.477050  0.339445\n",
              "53  0.495289  0.386445  0.496600  ...  0.423828  0.345257  0.391213\n",
              "54  0.346728  0.349953  0.269075  ...  0.334144  0.288652  0.287194\n",
              "55  0.389418  0.363067  0.297608  ...  0.357093  0.308824  0.245408\n",
              "56  0.493929  0.482957  0.465008  ...  0.362310  0.425326  0.402578\n",
              "57  0.342424  0.299340  0.338799  ...  0.318145  0.277487  0.245635\n",
              "58  0.645028  0.562553  0.627481  ...  0.505653  0.503269  0.517765\n",
              "59  0.505639  0.580036  0.476804  ...  0.425183  0.476632  0.448587\n",
              "\n",
              "[60 rows x 19 columns]"
            ]
          },
          "metadata": {},
          "execution_count": 29
        }
      ]
    },
    {
      "cell_type": "code",
      "metadata": {
        "id": "9ABZj_zu8Wjf"
      },
      "source": [
        "Global_minimum_for_ahdc=list()\n",
        "for i in MIC_ADHD_Dataframe.columns:\n",
        "  Global_minimum_for_ahdc.append(min(list(MIC_ADHD_Dataframe[i])))"
      ],
      "execution_count": null,
      "outputs": []
    },
    {
      "cell_type": "code",
      "metadata": {
        "id": "vT4-CI7g8bMM"
      },
      "source": [
        "Global_minimum_for_control=list()\n",
        "for i in MIC_ADHD_Dataframe.columns:\n",
        "  Global_minimum_for_control.append(min(list(MIC_Control_Dataframe[i])))"
      ],
      "execution_count": null,
      "outputs": []
    },
    {
      "cell_type": "markdown",
      "metadata": {
        "id": "1r-axgdbiRrY"
      },
      "source": [
        "# `Topoplot for Global minimum`"
      ]
    },
    {
      "cell_type": "code",
      "metadata": {
        "id": "_OiamD7HMyz2",
        "colab": {
          "base_uri": "https://localhost:8080/"
        },
        "outputId": "21b40cc0-20e0-4684-911c-65dd7e57db52"
      },
      "source": [
        "biosemi_montage = mne.channels.make_standard_montage('biosemi64')\n",
        "fake_info = mne.create_info(ch_names=label_column, sfreq=250.,\n",
        "                            ch_types='eeg')\n",
        "rng = np.random.RandomState(0)\n",
        "data = rng.normal(size=(len(label_column), 1)) * 1e-6\n",
        "fake_evoked = mne.EvokedArray(data, fake_info)\n",
        "fake_evoked.set_montage(biosemi_montage)"
      ],
      "execution_count": null,
      "outputs": [
        {
          "output_type": "execute_result",
          "data": {
            "text/plain": [
              "<Evoked | '' (average, N=1), 0 – 0 sec, baseline off, 19 ch, ~33 kB>"
            ]
          },
          "metadata": {},
          "execution_count": 33
        }
      ]
    },
    {
      "cell_type": "code",
      "metadata": {
        "colab": {
          "base_uri": "https://localhost:8080/"
        },
        "id": "gpDNc3pwNM4H",
        "outputId": "779b92cf-ea3a-4193-de4f-049807312dc9"
      },
      "source": [
        "montage_head = fake_evoked.get_montage()\n",
        "ch_pos = montage_head.get_positions()['ch_pos']\n",
        "pos = np.stack([ch_pos[ch] for ch in label_column])\n",
        "radius = np.abs(pos[[2, 3], 0]).mean()\n",
        "x = pos[0, 0]\n",
        "y = pos[-1, 1]\n",
        "z = pos[:, -1].mean()\n",
        "print([f'{v:0.5f}' for v in [x, y, z, radius]])"
      ],
      "execution_count": null,
      "outputs": [
        {
          "output_type": "stream",
          "name": "stdout",
          "text": [
            "['-0.02934', '-0.06834', '0.06730', '0.05178']\n"
          ]
        }
      ]
    },
    {
      "cell_type": "code",
      "metadata": {
        "colab": {
          "base_uri": "https://localhost:8080/",
          "height": 254
        },
        "id": "_X_qXundOBd3",
        "outputId": "0ce0f1d7-ce91-4f82-8f15-ea50c00655c3"
      },
      "source": [
        "fig, ax = plt.subplots(ncols=2, figsize=(8, 4), gridspec_kw=dict(top=0.9),\n",
        "                       sharex=True, sharey=True)\n",
        "\n",
        "mne.viz.plot_topomap(Global_minimum_for_ahdc, fake_evoked.info, axes=ax[0],cmap='viridis',show=False,names=label_column,show_names=True)\n",
        "mne.viz.plot_topomap(Global_minimum_for_control, fake_evoked.info, axes=ax[1],cmap='viridis',show=False,names=label_column,show_names=True)\n",
        "ax[0].set_title('AHDC')\n",
        "ax[1].set_title('Control')"
      ],
      "execution_count": null,
      "outputs": [
        {
          "output_type": "execute_result",
          "data": {
            "text/plain": [
              "Text(0.5, 1.0, 'Control')"
            ]
          },
          "metadata": {},
          "execution_count": 36
        },
        {
          "output_type": "display_data",
          "data": {
            "image/png": "[encoded data removed]",
            "text/plain": [
              "<Figure size 576x288 with 2 Axes>"
            ]
          },
          "metadata": {}
        }
      ]
    },
    {
      "cell_type": "code",
      "metadata": {
        "id": "mmQXg_j9XxiD"
      },
      "source": [
        "pca_=PCA(n_components=2)"
      ],
      "execution_count": null,
      "outputs": []
    },
    {
      "cell_type": "code",
      "metadata": {
        "id": "-YPdKMrZX4_S"
      },
      "source": [
        "MIC_ADHD_Dataframe['Label']=[1 for i in range(MIC_ADHD_Dataframe.shape[0])]\n",
        "MIC_Control_Dataframe['Label']=[0 for i in range(MIC_Control_Dataframe.shape[0])]"
      ],
      "execution_count": null,
      "outputs": []
    },
    {
      "cell_type": "code",
      "metadata": {
        "id": "NnIOmC1sYPhz"
      },
      "source": [
        "MIC_final=pd.concat([MIC_ADHD_Dataframe,MIC_Control_Dataframe])"
      ],
      "execution_count": null,
      "outputs": []
    },
    {
      "cell_type": "code",
      "metadata": {
        "id": "B4XXqcvrYYlC"
      },
      "source": [
        "MIC_final.reset_index(inplace=True)"
      ],
      "execution_count": null,
      "outputs": []
    },
    {
      "cell_type": "code",
      "metadata": {
        "id": "0EClwd3iYaXq"
      },
      "source": [
        "MIC_final.drop(['index'],axis=1,inplace=True)"
      ],
      "execution_count": null,
      "outputs": []
    },
    {
      "cell_type": "markdown",
      "metadata": {
        "id": "ors55sd-iDza"
      },
      "source": [
        "# `Finding optimal number of components for PCA`"
      ]
    },
    {
      "cell_type": "code",
      "metadata": {
        "id": "oPLCT5XFZbbf"
      },
      "source": [
        "features=[i for i in MIC_final if i!='Label']"
      ],
      "execution_count": null,
      "outputs": []
    },
    {
      "cell_type": "code",
      "metadata": {
        "id": "j7D1S1b6ZT5R"
      },
      "source": [
        "X=MIC_final[features]"
      ],
      "execution_count": null,
      "outputs": []
    },
    {
      "cell_type": "code",
      "metadata": {
        "id": "etvFz-W_Yjqi"
      },
      "source": [
        "pca_with_2_components=pca_.fit_transform(X)"
      ],
      "execution_count": null,
      "outputs": []
    },
    {
      "cell_type": "code",
      "metadata": {
        "id": "nhT3XFdpZKGq"
      },
      "source": [
        "pca_with_2_components=pd.DataFrame(pca_with_2_components,columns=[\"P1\",\"P2\"])"
      ],
      "execution_count": null,
      "outputs": []
    },
    {
      "cell_type": "code",
      "metadata": {
        "id": "3uuOeFi0akBc",
        "colab": {
          "base_uri": "https://localhost:8080/",
          "height": 423
        },
        "outputId": "975e503c-41e3-4bbb-c11c-4d0818e3eb38"
      },
      "source": [
        "pca_with_2_components"
      ],
      "execution_count": null,
      "outputs": [
        {
          "output_type": "execute_result",
          "data": {
            "text/html": [
              "<div>\n",
              "<style scoped>\n",
              "    .dataframe tbody tr th:only-of-type {\n",
              "        vertical-align: middle;\n",
              "    }\n",
              "\n",
              "    .dataframe tbody tr th {\n",
              "        vertical-align: top;\n",
              "    }\n",
              "\n",
              "    .dataframe thead th {\n",
              "        text-align: right;\n",
              "    }\n",
              "</style>\n",
              "<table border=\"1\" class=\"dataframe\">\n",
              "  <thead>\n",
              "    <tr style=\"text-align: right;\">\n",
              "      <th></th>\n",
              "      <th>P1</th>\n",
              "      <th>P2</th>\n",
              "    </tr>\n",
              "  </thead>\n",
              "  <tbody>\n",
              "    <tr>\n",
              "      <th>0</th>\n",
              "      <td>-0.330462</td>\n",
              "      <td>-0.023961</td>\n",
              "    </tr>\n",
              "    <tr>\n",
              "      <th>1</th>\n",
              "      <td>0.507964</td>\n",
              "      <td>0.063688</td>\n",
              "    </tr>\n",
              "    <tr>\n",
              "      <th>2</th>\n",
              "      <td>0.248061</td>\n",
              "      <td>-0.473924</td>\n",
              "    </tr>\n",
              "    <tr>\n",
              "      <th>3</th>\n",
              "      <td>-0.219435</td>\n",
              "      <td>0.047274</td>\n",
              "    </tr>\n",
              "    <tr>\n",
              "      <th>4</th>\n",
              "      <td>0.252337</td>\n",
              "      <td>0.038495</td>\n",
              "    </tr>\n",
              "    <tr>\n",
              "      <th>...</th>\n",
              "      <td>...</td>\n",
              "      <td>...</td>\n",
              "    </tr>\n",
              "    <tr>\n",
              "      <th>116</th>\n",
              "      <td>-0.629891</td>\n",
              "      <td>-0.024150</td>\n",
              "    </tr>\n",
              "    <tr>\n",
              "      <th>117</th>\n",
              "      <td>-0.114262</td>\n",
              "      <td>-0.036587</td>\n",
              "    </tr>\n",
              "    <tr>\n",
              "      <th>118</th>\n",
              "      <td>-0.670725</td>\n",
              "      <td>-0.056379</td>\n",
              "    </tr>\n",
              "    <tr>\n",
              "      <th>119</th>\n",
              "      <td>0.469929</td>\n",
              "      <td>0.171088</td>\n",
              "    </tr>\n",
              "    <tr>\n",
              "      <th>120</th>\n",
              "      <td>0.416223</td>\n",
              "      <td>0.286798</td>\n",
              "    </tr>\n",
              "  </tbody>\n",
              "</table>\n",
              "<p>121 rows × 2 columns</p>\n",
              "</div>"
            ],
            "text/plain": [
              "           P1        P2\n",
              "0   -0.330462 -0.023961\n",
              "1    0.507964  0.063688\n",
              "2    0.248061 -0.473924\n",
              "3   -0.219435  0.047274\n",
              "4    0.252337  0.038495\n",
              "..        ...       ...\n",
              "116 -0.629891 -0.024150\n",
              "117 -0.114262 -0.036587\n",
              "118 -0.670725 -0.056379\n",
              "119  0.469929  0.171088\n",
              "120  0.416223  0.286798\n",
              "\n",
              "[121 rows x 2 columns]"
            ]
          },
          "metadata": {},
          "execution_count": 48
        }
      ]
    },
    {
      "cell_type": "code",
      "metadata": {
        "id": "8YmvqJJ7aoNu"
      },
      "source": [
        "pca_with_2_components['Label']=MIC_final['Label']"
      ],
      "execution_count": null,
      "outputs": []
    },
    {
      "cell_type": "code",
      "metadata": {
        "id": "ysnw3khFZ_Bf",
        "colab": {
          "base_uri": "https://localhost:8080/",
          "height": 296
        },
        "outputId": "77411eaa-7d5e-4e43-e0a7-875910ddcb05"
      },
      "source": [
        "import seaborn as sns\n",
        "sns.scatterplot(data=pca_with_2_components,x='P1',y='P2',hue='Label')"
      ],
      "execution_count": null,
      "outputs": [
        {
          "output_type": "execute_result",
          "data": {
            "text/plain": [
              "<matplotlib.axes._subplots.AxesSubplot at 0x7fcb332dce90>"
            ]
          },
          "metadata": {},
          "execution_count": 50
        },
        {
          "output_type": "display_data",
          "data": {
            "image/png": "[encoded data removed]",
            "text/plain": [
              "<Figure size 432x288 with 1 Axes>"
            ]
          },
          "metadata": {
            "needs_background": "light"
          }
        }
      ]
    },
    {
      "cell_type": "markdown",
      "metadata": {
        "id": "YswYFVRebD1w"
      },
      "source": [
        "Therefore, the given data is not linearly separable when the number of dimensions is 2"
      ]
    },
    {
      "cell_type": "code",
      "metadata": {
        "id": "tFj1ntwdZMYi",
        "colab": {
          "base_uri": "https://localhost:8080/",
          "height": 404
        },
        "outputId": "9c6f28d8-219d-4f15-e24c-e79ec8b2bf71"
      },
      "source": [
        "pca = PCA().fit(X)\n",
        "import matplotlib.pyplot as plt\n",
        "plt.rcParams[\"figure.figsize\"] = (12,6)\n",
        "fig, ax = plt.subplots()\n",
        "xi = np.arange(0, 19, step=1)\n",
        "y = np.cumsum(pca.explained_variance_ratio_)\n",
        "\n",
        "plt.ylim(0.0,1.1)\n",
        "plt.plot(xi, y, marker='o', linestyle='--', color='b')\n",
        "\n",
        "plt.xlabel('Number of Components')\n",
        "plt.xticks(np.arange(0, 19, step=1)) #change from 0-based array index to 1-based human-readable label\n",
        "plt.ylabel('Cumulative variance (%)')\n",
        "plt.title('The number of components needed to explain variance')\n",
        "\n",
        "plt.axhline(y=0.95, color='r', linestyle='-')\n",
        "plt.text(0.5, 0.85, '95% cut-off threshold', color = 'red', fontsize=16)\n",
        "\n",
        "ax.grid(axis='x')\n",
        "plt.show()"
      ],
      "execution_count": null,
      "outputs": [
        {
          "output_type": "display_data",
          "data": {
            "image/png": "[encoded data removed]",
            "text/plain": [
              "<Figure size 864x432 with 1 Axes>"
            ]
          },
          "metadata": {
            "needs_background": "light"
          }
        }
      ]
    },
    {
      "cell_type": "code",
      "metadata": {
        "id": "WnGKRyyXeWtq"
      },
      "source": [
        "optimal_pca=PCA(n_components=7)"
      ],
      "execution_count": null,
      "outputs": []
    },
    {
      "cell_type": "code",
      "metadata": {
        "id": "59OmG1iqf8GL"
      },
      "source": [
        "X=MIC_final[features]"
      ],
      "execution_count": null,
      "outputs": []
    },
    {
      "cell_type": "code",
      "metadata": {
        "colab": {
          "base_uri": "https://localhost:8080/",
          "height": 443
        },
        "id": "asrUOOsYxLEg",
        "outputId": "7c9edcad-d7aa-4ad2-d927-0c09c865d77e"
      },
      "source": [
        "X"
      ],
      "execution_count": null,
      "outputs": [
        {
          "output_type": "execute_result",
          "data": {
            "text/html": [
              "<div>\n",
              "<style scoped>\n",
              "    .dataframe tbody tr th:only-of-type {\n",
              "        vertical-align: middle;\n",
              "    }\n",
              "\n",
              "    .dataframe tbody tr th {\n",
              "        vertical-align: top;\n",
              "    }\n",
              "\n",
              "    .dataframe thead th {\n",
              "        text-align: right;\n",
              "    }\n",
              "</style>\n",
              "<table border=\"1\" class=\"dataframe\">\n",
              "  <thead>\n",
              "    <tr style=\"text-align: right;\">\n",
              "      <th></th>\n",
              "      <th>0</th>\n",
              "      <th>1</th>\n",
              "      <th>2</th>\n",
              "      <th>3</th>\n",
              "      <th>4</th>\n",
              "      <th>5</th>\n",
              "      <th>6</th>\n",
              "      <th>7</th>\n",
              "      <th>8</th>\n",
              "      <th>9</th>\n",
              "      <th>10</th>\n",
              "      <th>11</th>\n",
              "      <th>12</th>\n",
              "      <th>13</th>\n",
              "      <th>14</th>\n",
              "      <th>15</th>\n",
              "      <th>16</th>\n",
              "      <th>17</th>\n",
              "      <th>18</th>\n",
              "    </tr>\n",
              "  </thead>\n",
              "  <tbody>\n",
              "    <tr>\n",
              "      <th>0</th>\n",
              "      <td>0.460172</td>\n",
              "      <td>0.457262</td>\n",
              "      <td>0.424705</td>\n",
              "      <td>0.446676</td>\n",
              "      <td>0.425003</td>\n",
              "      <td>0.408109</td>\n",
              "      <td>0.356684</td>\n",
              "      <td>0.357975</td>\n",
              "      <td>0.444391</td>\n",
              "      <td>0.278662</td>\n",
              "      <td>0.375983</td>\n",
              "      <td>0.328976</td>\n",
              "      <td>0.362036</td>\n",
              "      <td>0.284975</td>\n",
              "      <td>0.211544</td>\n",
              "      <td>0.250477</td>\n",
              "      <td>0.306056</td>\n",
              "      <td>0.314510</td>\n",
              "      <td>0.271406</td>\n",
              "    </tr>\n",
              "    <tr>\n",
              "      <th>1</th>\n",
              "      <td>0.482539</td>\n",
              "      <td>0.574929</td>\n",
              "      <td>0.565867</td>\n",
              "      <td>0.604712</td>\n",
              "      <td>0.630327</td>\n",
              "      <td>0.592061</td>\n",
              "      <td>0.605194</td>\n",
              "      <td>0.588615</td>\n",
              "      <td>0.527350</td>\n",
              "      <td>0.523464</td>\n",
              "      <td>0.582243</td>\n",
              "      <td>0.533057</td>\n",
              "      <td>0.570766</td>\n",
              "      <td>0.512511</td>\n",
              "      <td>0.529637</td>\n",
              "      <td>0.486646</td>\n",
              "      <td>0.530088</td>\n",
              "      <td>0.473158</td>\n",
              "      <td>0.495314</td>\n",
              "    </tr>\n",
              "    <tr>\n",
              "      <th>2</th>\n",
              "      <td>0.554888</td>\n",
              "      <td>0.326155</td>\n",
              "      <td>0.611931</td>\n",
              "      <td>0.366350</td>\n",
              "      <td>0.639550</td>\n",
              "      <td>0.360334</td>\n",
              "      <td>0.562920</td>\n",
              "      <td>0.348756</td>\n",
              "      <td>0.507571</td>\n",
              "      <td>0.374723</td>\n",
              "      <td>0.670635</td>\n",
              "      <td>0.347868</td>\n",
              "      <td>0.675010</td>\n",
              "      <td>0.379733</td>\n",
              "      <td>0.584109</td>\n",
              "      <td>0.252634</td>\n",
              "      <td>0.596885</td>\n",
              "      <td>0.360787</td>\n",
              "      <td>0.531860</td>\n",
              "    </tr>\n",
              "    <tr>\n",
              "      <th>3</th>\n",
              "      <td>0.431437</td>\n",
              "      <td>0.442116</td>\n",
              "      <td>0.444356</td>\n",
              "      <td>0.441368</td>\n",
              "      <td>0.456678</td>\n",
              "      <td>0.436470</td>\n",
              "      <td>0.387919</td>\n",
              "      <td>0.439162</td>\n",
              "      <td>0.233374</td>\n",
              "      <td>0.289210</td>\n",
              "      <td>0.356369</td>\n",
              "      <td>0.359629</td>\n",
              "      <td>0.370060</td>\n",
              "      <td>0.320478</td>\n",
              "      <td>0.358651</td>\n",
              "      <td>0.366644</td>\n",
              "      <td>0.370716</td>\n",
              "      <td>0.372809</td>\n",
              "      <td>0.369661</td>\n",
              "    </tr>\n",
              "    <tr>\n",
              "      <th>4</th>\n",
              "      <td>0.446268</td>\n",
              "      <td>0.385899</td>\n",
              "      <td>0.607136</td>\n",
              "      <td>0.604085</td>\n",
              "      <td>0.628450</td>\n",
              "      <td>0.612343</td>\n",
              "      <td>0.590536</td>\n",
              "      <td>0.551488</td>\n",
              "      <td>0.396395</td>\n",
              "      <td>0.366135</td>\n",
              "      <td>0.364185</td>\n",
              "      <td>0.365790</td>\n",
              "      <td>0.477719</td>\n",
              "      <td>0.472333</td>\n",
              "      <td>0.400755</td>\n",
              "      <td>0.496778</td>\n",
              "      <td>0.559508</td>\n",
              "      <td>0.456824</td>\n",
              "      <td>0.507023</td>\n",
              "    </tr>\n",
              "    <tr>\n",
              "      <th>...</th>\n",
              "      <td>...</td>\n",
              "      <td>...</td>\n",
              "      <td>...</td>\n",
              "      <td>...</td>\n",
              "      <td>...</td>\n",
              "      <td>...</td>\n",
              "      <td>...</td>\n",
              "      <td>...</td>\n",
              "      <td>...</td>\n",
              "      <td>...</td>\n",
              "      <td>...</td>\n",
              "      <td>...</td>\n",
              "      <td>...</td>\n",
              "      <td>...</td>\n",
              "      <td>...</td>\n",
              "      <td>...</td>\n",
              "      <td>...</td>\n",
              "      <td>...</td>\n",
              "      <td>...</td>\n",
              "    </tr>\n",
              "    <tr>\n",
              "      <th>116</th>\n",
              "      <td>0.389418</td>\n",
              "      <td>0.363067</td>\n",
              "      <td>0.297608</td>\n",
              "      <td>0.345138</td>\n",
              "      <td>0.253484</td>\n",
              "      <td>0.305402</td>\n",
              "      <td>0.274768</td>\n",
              "      <td>0.290901</td>\n",
              "      <td>0.222186</td>\n",
              "      <td>0.286082</td>\n",
              "      <td>0.357862</td>\n",
              "      <td>0.261725</td>\n",
              "      <td>0.303925</td>\n",
              "      <td>0.219097</td>\n",
              "      <td>0.201936</td>\n",
              "      <td>0.183617</td>\n",
              "      <td>0.357093</td>\n",
              "      <td>0.308824</td>\n",
              "      <td>0.245408</td>\n",
              "    </tr>\n",
              "    <tr>\n",
              "      <th>117</th>\n",
              "      <td>0.493929</td>\n",
              "      <td>0.482957</td>\n",
              "      <td>0.465008</td>\n",
              "      <td>0.425016</td>\n",
              "      <td>0.424377</td>\n",
              "      <td>0.442432</td>\n",
              "      <td>0.418163</td>\n",
              "      <td>0.402503</td>\n",
              "      <td>0.343325</td>\n",
              "      <td>0.341515</td>\n",
              "      <td>0.452986</td>\n",
              "      <td>0.357056</td>\n",
              "      <td>0.484984</td>\n",
              "      <td>0.345099</td>\n",
              "      <td>0.345260</td>\n",
              "      <td>0.270082</td>\n",
              "      <td>0.362310</td>\n",
              "      <td>0.425326</td>\n",
              "      <td>0.402578</td>\n",
              "    </tr>\n",
              "    <tr>\n",
              "      <th>118</th>\n",
              "      <td>0.342424</td>\n",
              "      <td>0.299340</td>\n",
              "      <td>0.338799</td>\n",
              "      <td>0.330498</td>\n",
              "      <td>0.321275</td>\n",
              "      <td>0.294006</td>\n",
              "      <td>0.289052</td>\n",
              "      <td>0.278982</td>\n",
              "      <td>0.215978</td>\n",
              "      <td>0.240312</td>\n",
              "      <td>0.296826</td>\n",
              "      <td>0.192257</td>\n",
              "      <td>0.279088</td>\n",
              "      <td>0.248070</td>\n",
              "      <td>0.216479</td>\n",
              "      <td>0.231475</td>\n",
              "      <td>0.318145</td>\n",
              "      <td>0.277487</td>\n",
              "      <td>0.245635</td>\n",
              "    </tr>\n",
              "    <tr>\n",
              "      <th>119</th>\n",
              "      <td>0.645028</td>\n",
              "      <td>0.562553</td>\n",
              "      <td>0.627481</td>\n",
              "      <td>0.582732</td>\n",
              "      <td>0.591751</td>\n",
              "      <td>0.599194</td>\n",
              "      <td>0.626127</td>\n",
              "      <td>0.644794</td>\n",
              "      <td>0.390957</td>\n",
              "      <td>0.567695</td>\n",
              "      <td>0.520613</td>\n",
              "      <td>0.485180</td>\n",
              "      <td>0.507625</td>\n",
              "      <td>0.584895</td>\n",
              "      <td>0.339653</td>\n",
              "      <td>0.503549</td>\n",
              "      <td>0.505653</td>\n",
              "      <td>0.503269</td>\n",
              "      <td>0.517765</td>\n",
              "    </tr>\n",
              "    <tr>\n",
              "      <th>120</th>\n",
              "      <td>0.505639</td>\n",
              "      <td>0.580036</td>\n",
              "      <td>0.476804</td>\n",
              "      <td>0.664334</td>\n",
              "      <td>0.588472</td>\n",
              "      <td>0.536663</td>\n",
              "      <td>0.539833</td>\n",
              "      <td>0.643712</td>\n",
              "      <td>0.324858</td>\n",
              "      <td>0.472793</td>\n",
              "      <td>0.532639</td>\n",
              "      <td>0.637687</td>\n",
              "      <td>0.573341</td>\n",
              "      <td>0.680635</td>\n",
              "      <td>0.441710</td>\n",
              "      <td>0.504269</td>\n",
              "      <td>0.425183</td>\n",
              "      <td>0.476632</td>\n",
              "      <td>0.448587</td>\n",
              "    </tr>\n",
              "  </tbody>\n",
              "</table>\n",
              "<p>121 rows × 19 columns</p>\n",
              "</div>"
            ],
            "text/plain": [
              "           0         1         2   ...        16        17        18\n",
              "0    0.460172  0.457262  0.424705  ...  0.306056  0.314510  0.271406\n",
              "1    0.482539  0.574929  0.565867  ...  0.530088  0.473158  0.495314\n",
              "2    0.554888  0.326155  0.611931  ...  0.596885  0.360787  0.531860\n",
              "3    0.431437  0.442116  0.444356  ...  0.370716  0.372809  0.369661\n",
              "4    0.446268  0.385899  0.607136  ...  0.559508  0.456824  0.507023\n",
              "..        ...       ...       ...  ...       ...       ...       ...\n",
              "116  0.389418  0.363067  0.297608  ...  0.357093  0.308824  0.245408\n",
              "117  0.493929  0.482957  0.465008  ...  0.362310  0.425326  0.402578\n",
              "118  0.342424  0.299340  0.338799  ...  0.318145  0.277487  0.245635\n",
              "119  0.645028  0.562553  0.627481  ...  0.505653  0.503269  0.517765\n",
              "120  0.505639  0.580036  0.476804  ...  0.425183  0.476632  0.448587\n",
              "\n",
              "[121 rows x 19 columns]"
            ]
          },
          "metadata": {},
          "execution_count": 65
        }
      ]
    },
    {
      "cell_type": "code",
      "metadata": {
        "colab": {
          "base_uri": "https://localhost:8080/",
          "height": 395
        },
        "id": "ZTomHbhg9KXa",
        "outputId": "a89da65d-288e-44fc-d7f4-c9bdf862f52d"
      },
      "source": [
        "sns.heatmap(X.corr(),annot=True)"
      ],
      "execution_count": null,
      "outputs": [
        {
          "output_type": "execute_result",
          "data": {
            "text/plain": [
              "<matplotlib.axes._subplots.AxesSubplot at 0x7fcb23f32090>"
            ]
          },
          "metadata": {},
          "execution_count": 202
        },
        {
          "output_type": "display_data",
          "data": {
            "image/png": "[encoded data removed]",
            "text/plain": [
              "<Figure size 864x432 with 2 Axes>"
            ]
          },
          "metadata": {
            "needs_background": "light"
          }
        }
      ]
    },
    {
      "cell_type": "code",
      "metadata": {
        "id": "oh9IX3uSe_ij",
        "colab": {
          "base_uri": "https://localhost:8080/",
          "height": 423
        },
        "outputId": "8e0b897d-e7ec-4fe9-864b-e889d1d52cef"
      },
      "source": [
        "X_P=optimal_pca.fit_transform(X)\n",
        "X_P=pd.DataFrame(X_P,columns=['P1','P2','P3','P4','P5','P6','P7'])\n",
        "X_P"
      ],
      "execution_count": null,
      "outputs": [
        {
          "output_type": "execute_result",
          "data": {
            "text/html": [
              "<div>\n",
              "<style scoped>\n",
              "    .dataframe tbody tr th:only-of-type {\n",
              "        vertical-align: middle;\n",
              "    }\n",
              "\n",
              "    .dataframe tbody tr th {\n",
              "        vertical-align: top;\n",
              "    }\n",
              "\n",
              "    .dataframe thead th {\n",
              "        text-align: right;\n",
              "    }\n",
              "</style>\n",
              "<table border=\"1\" class=\"dataframe\">\n",
              "  <thead>\n",
              "    <tr style=\"text-align: right;\">\n",
              "      <th></th>\n",
              "      <th>P1</th>\n",
              "      <th>P2</th>\n",
              "      <th>P3</th>\n",
              "      <th>P4</th>\n",
              "      <th>P5</th>\n",
              "      <th>P6</th>\n",
              "      <th>P7</th>\n",
              "    </tr>\n",
              "  </thead>\n",
              "  <tbody>\n",
              "    <tr>\n",
              "      <th>0</th>\n",
              "      <td>-0.330462</td>\n",
              "      <td>-0.023961</td>\n",
              "      <td>0.093300</td>\n",
              "      <td>-0.018760</td>\n",
              "      <td>-0.072768</td>\n",
              "      <td>-0.109238</td>\n",
              "      <td>-0.058277</td>\n",
              "    </tr>\n",
              "    <tr>\n",
              "      <th>1</th>\n",
              "      <td>0.507964</td>\n",
              "      <td>0.063688</td>\n",
              "      <td>-0.064298</td>\n",
              "      <td>0.040977</td>\n",
              "      <td>-0.009388</td>\n",
              "      <td>-0.055478</td>\n",
              "      <td>-0.027015</td>\n",
              "    </tr>\n",
              "    <tr>\n",
              "      <th>2</th>\n",
              "      <td>0.248061</td>\n",
              "      <td>-0.473924</td>\n",
              "      <td>-0.022881</td>\n",
              "      <td>0.024653</td>\n",
              "      <td>0.084610</td>\n",
              "      <td>0.053399</td>\n",
              "      <td>0.023784</td>\n",
              "    </tr>\n",
              "    <tr>\n",
              "      <th>3</th>\n",
              "      <td>-0.219435</td>\n",
              "      <td>0.047274</td>\n",
              "      <td>0.045662</td>\n",
              "      <td>0.059085</td>\n",
              "      <td>0.012727</td>\n",
              "      <td>-0.052088</td>\n",
              "      <td>0.044654</td>\n",
              "    </tr>\n",
              "    <tr>\n",
              "      <th>4</th>\n",
              "      <td>0.252337</td>\n",
              "      <td>0.038495</td>\n",
              "      <td>0.000085</td>\n",
              "      <td>0.282938</td>\n",
              "      <td>-0.051543</td>\n",
              "      <td>-0.017913</td>\n",
              "      <td>0.106458</td>\n",
              "    </tr>\n",
              "    <tr>\n",
              "      <th>...</th>\n",
              "      <td>...</td>\n",
              "      <td>...</td>\n",
              "      <td>...</td>\n",
              "      <td>...</td>\n",
              "      <td>...</td>\n",
              "      <td>...</td>\n",
              "      <td>...</td>\n",
              "    </tr>\n",
              "    <tr>\n",
              "      <th>116</th>\n",
              "      <td>-0.629891</td>\n",
              "      <td>-0.024150</td>\n",
              "      <td>0.060788</td>\n",
              "      <td>-0.081958</td>\n",
              "      <td>-0.021493</td>\n",
              "      <td>0.071121</td>\n",
              "      <td>0.010702</td>\n",
              "    </tr>\n",
              "    <tr>\n",
              "      <th>117</th>\n",
              "      <td>-0.114262</td>\n",
              "      <td>-0.036587</td>\n",
              "      <td>0.060632</td>\n",
              "      <td>-0.013526</td>\n",
              "      <td>-0.013852</td>\n",
              "      <td>0.015393</td>\n",
              "      <td>-0.028056</td>\n",
              "    </tr>\n",
              "    <tr>\n",
              "      <th>118</th>\n",
              "      <td>-0.670725</td>\n",
              "      <td>-0.056379</td>\n",
              "      <td>0.021359</td>\n",
              "      <td>0.021960</td>\n",
              "      <td>0.010146</td>\n",
              "      <td>-0.002360</td>\n",
              "      <td>0.061678</td>\n",
              "    </tr>\n",
              "    <tr>\n",
              "      <th>119</th>\n",
              "      <td>0.469929</td>\n",
              "      <td>0.171088</td>\n",
              "      <td>0.067000</td>\n",
              "      <td>0.060307</td>\n",
              "      <td>-0.122909</td>\n",
              "      <td>-0.037934</td>\n",
              "      <td>0.156120</td>\n",
              "    </tr>\n",
              "    <tr>\n",
              "      <th>120</th>\n",
              "      <td>0.416223</td>\n",
              "      <td>0.286798</td>\n",
              "      <td>0.023157</td>\n",
              "      <td>0.028077</td>\n",
              "      <td>0.149670</td>\n",
              "      <td>-0.065164</td>\n",
              "      <td>0.002770</td>\n",
              "    </tr>\n",
              "  </tbody>\n",
              "</table>\n",
              "<p>121 rows × 7 columns</p>\n",
              "</div>"
            ],
            "text/plain": [
              "           P1        P2        P3        P4        P5        P6        P7\n",
              "0   -0.330462 -0.023961  0.093300 -0.018760 -0.072768 -0.109238 -0.058277\n",
              "1    0.507964  0.063688 -0.064298  0.040977 -0.009388 -0.055478 -0.027015\n",
              "2    0.248061 -0.473924 -0.022881  0.024653  0.084610  0.053399  0.023784\n",
              "3   -0.219435  0.047274  0.045662  0.059085  0.012727 -0.052088  0.044654\n",
              "4    0.252337  0.038495  0.000085  0.282938 -0.051543 -0.017913  0.106458\n",
              "..        ...       ...       ...       ...       ...       ...       ...\n",
              "116 -0.629891 -0.024150  0.060788 -0.081958 -0.021493  0.071121  0.010702\n",
              "117 -0.114262 -0.036587  0.060632 -0.013526 -0.013852  0.015393 -0.028056\n",
              "118 -0.670725 -0.056379  0.021359  0.021960  0.010146 -0.002360  0.061678\n",
              "119  0.469929  0.171088  0.067000  0.060307 -0.122909 -0.037934  0.156120\n",
              "120  0.416223  0.286798  0.023157  0.028077  0.149670 -0.065164  0.002770\n",
              "\n",
              "[121 rows x 7 columns]"
            ]
          },
          "metadata": {},
          "execution_count": 66
        }
      ]
    },
    {
      "cell_type": "code",
      "metadata": {
        "colab": {
          "base_uri": "https://localhost:8080/",
          "height": 395
        },
        "id": "P_u5b3_Z9Yum",
        "outputId": "d6cef31f-da21-402b-e12b-5bd113e4c616"
      },
      "source": [
        "sns.heatmap(X_P.corr(),annot=True)"
      ],
      "execution_count": null,
      "outputs": [
        {
          "output_type": "execute_result",
          "data": {
            "text/plain": [
              "<matplotlib.axes._subplots.AxesSubplot at 0x7fcb239ffa10>"
            ]
          },
          "metadata": {},
          "execution_count": 203
        },
        {
          "output_type": "display_data",
          "data": {
            "image/png": "[encoded data removed]",
            "text/plain": [
              "<Figure size 864x432 with 2 Axes>"
            ]
          },
          "metadata": {
            "needs_background": "light"
          }
        }
      ]
    },
    {
      "cell_type": "markdown",
      "metadata": {
        "id": "qHBGsIwMkTh8"
      },
      "source": [
        "# `Training Models`"
      ]
    },
    {
      "cell_type": "code",
      "metadata": {
        "id": "mmFKXQzvVmej"
      },
      "source": [
        "classifier_and_performance_without_pca={}\n",
        "Maximum_Indices_without_pca={}\n",
        "classifier_and_performance_with_pca={}\n",
        "Maximum_Indices_with_pca={}"
      ],
      "execution_count": null,
      "outputs": []
    },
    {
      "cell_type": "code",
      "metadata": {
        "id": "JnuOeyIGU9f0"
      },
      "source": [
        "def plot_roc_curve(y_test,y_pred):\n",
        "    fpr, tpr, thresholds = roc_curve(y_test, y_pred)\n",
        "    roc_auc=roc_auc_score(y_test,y_pred)\n",
        "    plt.plot(fpr, tpr, 'b', label = 'AUC = %0.2f' % roc_auc)\n",
        "    plt.legend(loc = 'lower right')\n",
        "    plt.title(\"ROC curve\")\n",
        "    plt.plot([0, 1], [0, 1],'r--')\n",
        "    plt.xlim([0, 1])\n",
        "    plt.ylim([0, 1])\n",
        "    plt.ylabel('True Positive Rate')\n",
        "    plt.xlabel('False Positive Rate')\n",
        "    plt.show()"
      ],
      "execution_count": null,
      "outputs": []
    },
    {
      "cell_type": "code",
      "metadata": {
        "id": "E9GKLY7mfscU"
      },
      "source": [
        "def grid_search_cv(clf,parameters,X,y,pca=False):\n",
        "  strat=StratifiedKFold(n_splits=4,shuffle=True,random_state=42)\n",
        "  max=0.0\n",
        "  max_indices=[0,0]\n",
        "  for train_index,test_index in strat.split(X,y):\n",
        "    X_train,y_train=X.iloc[train_index],y.iloc[train_index]\n",
        "    X_test,y_test=X.iloc[test_index],y.iloc[test_index]\n",
        "    grid_cv=GridSearchCV(clf,parameters,scoring='precision',cv=5)\n",
        "    grid_cv.fit(X_train,y_train)\n",
        "    predictions=grid_cv.predict(X_test)\n",
        "    temp=f1_score(y_test,predictions)\n",
        "    if(temp>max):\n",
        "      max=temp\n",
        "      max_accuracy=accuracy_score(y_test,predictions)\n",
        "      max_recall=recall_score(y_test,predictions)\n",
        "      max_precision=precision_score(y_test,predictions)\n",
        "      max_clf=grid_cv.best_params_\n",
        "      max_indices[0]=train_index\n",
        "      max_indices[1]=test_index\n",
        "  if pca:\n",
        "    classifier_and_performance_with_pca[clf]={'Best_Parameters':max_clf,'Accuracy':max_accuracy,'Recall':max_recall,'Precision':max_precision,'F1-Score':max}\n",
        "  else:\n",
        "    classifier_and_performance_without_pca[clf]={'Best_Parameters':max_clf,'Accuracy':max_accuracy,'Recall':max_recall,'Precision':max_precision,'F1-Score':max}\n",
        "  return max_indices"
      ],
      "execution_count": null,
      "outputs": []
    },
    {
      "cell_type": "markdown",
      "metadata": {
        "id": "E3OD-G2u8xpj"
      },
      "source": [
        "`Perceptron`\n",
        "-----------------------------------------------------------------------------------------------------"
      ]
    },
    {
      "cell_type": "markdown",
      "metadata": {
        "id": "xMnBiEoaRJea"
      },
      "source": [
        "Without Applying PCA to data"
      ]
    },
    {
      "cell_type": "code",
      "metadata": {
        "id": "NuehRpVUVc0y",
        "colab": {
          "base_uri": "https://localhost:8080/"
        },
        "outputId": "eceba3d9-b532-41e9-98f4-878c1a42c929"
      },
      "source": [
        "perceptron=Perceptron()\n",
        "parameters={'penalty':['l1','l2','elasticnet','None'],'alpha':[0.1,0.01,0.001,0.0001,0.00001,1.0,0.0],'max_iter':[100,500,1000,1500,2000,2500]}\n",
        "max_index_for_perceptron=grid_search_cv(perceptron,parameters,X,y)\n",
        "Maximum_Indices_without_pca['Perceptron']=max_index_for_perceptron\n",
        "classifier_and_performance_without_pca[perceptron]"
      ],
      "execution_count": null,
      "outputs": [
        {
          "output_type": "execute_result",
          "data": {
            "text/plain": [
              "{'Accuracy': 0.6333333333333333,\n",
              " 'Best_Parameters': {'alpha': 0.001, 'max_iter': 100, 'penalty': 'l1'},\n",
              " 'F1-Score': 0.7179487179487181,\n",
              " 'Precision': 0.5833333333333334,\n",
              " 'Recall': 0.9333333333333333}"
            ]
          },
          "metadata": {},
          "execution_count": 345
        }
      ]
    },
    {
      "cell_type": "code",
      "metadata": {
        "id": "-Romlf2k__Dw"
      },
      "source": [
        "best_model=Perceptron(alpha=0.01,max_iter=100,penalty='l1')\n",
        "best_model.fit(X.iloc[Maximum_Indices_without_pca['Perceptron'][0]],y.iloc[Maximum_Indices_without_pca['Perceptron'][0]])\n",
        "cm1=confusion_matrix(best_model.predict(X.iloc[Maximum_Indices_without_pca['Perceptron'][1]]),y.iloc[Maximum_Indices_without_pca['Perceptron'][1]])"
      ],
      "execution_count": null,
      "outputs": []
    },
    {
      "cell_type": "code",
      "metadata": {
        "colab": {
          "base_uri": "https://localhost:8080/",
          "height": 391
        },
        "id": "kLEAzHQiBfOR",
        "outputId": "0fcdad80-22a9-48fa-8520-0f6f6508202d"
      },
      "source": [
        "sns.heatmap(cm1,annot=True)"
      ],
      "execution_count": null,
      "outputs": [
        {
          "output_type": "execute_result",
          "data": {
            "text/plain": [
              "<matplotlib.axes._subplots.AxesSubplot at 0x7fcb22241ad0>"
            ]
          },
          "metadata": {},
          "execution_count": 347
        },
        {
          "output_type": "display_data",
          "data": {
            "image/png": "[encoded data removed]",
            "text/plain": [
              "<Figure size 864x432 with 2 Axes>"
            ]
          },
          "metadata": {
            "needs_background": "light"
          }
        }
      ]
    },
    {
      "cell_type": "markdown",
      "metadata": {
        "id": "2HivGmtPRNOY"
      },
      "source": [
        "After Applying PCA to data"
      ]
    },
    {
      "cell_type": "code",
      "metadata": {
        "id": "tNQ21CGol6C7"
      },
      "source": [
        "perceptron=Perceptron()\n",
        "parameters={'penalty':['l1','l2','elasticnet','None'],'alpha':[0.1,0.01,0.001,0.0001,0.00001,1.0,0.0],'max_iter':[1000,1500,2000,2500]}\n",
        "max_index_for_perceptron=grid_search_cv(perceptron,parameters,X_P,y,pca=True)\n",
        "Maximum_Indices_with_pca['Perceptron']=max_index_for_perceptron"
      ],
      "execution_count": null,
      "outputs": []
    },
    {
      "cell_type": "code",
      "metadata": {
        "colab": {
          "base_uri": "https://localhost:8080/"
        },
        "id": "C39jdF_dBIaM",
        "outputId": "eee044ef-7438-4b21-e7ac-6f3a4871a993"
      },
      "source": [
        "classifier_and_performance_with_pca[perceptron]"
      ],
      "execution_count": null,
      "outputs": [
        {
          "output_type": "execute_result",
          "data": {
            "text/plain": [
              "{'Accuracy': 0.8,\n",
              " 'Best_Parameters': {'alpha': 1e-05, 'max_iter': 1000, 'penalty': 'l2'},\n",
              " 'F1-Score': 0.8235294117647058,\n",
              " 'Precision': 0.7368421052631579,\n",
              " 'Recall': 0.9333333333333333}"
            ]
          },
          "metadata": {},
          "execution_count": 349
        }
      ]
    },
    {
      "cell_type": "code",
      "metadata": {
        "id": "TzASmRPeA_PY"
      },
      "source": [
        "best_model=Perceptron(alpha=1e-5,max_iter=1000,penalty='l2')\n",
        "best_model.fit(X.iloc[Maximum_Indices_with_pca['Perceptron'][0]],y.iloc[Maximum_Indices_with_pca['Perceptron'][0]])\n",
        "cm2=confusion_matrix(best_model.predict(X.iloc[Maximum_Indices_with_pca['Perceptron'][1]]),y.iloc[Maximum_Indices_with_pca['Perceptron'][1]])"
      ],
      "execution_count": null,
      "outputs": []
    },
    {
      "cell_type": "code",
      "metadata": {
        "colab": {
          "base_uri": "https://localhost:8080/",
          "height": 395
        },
        "id": "wE-rpNSNCj_z",
        "outputId": "d33c9d70-7aa4-4ec8-c2b9-1c77729cad44"
      },
      "source": [
        "sns.heatmap(cm2,annot=True)"
      ],
      "execution_count": null,
      "outputs": [
        {
          "output_type": "execute_result",
          "data": {
            "text/plain": [
              "<matplotlib.axes._subplots.AxesSubplot at 0x7fcb2214e310>"
            ]
          },
          "metadata": {},
          "execution_count": 351
        },
        {
          "output_type": "display_data",
          "data": {
            "image/png": "[encoded data removed]",
            "text/plain": [
              "<Figure size 864x432 with 2 Axes>"
            ]
          },
          "metadata": {
            "needs_background": "light"
          }
        }
      ]
    },
    {
      "cell_type": "markdown",
      "metadata": {
        "id": "ftG4RjxEUtts"
      },
      "source": [
        "Best accuracy is achieved when PCA is applied to data. Therefore, ROC curve for that model is alone plotted"
      ]
    },
    {
      "cell_type": "code",
      "metadata": {
        "colab": {
          "base_uri": "https://localhost:8080/"
        },
        "id": "37zEA64eWvmI",
        "outputId": "34785618-3d6f-4c06-cdd1-e233aadd9b86"
      },
      "source": [
        "y_pred=best_model.predict(X.iloc[Maximum_Indices_with_pca['Perceptron'][1]])\n",
        "y_pred"
      ],
      "execution_count": null,
      "outputs": [
        {
          "output_type": "execute_result",
          "data": {
            "text/plain": [
              "array([1, 0, 1, 1, 1, 1, 1, 1, 1, 1, 1, 1, 1, 1, 1, 1, 1, 1, 1, 0, 0, 1,\n",
              "       1, 1, 1, 1, 1, 1, 1, 1])"
            ]
          },
          "metadata": {},
          "execution_count": 352
        }
      ]
    },
    {
      "cell_type": "code",
      "metadata": {
        "colab": {
          "base_uri": "https://localhost:8080/"
        },
        "id": "VUtWoVDRW_-B",
        "outputId": "9384fdca-8500-409b-bd0f-e0193fda5270"
      },
      "source": [
        "y_test=list(y.iloc[Maximum_Indices_with_pca['Perceptron'][1]])\n",
        "y_test"
      ],
      "execution_count": null,
      "outputs": [
        {
          "output_type": "execute_result",
          "data": {
            "text/plain": [
              "[1,\n",
              " 1,\n",
              " 1,\n",
              " 1,\n",
              " 1,\n",
              " 1,\n",
              " 1,\n",
              " 1,\n",
              " 1,\n",
              " 1,\n",
              " 1,\n",
              " 1,\n",
              " 1,\n",
              " 1,\n",
              " 1,\n",
              " 0,\n",
              " 0,\n",
              " 0,\n",
              " 0,\n",
              " 0,\n",
              " 0,\n",
              " 0,\n",
              " 0,\n",
              " 0,\n",
              " 0,\n",
              " 0,\n",
              " 0,\n",
              " 0,\n",
              " 0,\n",
              " 0]"
            ]
          },
          "metadata": {},
          "execution_count": 353
        }
      ]
    },
    {
      "cell_type": "code",
      "metadata": {
        "colab": {
          "base_uri": "https://localhost:8080/",
          "height": 404
        },
        "id": "m_BMjiqKWAZn",
        "outputId": "706ab8b4-9839-4b3c-95c1-7cfad0c4058c"
      },
      "source": [
        "plot_roc_curve(y_test,y_pred)"
      ],
      "execution_count": null,
      "outputs": [
        {
          "output_type": "display_data",
          "data": {
            "image/png": "[encoded data removed]",
            "text/plain": [
              "<Figure size 864x432 with 1 Axes>"
            ]
          },
          "metadata": {
            "needs_background": "light"
          }
        }
      ]
    },
    {
      "cell_type": "markdown",
      "metadata": {
        "id": "AJrxOGe9-X0d"
      },
      "source": [
        "`Logistic Regression`\n",
        "----------------------------------------------------------------------------------------------------------------------------"
      ]
    },
    {
      "cell_type": "markdown",
      "metadata": {
        "id": "pUUbZKcoRWA8"
      },
      "source": [
        "Before applying PCA to data"
      ]
    },
    {
      "cell_type": "code",
      "metadata": {
        "id": "-VqfpLwIVuM4"
      },
      "source": [
        "logistic_regression=LogisticRegression()\n",
        "parameters={'penalty':['l2'],'C':[0.1,0.01,0.001,0.0001,10.0,5.0],'max_iter':[100,1000,1500,2000,2500]}\n",
        "max_index_for_logistic_regression=grid_search_cv(logistic_regression,parameters,X,y)\n",
        "Maximum_Indices_without_pca['LogisticRegression']=max_index_for_logistic_regression"
      ],
      "execution_count": null,
      "outputs": []
    },
    {
      "cell_type": "code",
      "metadata": {
        "colab": {
          "base_uri": "https://localhost:8080/"
        },
        "id": "rdlEJsjIKbg0",
        "outputId": "4721cb80-608e-4466-d70e-69c35376ca7d"
      },
      "source": [
        "classifier_and_performance_without_pca[logistic_regression]"
      ],
      "execution_count": null,
      "outputs": [
        {
          "output_type": "execute_result",
          "data": {
            "text/plain": [
              "{'Accuracy': 0.8333333333333334,\n",
              " 'Best_Parameters': {'C': 10.0, 'max_iter': 100, 'penalty': 'l2'},\n",
              " 'F1-Score': 0.8387096774193549,\n",
              " 'Precision': 0.8125,\n",
              " 'Recall': 0.8666666666666667}"
            ]
          },
          "metadata": {},
          "execution_count": 356
        }
      ]
    },
    {
      "cell_type": "code",
      "metadata": {
        "id": "NHzKRHXFKR9A"
      },
      "source": [
        "best_model=LogisticRegression(C=10.0,max_iter=100,penalty='l2')\n",
        "best_model.fit(X.iloc[Maximum_Indices_without_pca['LogisticRegression'][0]],y.iloc[Maximum_Indices_without_pca['LogisticRegression'][0]])\n",
        "cm1=confusion_matrix(best_model.predict(X.iloc[Maximum_Indices_without_pca['LogisticRegression'][1]]),y.iloc[Maximum_Indices_without_pca['LogisticRegression'][1]])"
      ],
      "execution_count": null,
      "outputs": []
    },
    {
      "cell_type": "code",
      "metadata": {
        "colab": {
          "base_uri": "https://localhost:8080/",
          "height": 391
        },
        "id": "pwaADeOULJ0k",
        "outputId": "1d9621e5-c11f-4e91-dbbe-3c79094250e1"
      },
      "source": [
        "sns.heatmap(cm1,annot=True)"
      ],
      "execution_count": null,
      "outputs": [
        {
          "output_type": "execute_result",
          "data": {
            "text/plain": [
              "<matplotlib.axes._subplots.AxesSubplot at 0x7fcb2209c810>"
            ]
          },
          "metadata": {},
          "execution_count": 358
        },
        {
          "output_type": "display_data",
          "data": {
            "image/png": "[encoded data removed]",
            "text/plain": [
              "<Figure size 864x432 with 2 Axes>"
            ]
          },
          "metadata": {
            "needs_background": "light"
          }
        }
      ]
    },
    {
      "cell_type": "markdown",
      "metadata": {
        "id": "l0AKlWdzReWY"
      },
      "source": [
        "After applying PCA to data"
      ]
    },
    {
      "cell_type": "code",
      "metadata": {
        "id": "bHxhrliOpUGL"
      },
      "source": [
        "logistic_regression=LogisticRegression()\n",
        "parameters={'penalty':['l2'],'C':[0.1,0.01,0.001,0.0001,10.0,5.0],'max_iter':[1000,1500,2000,2500]}\n",
        "max_index_for_logistic_regression=grid_search_cv(logistic_regression,parameters,X_P,y,pca=True)\n",
        "Maximum_Indices_with_pca['LogisticRegression']=max_index_for_logistic_regression"
      ],
      "execution_count": null,
      "outputs": []
    },
    {
      "cell_type": "code",
      "metadata": {
        "colab": {
          "base_uri": "https://localhost:8080/"
        },
        "id": "V6q7eTeiK1Uo",
        "outputId": "c4788f51-2a36-4608-8231-b12d76125618"
      },
      "source": [
        "classifier_and_performance_with_pca[logistic_regression]"
      ],
      "execution_count": null,
      "outputs": [
        {
          "output_type": "execute_result",
          "data": {
            "text/plain": [
              "{'Accuracy': 0.7666666666666667,\n",
              " 'Best_Parameters': {'C': 5.0, 'max_iter': 1000, 'penalty': 'l2'},\n",
              " 'F1-Score': 0.8,\n",
              " 'Precision': 0.7,\n",
              " 'Recall': 0.9333333333333333}"
            ]
          },
          "metadata": {},
          "execution_count": 360
        }
      ]
    },
    {
      "cell_type": "code",
      "metadata": {
        "id": "_i-Gp-84K58d"
      },
      "source": [
        "best_model_pca=LogisticRegression(C=5.0,max_iter=1000,penalty='l2')\n",
        "best_model_pca.fit(X.iloc[Maximum_Indices_with_pca['LogisticRegression'][0]],y.iloc[Maximum_Indices_with_pca['LogisticRegression'][0]])\n",
        "cm2=confusion_matrix(best_model_pca.predict(X.iloc[Maximum_Indices_with_pca['LogisticRegression'][1]]),y.iloc[Maximum_Indices_with_pca['LogisticRegression'][1]])"
      ],
      "execution_count": null,
      "outputs": []
    },
    {
      "cell_type": "code",
      "metadata": {
        "colab": {
          "base_uri": "https://localhost:8080/",
          "height": 395
        },
        "id": "GgNl4CuhLN4P",
        "outputId": "7df8fe32-13ff-4c3e-89ef-3922b85cf3ce"
      },
      "source": [
        "sns.heatmap(cm2,annot=True)"
      ],
      "execution_count": null,
      "outputs": [
        {
          "output_type": "execute_result",
          "data": {
            "text/plain": [
              "<matplotlib.axes._subplots.AxesSubplot at 0x7fcb21fca550>"
            ]
          },
          "metadata": {},
          "execution_count": 362
        },
        {
          "output_type": "display_data",
          "data": {
            "image/png": "[encoded data removed]",
            "text/plain": [
              "<Figure size 864x432 with 2 Axes>"
            ]
          },
          "metadata": {
            "needs_background": "light"
          }
        }
      ]
    },
    {
      "cell_type": "markdown",
      "metadata": {
        "id": "WHpv44UXbdBP"
      },
      "source": [
        "Here, the original data gives good performance metrics. So, that data is used  to plot ROC Curve "
      ]
    },
    {
      "cell_type": "code",
      "metadata": {
        "colab": {
          "base_uri": "https://localhost:8080/",
          "height": 404
        },
        "id": "YM1v36UnYDsU",
        "outputId": "c783a03a-4b8d-46c9-af01-2a92464aa755"
      },
      "source": [
        "y_test=list(y.iloc[Maximum_Indices_without_pca['LogisticRegression'][1]])\n",
        "y_pred=best_model.predict(X.iloc[Maximum_Indices_without_pca['LogisticRegression'][1]])\n",
        "plot_roc_curve(y_test,y_pred)"
      ],
      "execution_count": null,
      "outputs": [
        {
          "output_type": "display_data",
          "data": {
            "image/png": "[encoded data removed]",
            "text/plain": [
              "<Figure size 864x432 with 1 Axes>"
            ]
          },
          "metadata": {
            "needs_background": "light"
          }
        }
      ]
    },
    {
      "cell_type": "markdown",
      "metadata": {
        "id": "f7EQNhmY-egw"
      },
      "source": [
        "`K Nearest Neighbors`\n",
        "------------------------------------------------------------------------------------"
      ]
    },
    {
      "cell_type": "code",
      "metadata": {
        "id": "y4cixL3mWUEy",
        "colab": {
          "base_uri": "https://localhost:8080/"
        },
        "outputId": "464823d2-185f-4eb9-cf1c-43d33601ab38"
      },
      "source": [
        "knn=KNeighborsClassifier()\n",
        "parameters={'n_neighbors':[1,2,3,4,5,6,7],'weights':['uniform','distance'],'p':[1,2]}\n",
        "max_index_for_knn=grid_search_cv(knn,parameters,X,y)\n",
        "Maximum_Indices_without_pca['KNearestNeighbours']=max_index_for_knn\n",
        "classifier_and_performance_without_pca[knn]"
      ],
      "execution_count": null,
      "outputs": [
        {
          "output_type": "execute_result",
          "data": {
            "text/plain": [
              "{'Accuracy': 0.7666666666666667,\n",
              " 'Best_Parameters': {'n_neighbors': 6, 'p': 2, 'weights': 'uniform'},\n",
              " 'F1-Score': 0.7586206896551724,\n",
              " 'Precision': 0.7857142857142857,\n",
              " 'Recall': 0.7333333333333333}"
            ]
          },
          "metadata": {},
          "execution_count": 364
        }
      ]
    },
    {
      "cell_type": "code",
      "metadata": {
        "id": "MJRc0PizLa35"
      },
      "source": [
        "best_model=KNeighborsClassifier(n_neighbors=6,p=2,weights='uniform')\n",
        "best_model.fit(X.iloc[Maximum_Indices_without_pca['KNearestNeighbours'][0]],y.iloc[Maximum_Indices_without_pca['KNearestNeighbours'][0]])\n",
        "cm1=confusion_matrix(best_model.predict(X.iloc[Maximum_Indices_without_pca['KNearestNeighbours'][1]]),y.iloc[Maximum_Indices_without_pca['KNearestNeighbours'][1]])"
      ],
      "execution_count": null,
      "outputs": []
    },
    {
      "cell_type": "code",
      "metadata": {
        "colab": {
          "base_uri": "https://localhost:8080/",
          "height": 395
        },
        "id": "RgSt-6gSMOjj",
        "outputId": "fb39b4fc-5a1e-4081-e1c9-6692ae43cfac"
      },
      "source": [
        "sns.heatmap(cm1,annot=True)"
      ],
      "execution_count": null,
      "outputs": [
        {
          "output_type": "execute_result",
          "data": {
            "text/plain": [
              "<matplotlib.axes._subplots.AxesSubplot at 0x7fcb28bc1dd0>"
            ]
          },
          "metadata": {},
          "execution_count": 366
        },
        {
          "output_type": "display_data",
          "data": {
            "image/png": "[encoded data removed]",
            "text/plain": [
              "<Figure size 864x432 with 2 Axes>"
            ]
          },
          "metadata": {
            "needs_background": "light"
          }
        }
      ]
    },
    {
      "cell_type": "code",
      "metadata": {
        "id": "YzqExX0xtEx1",
        "colab": {
          "base_uri": "https://localhost:8080/"
        },
        "outputId": "2ec66f80-ad53-4f05-fafb-8491ff9f547b"
      },
      "source": [
        "knn=KNeighborsClassifier()\n",
        "parameters={'n_neighbors':[1,2,3,4,5,6,7],'weights':['uniform','distance'],'p':[1,2]}\n",
        "max_index_for_knn=grid_search_cv(knn,parameters,X_P,y,pca=True)\n",
        "Maximum_Indices_with_pca['KNearestNeighbours']=max_index_for_knn\n",
        "classifier_and_performance_with_pca[knn]"
      ],
      "execution_count": null,
      "outputs": [
        {
          "output_type": "execute_result",
          "data": {
            "text/plain": [
              "{'Accuracy': 0.7,\n",
              " 'Best_Parameters': {'n_neighbors': 4, 'p': 2, 'weights': 'uniform'},\n",
              " 'F1-Score': 0.6666666666666665,\n",
              " 'Precision': 0.75,\n",
              " 'Recall': 0.6}"
            ]
          },
          "metadata": {},
          "execution_count": 367
        }
      ]
    },
    {
      "cell_type": "code",
      "metadata": {
        "id": "5WLM1CiCMCru"
      },
      "source": [
        "best_model_pca=KNeighborsClassifier(n_neighbors=4,p=2,weights='uniform')\n",
        "best_model_pca.fit(X.iloc[Maximum_Indices_with_pca['KNearestNeighbours'][0]],y.iloc[Maximum_Indices_with_pca['KNearestNeighbours'][0]])\n",
        "cm1=confusion_matrix(best_model.predict(X.iloc[Maximum_Indices_with_pca['KNearestNeighbours'][1]]),y.iloc[Maximum_Indices_with_pca['KNearestNeighbours'][1]])"
      ],
      "execution_count": null,
      "outputs": []
    },
    {
      "cell_type": "code",
      "metadata": {
        "colab": {
          "base_uri": "https://localhost:8080/",
          "height": 395
        },
        "id": "BrjDWkK_MSfP",
        "outputId": "01ad1143-6774-435f-9bf5-a9ad042095b5"
      },
      "source": [
        "sns.heatmap(cm2,annot=True)"
      ],
      "execution_count": null,
      "outputs": [
        {
          "output_type": "execute_result",
          "data": {
            "text/plain": [
              "<matplotlib.axes._subplots.AxesSubplot at 0x7fcb220d4090>"
            ]
          },
          "metadata": {},
          "execution_count": 369
        },
        {
          "output_type": "display_data",
          "data": {
            "image/png": "[encoded data removed]",
            "text/plain": [
              "<Figure size 864x432 with 2 Axes>"
            ]
          },
          "metadata": {
            "needs_background": "light"
          }
        }
      ]
    },
    {
      "cell_type": "code",
      "metadata": {
        "colab": {
          "base_uri": "https://localhost:8080/",
          "height": 404
        },
        "id": "vzIVvYX1YlDM",
        "outputId": "4773df9c-4a3e-4821-f804-ab43acbdf66e"
      },
      "source": [
        "y_test=list(y.iloc[Maximum_Indices_without_pca['KNearestNeighbours'][1]])\n",
        "y_pred=best_model.predict(X.iloc[Maximum_Indices_without_pca['KNearestNeighbours'][1]])\n",
        "plot_roc_curve(y_test,y_pred)"
      ],
      "execution_count": null,
      "outputs": [
        {
          "output_type": "display_data",
          "data": {
            "image/png": "[encoded data removed]",
            "text/plain": [
              "<Figure size 864x432 with 1 Axes>"
            ]
          },
          "metadata": {
            "needs_background": "light"
          }
        }
      ]
    },
    {
      "cell_type": "markdown",
      "metadata": {
        "id": "aGlENdhj-iut"
      },
      "source": [
        "`Support Vector Machines`\n",
        "-----------------------------------------------------------------------------------------"
      ]
    },
    {
      "cell_type": "markdown",
      "metadata": {
        "id": "I4HzRoGeRvyR"
      },
      "source": [
        "Before applying PCA to data"
      ]
    },
    {
      "cell_type": "code",
      "metadata": {
        "id": "Uqx82ayWWi4Z",
        "colab": {
          "base_uri": "https://localhost:8080/"
        },
        "outputId": "5eda4b12-032b-4dca-84ad-f871f796d571"
      },
      "source": [
        "svc=SVC()\n",
        "parameters={'C':[1.0,2.0,.01,0.001,0.1,10.0],'kernel':['linear', 'poly', 'rbf', 'sigmoid'],'gamma':[1.0,2.0,3.0]}\n",
        "max_index_for_svm=grid_search_cv(svc,parameters,X,y)\n",
        "Maximum_Indices_without_pca['SVM']=max_index_for_svm\n",
        "classifier_and_performance_without_pca[svc]"
      ],
      "execution_count": null,
      "outputs": [
        {
          "output_type": "execute_result",
          "data": {
            "text/plain": [
              "{'Accuracy': 0.7741935483870968,\n",
              " 'Best_Parameters': {'C': 10.0, 'gamma': 2.0, 'kernel': 'poly'},\n",
              " 'F1-Score': 0.787878787878788,\n",
              " 'Precision': 0.7647058823529411,\n",
              " 'Recall': 0.8125}"
            ]
          },
          "metadata": {},
          "execution_count": 371
        }
      ]
    },
    {
      "cell_type": "code",
      "metadata": {
        "id": "duI26MuDMwbq"
      },
      "source": [
        "best_model=SVC(C=10.0,gamma=2.0,kernel='poly')\n",
        "best_model.fit(X.iloc[Maximum_Indices_without_pca['SVM'][0]],y.iloc[Maximum_Indices_without_pca['SVM'][0]])\n",
        "cm1=confusion_matrix(best_model.predict(X.iloc[Maximum_Indices_without_pca['SVM'][1]]),y.iloc[Maximum_Indices_without_pca['SVM'][1]])"
      ],
      "execution_count": null,
      "outputs": []
    },
    {
      "cell_type": "code",
      "metadata": {
        "colab": {
          "base_uri": "https://localhost:8080/",
          "height": 391
        },
        "id": "gajyikg0Ncgl",
        "outputId": "1d05a724-5a20-4f11-a135-75b1b860b6d2"
      },
      "source": [
        "sns.heatmap(cm1,annot=True)"
      ],
      "execution_count": null,
      "outputs": [
        {
          "output_type": "execute_result",
          "data": {
            "text/plain": [
              "<matplotlib.axes._subplots.AxesSubplot at 0x7fcb2360f390>"
            ]
          },
          "metadata": {},
          "execution_count": 373
        },
        {
          "output_type": "display_data",
          "data": {
            "image/png": "[encoded data removed]",
            "text/plain": [
              "<Figure size 864x432 with 2 Axes>"
            ]
          },
          "metadata": {
            "needs_background": "light"
          }
        }
      ]
    },
    {
      "cell_type": "markdown",
      "metadata": {
        "id": "8Q-Q7hhfR1GL"
      },
      "source": [
        "After applying PCA to data"
      ]
    },
    {
      "cell_type": "code",
      "metadata": {
        "id": "O90KvaQywDwW",
        "colab": {
          "base_uri": "https://localhost:8080/"
        },
        "outputId": "892e7429-1c4b-453a-fb5d-d60e805c0b35"
      },
      "source": [
        "svc=SVC()\n",
        "parameters={'C':[1.0,2.0,.01,0.001,0.1,10.0],'kernel':['linear', 'poly', 'rbf', 'sigmoid'],'gamma':[1.0,2.0,3.0]}\n",
        "max_index_for_svm=grid_search_cv(svc,parameters,X_P,y,pca=True)\n",
        "Maximum_Indices_with_pca['SVM']=max_index_for_svm\n",
        "classifier_and_performance_with_pca[svc]"
      ],
      "execution_count": null,
      "outputs": [
        {
          "output_type": "execute_result",
          "data": {
            "text/plain": [
              "{'Accuracy': 0.7333333333333333,\n",
              " 'Best_Parameters': {'C': 10.0, 'gamma': 2.0, 'kernel': 'rbf'},\n",
              " 'F1-Score': 0.7333333333333333,\n",
              " 'Precision': 0.7333333333333333,\n",
              " 'Recall': 0.7333333333333333}"
            ]
          },
          "metadata": {},
          "execution_count": 374
        }
      ]
    },
    {
      "cell_type": "code",
      "metadata": {
        "id": "GoFiXtBZNLb2"
      },
      "source": [
        "best_model_pca=SVC(C=10.0,gamma=2.0,kernel='rbf')\n",
        "best_model_pca.fit(X.iloc[Maximum_Indices_with_pca['SVM'][0]],y.iloc[Maximum_Indices_with_pca['SVM'][0]])\n",
        "cm2=confusion_matrix(best_model_pca.predict(X.iloc[Maximum_Indices_with_pca['SVM'][1]]),y.iloc[Maximum_Indices_with_pca['SVM'][1]])"
      ],
      "execution_count": null,
      "outputs": []
    },
    {
      "cell_type": "code",
      "metadata": {
        "colab": {
          "base_uri": "https://localhost:8080/",
          "height": 395
        },
        "id": "QJ6F2QyyNgHb",
        "outputId": "6654a1a9-f322-45dc-d11f-65a845d0bfe0"
      },
      "source": [
        "sns.heatmap(cm2,annot=True)"
      ],
      "execution_count": null,
      "outputs": [
        {
          "output_type": "execute_result",
          "data": {
            "text/plain": [
              "<matplotlib.axes._subplots.AxesSubplot at 0x7fcb21e709d0>"
            ]
          },
          "metadata": {},
          "execution_count": 376
        },
        {
          "output_type": "display_data",
          "data": {
            "image/png": "[encoded data removed]",
            "text/plain": [
              "<Figure size 864x432 with 2 Axes>"
            ]
          },
          "metadata": {
            "needs_background": "light"
          }
        }
      ]
    },
    {
      "cell_type": "code",
      "metadata": {
        "colab": {
          "base_uri": "https://localhost:8080/",
          "height": 404
        },
        "id": "fqbwRpMmZBA8",
        "outputId": "312f105c-8d74-4489-f43d-53f84c0a0f63"
      },
      "source": [
        "y_test=list(y.iloc[Maximum_Indices_without_pca['SVM'][1]])\n",
        "y_pred=best_model.predict(X.iloc[Maximum_Indices_without_pca['SVM'][1]])\n",
        "plot_roc_curve(y_test,y_pred)"
      ],
      "execution_count": null,
      "outputs": [
        {
          "output_type": "display_data",
          "data": {
            "image/png": "[encoded data removed]",
            "text/plain": [
              "<Figure size 864x432 with 1 Axes>"
            ]
          },
          "metadata": {
            "needs_background": "light"
          }
        }
      ]
    },
    {
      "cell_type": "markdown",
      "metadata": {
        "id": "ITVykhfb-nCz"
      },
      "source": [
        "`Gaussian Naive Bayes`\n",
        "-----------------------------------------------------------------------------------------"
      ]
    },
    {
      "cell_type": "markdown",
      "metadata": {
        "id": "3wdetZ-ER6o3"
      },
      "source": [
        "Before applying PCA to data"
      ]
    },
    {
      "cell_type": "code",
      "metadata": {
        "id": "83YHryHDWzAc",
        "colab": {
          "base_uri": "https://localhost:8080/"
        },
        "outputId": "6587316d-6b59-49ba-9b03-bdd2c7f57db9"
      },
      "source": [
        "gaussian=GaussianNB()\n",
        "max_index_for_gaussian_nb=grid_search_cv(gaussian,{},X,y)\n",
        "Maximum_Indices_without_pca['GaussianNB']=max_index_for_gaussian_nb\n",
        "classifier_and_performance_without_pca[gaussian]"
      ],
      "execution_count": null,
      "outputs": [
        {
          "output_type": "execute_result",
          "data": {
            "text/plain": [
              "{'Accuracy': 0.6333333333333333,\n",
              " 'Best_Parameters': {},\n",
              " 'F1-Score': 0.6857142857142857,\n",
              " 'Precision': 0.6,\n",
              " 'Recall': 0.8}"
            ]
          },
          "metadata": {},
          "execution_count": 378
        }
      ]
    },
    {
      "cell_type": "code",
      "metadata": {
        "id": "mtr9pMnBNobL"
      },
      "source": [
        "best_model=GaussianNB()\n",
        "best_model.fit(X.iloc[Maximum_Indices_without_pca['GaussianNB'][0]],y.iloc[Maximum_Indices_without_pca['GaussianNB'][0]])\n",
        "cm1=confusion_matrix(best_model.predict(X.iloc[Maximum_Indices_without_pca['GaussianNB'][1]]),y.iloc[Maximum_Indices_without_pca['GaussianNB'][1]])"
      ],
      "execution_count": null,
      "outputs": []
    },
    {
      "cell_type": "code",
      "metadata": {
        "colab": {
          "base_uri": "https://localhost:8080/",
          "height": 395
        },
        "id": "Rb24-uQcOJui",
        "outputId": "0185437b-16a0-4e5c-e555-ddc40a7fd57b"
      },
      "source": [
        "sns.heatmap(cm1,annot=True)"
      ],
      "execution_count": null,
      "outputs": [
        {
          "output_type": "execute_result",
          "data": {
            "text/plain": [
              "<matplotlib.axes._subplots.AxesSubplot at 0x7fcb21d0df50>"
            ]
          },
          "metadata": {},
          "execution_count": 380
        },
        {
          "output_type": "display_data",
          "data": {
            "image/png": "[encoded data removed]",
            "text/plain": [
              "<Figure size 864x432 with 2 Axes>"
            ]
          },
          "metadata": {
            "needs_background": "light"
          }
        }
      ]
    },
    {
      "cell_type": "markdown",
      "metadata": {
        "id": "6Li3J2cLSBUL"
      },
      "source": [
        "After applying PCA to data "
      ]
    },
    {
      "cell_type": "code",
      "metadata": {
        "id": "PetvnPpZzVx3",
        "colab": {
          "base_uri": "https://localhost:8080/"
        },
        "outputId": "8b7ecc14-17ae-4004-e61f-37ca9044139b"
      },
      "source": [
        "gaussian=GaussianNB()\n",
        "max_index_for_gaussian_nb=grid_search_cv(gaussian,{},X_P,y,pca=True)\n",
        "Maximum_Indices_with_pca['GaussianNB']=max_index_for_gaussian_nb\n",
        "classifier_and_performance_with_pca[gaussian]"
      ],
      "execution_count": null,
      "outputs": [
        {
          "output_type": "execute_result",
          "data": {
            "text/plain": [
              "{'Accuracy': 0.6666666666666666,\n",
              " 'Best_Parameters': {},\n",
              " 'F1-Score': 0.7222222222222222,\n",
              " 'Precision': 0.6190476190476191,\n",
              " 'Recall': 0.8666666666666667}"
            ]
          },
          "metadata": {},
          "execution_count": 381
        }
      ]
    },
    {
      "cell_type": "code",
      "metadata": {
        "id": "sz3wmfq4N_Qk"
      },
      "source": [
        "best_model_pca=GaussianNB()\n",
        "best_model_pca.fit(X.iloc[Maximum_Indices_with_pca['GaussianNB'][0]],y.iloc[Maximum_Indices_with_pca['GaussianNB'][0]])\n",
        "cm2=confusion_matrix(best_model_pca.predict(X.iloc[Maximum_Indices_with_pca['GaussianNB'][1]]),y.iloc[Maximum_Indices_with_pca['GaussianNB'][1]])"
      ],
      "execution_count": null,
      "outputs": []
    },
    {
      "cell_type": "code",
      "metadata": {
        "colab": {
          "base_uri": "https://localhost:8080/",
          "height": 395
        },
        "id": "MJqnsmQSOjd8",
        "outputId": "59ba093c-0fd4-48fc-fd29-3a9882105e61"
      },
      "source": [
        "sns.heatmap(cm2,annot=True)"
      ],
      "execution_count": null,
      "outputs": [
        {
          "output_type": "execute_result",
          "data": {
            "text/plain": [
              "<matplotlib.axes._subplots.AxesSubplot at 0x7fcb21d05b10>"
            ]
          },
          "metadata": {},
          "execution_count": 383
        },
        {
          "output_type": "display_data",
          "data": {
            "image/png": "[encoded data removed]",
            "text/plain": [
              "<Figure size 864x432 with 2 Axes>"
            ]
          },
          "metadata": {
            "needs_background": "light"
          }
        }
      ]
    },
    {
      "cell_type": "code",
      "metadata": {
        "colab": {
          "base_uri": "https://localhost:8080/",
          "height": 404
        },
        "id": "dZ7oecZBZt7O",
        "outputId": "2c488bad-4722-4c97-c58c-130eb012f361"
      },
      "source": [
        "y_test=list(y.iloc[Maximum_Indices_with_pca['GaussianNB'][1]])\n",
        "y_pred=best_model_pca.predict(X.iloc[Maximum_Indices_with_pca['GaussianNB'][1]])\n",
        "plot_roc_curve(y_test,y_pred)"
      ],
      "execution_count": null,
      "outputs": [
        {
          "output_type": "display_data",
          "data": {
            "image/png": "[encoded data removed]",
            "text/plain": [
              "<Figure size 864x432 with 1 Axes>"
            ]
          },
          "metadata": {
            "needs_background": "light"
          }
        }
      ]
    },
    {
      "cell_type": "markdown",
      "metadata": {
        "id": "UFDCwVeT-qcN"
      },
      "source": [
        "`Bernoulli Naive Bayes`\n",
        "-----------------------------------------------------------------------------------------"
      ]
    },
    {
      "cell_type": "markdown",
      "metadata": {
        "id": "-XzlpfYXSIlL"
      },
      "source": [
        "Before applying PCA to data"
      ]
    },
    {
      "cell_type": "code",
      "metadata": {
        "id": "VujBMA_lXSij",
        "colab": {
          "base_uri": "https://localhost:8080/"
        },
        "outputId": "6fdca9c8-8f13-4a5f-8edf-55bda364c111"
      },
      "source": [
        "bernoulli_nb=BernoulliNB()\n",
        "parameters={'alpha':[0.0,1.0,2.0,0.5,2.5,10.0,5.0]}\n",
        "max_index_for_bernoulli_nb=grid_search_cv(bernoulli_nb,parameters,X,y)\n",
        "Maximum_Indices_without_pca['BernoulliNB']=max_index_for_bernoulli_nb\n",
        "classifier_and_performance_without_pca[bernoulli_nb]"
      ],
      "execution_count": null,
      "outputs": [
        {
          "output_type": "execute_result",
          "data": {
            "text/plain": [
              "{'Accuracy': 0.5,\n",
              " 'Best_Parameters': {'alpha': 0.0},\n",
              " 'F1-Score': 0.6666666666666666,\n",
              " 'Precision': 0.5,\n",
              " 'Recall': 1.0}"
            ]
          },
          "metadata": {},
          "execution_count": 385
        }
      ]
    },
    {
      "cell_type": "code",
      "metadata": {
        "id": "9CrfyKpvO98N"
      },
      "source": [
        "best_model=BernoulliNB(alpha=0.0)\n",
        "best_model.fit(X.iloc[Maximum_Indices_without_pca['BernoulliNB'][0]],y.iloc[Maximum_Indices_without_pca['BernoulliNB'][0]])\n",
        "cm1=confusion_matrix(best_model.predict(X.iloc[Maximum_Indices_without_pca['BernoulliNB'][1]]),y.iloc[Maximum_Indices_without_pca['BernoulliNB'][1]])"
      ],
      "execution_count": null,
      "outputs": []
    },
    {
      "cell_type": "code",
      "metadata": {
        "colab": {
          "base_uri": "https://localhost:8080/",
          "height": 391
        },
        "id": "76nLJd1HPa8p",
        "outputId": "aa37626e-88ff-4686-88e5-88fd0d6b6668"
      },
      "source": [
        "sns.heatmap(cm1,annot=True)"
      ],
      "execution_count": null,
      "outputs": [
        {
          "output_type": "execute_result",
          "data": {
            "text/plain": [
              "<matplotlib.axes._subplots.AxesSubplot at 0x7fcb21bd4d10>"
            ]
          },
          "metadata": {},
          "execution_count": 387
        },
        {
          "output_type": "display_data",
          "data": {
            "image/png": "[encoded data removed]",
            "text/plain": [
              "<Figure size 864x432 with 2 Axes>"
            ]
          },
          "metadata": {
            "needs_background": "light"
          }
        }
      ]
    },
    {
      "cell_type": "markdown",
      "metadata": {
        "id": "LcSVGbOtSNfL"
      },
      "source": [
        "After applying PCA to data"
      ]
    },
    {
      "cell_type": "code",
      "metadata": {
        "id": "ZfrILVL71u-1",
        "colab": {
          "base_uri": "https://localhost:8080/"
        },
        "outputId": "e065a793-23ee-421b-8e60-139dd8503ebb"
      },
      "source": [
        "bernoulli_nb=BernoulliNB()\n",
        "parameters={'alpha':[0.0,1.0,2.0,0.5,2.5,10.0,5.0]}\n",
        "max_index_for_bernoulli_nb=grid_search_cv(bernoulli_nb,parameters,X_P,y,pca=True)\n",
        "Maximum_Indices_with_pca['BernoulliNB']=max_index_for_bernoulli_nb\n",
        "classifier_and_performance_with_pca[bernoulli_nb]"
      ],
      "execution_count": null,
      "outputs": [
        {
          "output_type": "execute_result",
          "data": {
            "text/plain": [
              "{'Accuracy': 0.7,\n",
              " 'Best_Parameters': {'alpha': 10.0},\n",
              " 'F1-Score': 0.7567567567567568,\n",
              " 'Precision': 0.6363636363636364,\n",
              " 'Recall': 0.9333333333333333}"
            ]
          },
          "metadata": {},
          "execution_count": 388
        }
      ]
    },
    {
      "cell_type": "code",
      "metadata": {
        "id": "lkvunD7bOq9f"
      },
      "source": [
        "best_model_pca=BernoulliNB(alpha=10.0)\n",
        "best_model_pca.fit(X.iloc[Maximum_Indices_with_pca['BernoulliNB'][0]],y.iloc[Maximum_Indices_with_pca['BernoulliNB'][0]])\n",
        "cm2=confusion_matrix(best_model_pca.predict(X.iloc[Maximum_Indices_with_pca['BernoulliNB'][1]]),y.iloc[Maximum_Indices_with_pca['BernoulliNB'][1]])"
      ],
      "execution_count": null,
      "outputs": []
    },
    {
      "cell_type": "code",
      "metadata": {
        "colab": {
          "base_uri": "https://localhost:8080/",
          "height": 391
        },
        "id": "8gfi0-iCPg_9",
        "outputId": "01136013-7c81-4571-8531-4654d87ea8a1"
      },
      "source": [
        "sns.heatmap(cm2,annot=True)"
      ],
      "execution_count": null,
      "outputs": [
        {
          "output_type": "execute_result",
          "data": {
            "text/plain": [
              "<matplotlib.axes._subplots.AxesSubplot at 0x7fcb21a804d0>"
            ]
          },
          "metadata": {},
          "execution_count": 390
        },
        {
          "output_type": "display_data",
          "data": {
            "image/png": "[encoded data removed]",
            "text/plain": [
              "<Figure size 864x432 with 2 Axes>"
            ]
          },
          "metadata": {
            "needs_background": "light"
          }
        }
      ]
    },
    {
      "cell_type": "code",
      "metadata": {
        "colab": {
          "base_uri": "https://localhost:8080/",
          "height": 404
        },
        "id": "07OvefCJaLiq",
        "outputId": "26aab025-1ffe-4518-9ae1-4e06ba65caf2"
      },
      "source": [
        "y_test=list(y.iloc[Maximum_Indices_with_pca['BernoulliNB'][1]])\n",
        "y_pred=best_model_pca.predict(X.iloc[Maximum_Indices_with_pca['BernoulliNB'][1]])\n",
        "plot_roc_curve(y_test,y_pred)"
      ],
      "execution_count": null,
      "outputs": [
        {
          "output_type": "display_data",
          "data": {
            "image/png": "[encoded data removed]",
            "text/plain": [
              "<Figure size 864x432 with 1 Axes>"
            ]
          },
          "metadata": {
            "needs_background": "light"
          }
        }
      ]
    },
    {
      "cell_type": "markdown",
      "metadata": {
        "id": "fJD20eE3-vKo"
      },
      "source": [
        "`Decision Tree Classifier`\n",
        "------------------------------------------------------------------------------------------"
      ]
    },
    {
      "cell_type": "markdown",
      "metadata": {
        "id": "-mWyhna4SS7k"
      },
      "source": [
        "Before applying PCA to data"
      ]
    },
    {
      "cell_type": "code",
      "metadata": {
        "id": "jeqKnXXWXuHm",
        "colab": {
          "base_uri": "https://localhost:8080/"
        },
        "outputId": "cc609be8-238b-4d82-decf-315dd136d824"
      },
      "source": [
        "decision_tree=DecisionTreeClassifier()\n",
        "parameters={'criterion':['gini', 'entropy'],\n",
        "                       'max_depth': [4, 5, 6, 7, 10, 12, 15],\n",
        "                       'min_samples_split':[2, 3, 4]}\n",
        "max_index_for_decision_tree=grid_search_cv(decision_tree,parameters,X,y)\n",
        "Maximum_Indices_without_pca['Decision_Tree']=max_index_for_decision_tree\n",
        "classifier_and_performance_without_pca[decision_tree]"
      ],
      "execution_count": null,
      "outputs": [
        {
          "output_type": "execute_result",
          "data": {
            "text/plain": [
              "{'Accuracy': 0.6333333333333333,\n",
              " 'Best_Parameters': {'criterion': 'gini',\n",
              "  'max_depth': 12,\n",
              "  'min_samples_split': 2},\n",
              " 'F1-Score': 0.6857142857142857,\n",
              " 'Precision': 0.6,\n",
              " 'Recall': 0.8}"
            ]
          },
          "metadata": {},
          "execution_count": 392
        }
      ]
    },
    {
      "cell_type": "code",
      "metadata": {
        "id": "nabm89o9Pq9R"
      },
      "source": [
        "best_model=DecisionTreeClassifier(criterion='gini',max_depth=4,min_samples_split=2)\n",
        "best_model.fit(X.iloc[Maximum_Indices_without_pca['Decision_Tree'][0]],y.iloc[Maximum_Indices_without_pca['Decision_Tree'][0]])\n",
        "cm1=confusion_matrix(best_model.predict(X.iloc[Maximum_Indices_without_pca['Decision_Tree'][1]]),y.iloc[Maximum_Indices_without_pca['Decision_Tree'][1]])"
      ],
      "execution_count": null,
      "outputs": []
    },
    {
      "cell_type": "code",
      "metadata": {
        "colab": {
          "base_uri": "https://localhost:8080/",
          "height": 391
        },
        "id": "ccoujCuNQlBH",
        "outputId": "d0ee02cc-64c6-4780-f2fe-25260e2a5014"
      },
      "source": [
        "sns.heatmap(cm1,annot=True)"
      ],
      "execution_count": null,
      "outputs": [
        {
          "output_type": "execute_result",
          "data": {
            "text/plain": [
              "<matplotlib.axes._subplots.AxesSubplot at 0x7fcb21997d50>"
            ]
          },
          "metadata": {},
          "execution_count": 394
        },
        {
          "output_type": "display_data",
          "data": {
            "image/png": "[encoded data removed]",
            "text/plain": [
              "<Figure size 864x432 with 2 Axes>"
            ]
          },
          "metadata": {
            "needs_background": "light"
          }
        }
      ]
    },
    {
      "cell_type": "markdown",
      "metadata": {
        "id": "_SZXEDJlSYgP"
      },
      "source": [
        "After applying PCA to data"
      ]
    },
    {
      "cell_type": "code",
      "metadata": {
        "id": "Ag7zfhyV85nO",
        "colab": {
          "base_uri": "https://localhost:8080/"
        },
        "outputId": "0bfe8e09-5274-4363-b045-1a488a48f334"
      },
      "source": [
        "decision_tree=DecisionTreeClassifier()\n",
        "parameters={'criterion':['gini', 'entropy'],\n",
        "                       'max_depth': [4, 5, 6, 7, 10, 12, 15],\n",
        "                       'min_samples_split':[2, 3, 4]}\n",
        "max_index_for_decision_tree=grid_search_cv(decision_tree,parameters,X_P,y,pca=True)\n",
        "Maximum_Indices_with_pca['Decision_Tree']=max_index_for_decision_tree\n",
        "classifier_and_performance_with_pca[decision_tree]"
      ],
      "execution_count": null,
      "outputs": [
        {
          "output_type": "execute_result",
          "data": {
            "text/plain": [
              "{'Accuracy': 0.6666666666666666,\n",
              " 'Best_Parameters': {'criterion': 'gini',\n",
              "  'max_depth': 5,\n",
              "  'min_samples_split': 2},\n",
              " 'F1-Score': 0.7222222222222222,\n",
              " 'Precision': 0.6190476190476191,\n",
              " 'Recall': 0.8666666666666667}"
            ]
          },
          "metadata": {},
          "execution_count": 395
        }
      ]
    },
    {
      "cell_type": "code",
      "metadata": {
        "id": "SmYPquaaQO0r"
      },
      "source": [
        "best_model_pca=DecisionTreeClassifier(criterion='gini',max_depth=5,min_samples_split=4)\n",
        "best_model_pca.fit(X.iloc[Maximum_Indices_with_pca['Decision_Tree'][0]],y.iloc[Maximum_Indices_with_pca['Decision_Tree'][0]])\n",
        "cm2=confusion_matrix(best_model_pca.predict(X.iloc[Maximum_Indices_with_pca['Decision_Tree'][1]]),y.iloc[Maximum_Indices_with_pca['Decision_Tree'][1]])"
      ],
      "execution_count": null,
      "outputs": []
    },
    {
      "cell_type": "code",
      "metadata": {
        "colab": {
          "base_uri": "https://localhost:8080/",
          "height": 395
        },
        "id": "sS52o_K6QpJN",
        "outputId": "cb166be3-827e-4266-e019-1636f4898d9f"
      },
      "source": [
        "sns.heatmap(cm2,annot=True)"
      ],
      "execution_count": null,
      "outputs": [
        {
          "output_type": "execute_result",
          "data": {
            "text/plain": [
              "<matplotlib.axes._subplots.AxesSubplot at 0x7fcb2192fd50>"
            ]
          },
          "metadata": {},
          "execution_count": 397
        },
        {
          "output_type": "display_data",
          "data": {
            "image/png": "[encoded data removed]",
            "text/plain": [
              "<Figure size 864x432 with 2 Axes>"
            ]
          },
          "metadata": {
            "needs_background": "light"
          }
        }
      ]
    },
    {
      "cell_type": "code",
      "metadata": {
        "colab": {
          "base_uri": "https://localhost:8080/",
          "height": 404
        },
        "id": "2WFwnzMMahWP",
        "outputId": "1b0799c0-0c51-46e2-8d8b-56c57a0f39fb"
      },
      "source": [
        "y_test=list(y.iloc[Maximum_Indices_with_pca['Decision_Tree'][1]])\n",
        "y_pred=best_model_pca.predict(X.iloc[Maximum_Indices_with_pca['Decision_Tree'][1]])\n",
        "plot_roc_curve(y_test,y_pred)"
      ],
      "execution_count": null,
      "outputs": [
        {
          "output_type": "display_data",
          "data": {
            "image/png": "[encoded data removed]",
            "text/plain": [
              "<Figure size 864x432 with 1 Axes>"
            ]
          },
          "metadata": {
            "needs_background": "light"
          }
        }
      ]
    },
    {
      "cell_type": "markdown",
      "metadata": {
        "id": "H37UiU01-z1O"
      },
      "source": [
        "`Comparision of Models before Applying PCA to data`\n",
        "--------------------------------------------------------------------------------------"
      ]
    },
    {
      "cell_type": "code",
      "metadata": {
        "id": "WrWSNylJhx53"
      },
      "source": [
        "comparision_before_pca=pd.DataFrame(classifier_and_performance_without_pca)"
      ],
      "execution_count": null,
      "outputs": []
    },
    {
      "cell_type": "code",
      "metadata": {
        "id": "71jogqyy0EnM"
      },
      "source": [
        "comparision_before_pca['Average']=[{},sum(list(comparision_before_pca.loc['Accuracy']))/len(list(comparision_before_pca.loc['Accuracy'])),sum(list(comparision_before_pca.loc['Recall']))/len(list(comparision_before_pca.loc['Recall'])),sum(list(comparision_before_pca.loc['Precision']))/len(list(comparision_before_pca.loc['Precision'])),sum(list(comparision_before_pca.loc['F1-Score']))/len(list(comparision_before_pca.loc['F1-Score']))]"
      ],
      "execution_count": null,
      "outputs": []
    },
    {
      "cell_type": "code",
      "metadata": {
        "id": "lE70FaSNhlrA",
        "colab": {
          "base_uri": "https://localhost:8080/",
          "height": 223
        },
        "outputId": "27602372-ff7e-4012-ae5e-ecc5cec17dae"
      },
      "source": [
        "comparision_before_pca"
      ],
      "execution_count": null,
      "outputs": [
        {
          "output_type": "execute_result",
          "data": {
            "text/html": [
              "<div>\n",
              "<style scoped>\n",
              "    .dataframe tbody tr th:only-of-type {\n",
              "        vertical-align: middle;\n",
              "    }\n",
              "\n",
              "    .dataframe tbody tr th {\n",
              "        vertical-align: top;\n",
              "    }\n",
              "\n",
              "    .dataframe thead th {\n",
              "        text-align: right;\n",
              "    }\n",
              "</style>\n",
              "<table border=\"1\" class=\"dataframe\">\n",
              "  <thead>\n",
              "    <tr style=\"text-align: right;\">\n",
              "      <th></th>\n",
              "      <th>Perceptron()</th>\n",
              "      <th>LogisticRegression()</th>\n",
              "      <th>KNeighborsClassifier()</th>\n",
              "      <th>SVC()</th>\n",
              "      <th>GaussianNB()</th>\n",
              "      <th>BernoulliNB()</th>\n",
              "      <th>DecisionTreeClassifier()</th>\n",
              "      <th>Average</th>\n",
              "    </tr>\n",
              "  </thead>\n",
              "  <tbody>\n",
              "    <tr>\n",
              "      <th>Best_Parameters</th>\n",
              "      <td>{'alpha': 0.001, 'max_iter': 100, 'penalty': '...</td>\n",
              "      <td>{'C': 10.0, 'max_iter': 100, 'penalty': 'l2'}</td>\n",
              "      <td>{'n_neighbors': 6, 'p': 2, 'weights': 'uniform'}</td>\n",
              "      <td>{'C': 10.0, 'gamma': 2.0, 'kernel': 'poly'}</td>\n",
              "      <td>{}</td>\n",
              "      <td>{'alpha': 0.0}</td>\n",
              "      <td>{'criterion': 'entropy', 'max_depth': 12, 'min...</td>\n",
              "      <td>{}</td>\n",
              "    </tr>\n",
              "    <tr>\n",
              "      <th>Accuracy</th>\n",
              "      <td>0.633333</td>\n",
              "      <td>0.833333</td>\n",
              "      <td>0.766667</td>\n",
              "      <td>0.774194</td>\n",
              "      <td>0.633333</td>\n",
              "      <td>0.5</td>\n",
              "      <td>0.633333</td>\n",
              "      <td>0.682028</td>\n",
              "    </tr>\n",
              "    <tr>\n",
              "      <th>Recall</th>\n",
              "      <td>0.933333</td>\n",
              "      <td>0.866667</td>\n",
              "      <td>0.733333</td>\n",
              "      <td>0.8125</td>\n",
              "      <td>0.8</td>\n",
              "      <td>1</td>\n",
              "      <td>0.666667</td>\n",
              "      <td>0.830357</td>\n",
              "    </tr>\n",
              "    <tr>\n",
              "      <th>Precision</th>\n",
              "      <td>0.583333</td>\n",
              "      <td>0.8125</td>\n",
              "      <td>0.785714</td>\n",
              "      <td>0.764706</td>\n",
              "      <td>0.6</td>\n",
              "      <td>0.5</td>\n",
              "      <td>0.625</td>\n",
              "      <td>0.667322</td>\n",
              "    </tr>\n",
              "    <tr>\n",
              "      <th>F1-Score</th>\n",
              "      <td>0.717949</td>\n",
              "      <td>0.83871</td>\n",
              "      <td>0.758621</td>\n",
              "      <td>0.787879</td>\n",
              "      <td>0.685714</td>\n",
              "      <td>0.666667</td>\n",
              "      <td>0.645161</td>\n",
              "      <td>0.728671</td>\n",
              "    </tr>\n",
              "  </tbody>\n",
              "</table>\n",
              "</div>"
            ],
            "text/plain": [
              "                                                      Perceptron()  ...   Average\n",
              "Best_Parameters  {'alpha': 0.001, 'max_iter': 100, 'penalty': '...  ...        {}\n",
              "Accuracy                                                  0.633333  ...  0.682028\n",
              "Recall                                                    0.933333  ...  0.830357\n",
              "Precision                                                 0.583333  ...  0.667322\n",
              "F1-Score                                                  0.717949  ...  0.728671\n",
              "\n",
              "[5 rows x 8 columns]"
            ]
          },
          "metadata": {},
          "execution_count": 322
        }
      ]
    },
    {
      "cell_type": "markdown",
      "metadata": {
        "id": "7jLmYzmp--ri"
      },
      "source": [
        "`Comparision of Models after applying PCA to data`\n",
        "--------------------------------------------------------------------------------------------------"
      ]
    },
    {
      "cell_type": "code",
      "metadata": {
        "id": "yFhsXzdbAsw_"
      },
      "source": [
        "comparision=pd.DataFrame(classifier_and_performance_with_pca)"
      ],
      "execution_count": null,
      "outputs": []
    },
    {
      "cell_type": "code",
      "metadata": {
        "id": "-wBgPMU1gr21"
      },
      "source": [
        "comparision['Average']=[{},sum(list(comparision.loc['Accuracy']))/len(list(comparision.loc['Accuracy'])),sum(list(comparision.loc['Recall']))/len(list(comparision.loc['Recall'])),sum(list(comparision.loc['Precision']))/len(list(comparision.loc['Precision'])),sum(list(comparision.loc['F1-Score']))/len(list(comparision.loc['F1-Score']))]"
      ],
      "execution_count": null,
      "outputs": []
    },
    {
      "cell_type": "code",
      "metadata": {
        "colab": {
          "base_uri": "https://localhost:8080/",
          "height": 223
        },
        "id": "8urECJ6Cg7f6",
        "outputId": "d39dce2f-25ea-42fd-be47-273da997fef6"
      },
      "source": [
        "comparision"
      ],
      "execution_count": null,
      "outputs": [
        {
          "output_type": "execute_result",
          "data": {
            "text/html": [
              "<div>\n",
              "<style scoped>\n",
              "    .dataframe tbody tr th:only-of-type {\n",
              "        vertical-align: middle;\n",
              "    }\n",
              "\n",
              "    .dataframe tbody tr th {\n",
              "        vertical-align: top;\n",
              "    }\n",
              "\n",
              "    .dataframe thead th {\n",
              "        text-align: right;\n",
              "    }\n",
              "</style>\n",
              "<table border=\"1\" class=\"dataframe\">\n",
              "  <thead>\n",
              "    <tr style=\"text-align: right;\">\n",
              "      <th></th>\n",
              "      <th>Perceptron()</th>\n",
              "      <th>LogisticRegression()</th>\n",
              "      <th>KNeighborsClassifier()</th>\n",
              "      <th>SVC()</th>\n",
              "      <th>GaussianNB()</th>\n",
              "      <th>BernoulliNB()</th>\n",
              "      <th>DecisionTreeClassifier()</th>\n",
              "      <th>Average</th>\n",
              "    </tr>\n",
              "  </thead>\n",
              "  <tbody>\n",
              "    <tr>\n",
              "      <th>Best_Parameters</th>\n",
              "      <td>{'alpha': 1e-05, 'max_iter': 1000, 'penalty': ...</td>\n",
              "      <td>{'C': 5.0, 'max_iter': 1000, 'penalty': 'l2'}</td>\n",
              "      <td>{'n_neighbors': 4, 'p': 2, 'weights': 'uniform'}</td>\n",
              "      <td>{'C': 10.0, 'gamma': 2.0, 'kernel': 'rbf'}</td>\n",
              "      <td>{}</td>\n",
              "      <td>{'alpha': 10.0}</td>\n",
              "      <td>{'criterion': 'gini', 'max_depth': 5, 'min_sam...</td>\n",
              "      <td>{}</td>\n",
              "    </tr>\n",
              "    <tr>\n",
              "      <th>Accuracy</th>\n",
              "      <td>0.8</td>\n",
              "      <td>0.766667</td>\n",
              "      <td>0.7</td>\n",
              "      <td>0.733333</td>\n",
              "      <td>0.666667</td>\n",
              "      <td>0.7</td>\n",
              "      <td>0.6</td>\n",
              "      <td>0.709524</td>\n",
              "    </tr>\n",
              "    <tr>\n",
              "      <th>Recall</th>\n",
              "      <td>0.933333</td>\n",
              "      <td>0.933333</td>\n",
              "      <td>0.6</td>\n",
              "      <td>0.733333</td>\n",
              "      <td>0.866667</td>\n",
              "      <td>0.933333</td>\n",
              "      <td>0.733333</td>\n",
              "      <td>0.819048</td>\n",
              "    </tr>\n",
              "    <tr>\n",
              "      <th>Precision</th>\n",
              "      <td>0.736842</td>\n",
              "      <td>0.7</td>\n",
              "      <td>0.75</td>\n",
              "      <td>0.733333</td>\n",
              "      <td>0.619048</td>\n",
              "      <td>0.636364</td>\n",
              "      <td>0.578947</td>\n",
              "      <td>0.679219</td>\n",
              "    </tr>\n",
              "    <tr>\n",
              "      <th>F1-Score</th>\n",
              "      <td>0.823529</td>\n",
              "      <td>0.8</td>\n",
              "      <td>0.666667</td>\n",
              "      <td>0.733333</td>\n",
              "      <td>0.722222</td>\n",
              "      <td>0.756757</td>\n",
              "      <td>0.647059</td>\n",
              "      <td>0.735652</td>\n",
              "    </tr>\n",
              "  </tbody>\n",
              "</table>\n",
              "</div>"
            ],
            "text/plain": [
              "                                                      Perceptron()  ...   Average\n",
              "Best_Parameters  {'alpha': 1e-05, 'max_iter': 1000, 'penalty': ...  ...        {}\n",
              "Accuracy                                                       0.8  ...  0.709524\n",
              "Recall                                                    0.933333  ...  0.819048\n",
              "Precision                                                 0.736842  ...  0.679219\n",
              "F1-Score                                                  0.823529  ...  0.735652\n",
              "\n",
              "[5 rows x 8 columns]"
            ]
          },
          "metadata": {},
          "execution_count": 325
        }
      ]
    },
    {
      "cell_type": "markdown",
      "metadata": {
        "id": "SlQdxlSXSn1N"
      },
      "source": [
        "# `Conclusion`\n",
        "-------------------------------------------------------------------------------------------"
      ]
    },
    {
      "cell_type": "markdown",
      "metadata": {
        "id": "asQ1H8SUSvie"
      },
      "source": [
        "After applying all possible models to data, it can be observed that:\n",
        "\n",
        "1. On average, the performance metrics are comparably higher when the dimension of data is reduced using PCA.\n",
        "2. Though on average the reduced data gives higher performance metrics, there were situations when the original data provided higher performance metrics. So, the best cases can be chosen according to scenario.\n",
        "3. For this particular data, \n",
        "      \n",
        "      * If PCA is not applied to the data, then Logistic Regression can be used for predictions since it has higher accuracy and f1-score when compared to others.\n",
        "      * If PCA is applied to the data, then Perceptron can be used for predictions since it has higher accuracy and f1-score when compared to others."
      ]
    }
  ]
}